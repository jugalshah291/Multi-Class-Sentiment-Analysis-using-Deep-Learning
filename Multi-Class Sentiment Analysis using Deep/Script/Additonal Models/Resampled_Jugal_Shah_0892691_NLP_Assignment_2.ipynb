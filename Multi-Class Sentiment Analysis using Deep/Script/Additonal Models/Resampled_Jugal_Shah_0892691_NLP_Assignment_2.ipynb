{
  "nbformat": 4,
  "nbformat_minor": 0,
  "metadata": {
    "colab": {
      "name": "Test_TrainTest_Resampled.ipynb",
      "provenance": [],
      "collapsed_sections": []
    },
    "kernelspec": {
      "name": "python3",
      "display_name": "Python 3"
    },
    "accelerator": "GPU"
  },
  "cells": [
    {
      "cell_type": "code",
      "metadata": {
        "id": "5hjr0tgPfk61",
        "colab_type": "code",
        "outputId": "fbb93464-cfff-4dcd-a481-4eabfaea8627",
        "colab": {
          "base_uri": "https://localhost:8080/",
          "height": 196
        }
      },
      "source": [
        "#import libraries\n",
        "import time\n",
        "import pandas as pd\n",
        "import csv\n",
        "import numpy as np\n",
        "import matplotlib.pyplot as plt\n",
        "import nltk\n",
        "import re\n",
        "nltk.download('punkt')\n",
        "nltk.download('stopwords')\n",
        "nltk.download('wordnet')\n",
        "#Data Cleaning\n",
        "from nltk.corpus import stopwords\n",
        "from nltk.stem import WordNetLemmatizer, PorterStemmer, LancasterStemmer\n",
        "import string\n",
        "#Model Evaludation\n",
        "from sklearn.metrics import accuracy_score\n",
        "from sklearn import metrics\n",
        "#Model Feature Extraction\n",
        "from sklearn.feature_extraction.text import TfidfVectorizer, CountVectorizer\n",
        "from sklearn.model_selection import train_test_split\n",
        "from keras.utils import to_categorical"
      ],
      "execution_count": 1,
      "outputs": [
        {
          "output_type": "stream",
          "text": [
            "[nltk_data] Downloading package punkt to /root/nltk_data...\n",
            "[nltk_data]   Package punkt is already up-to-date!\n",
            "[nltk_data] Downloading package stopwords to /root/nltk_data...\n",
            "[nltk_data]   Package stopwords is already up-to-date!\n",
            "[nltk_data] Downloading package wordnet to /root/nltk_data...\n",
            "[nltk_data]   Package wordnet is already up-to-date!\n"
          ],
          "name": "stdout"
        },
        {
          "output_type": "stream",
          "text": [
            "Using TensorFlow backend.\n"
          ],
          "name": "stderr"
        },
        {
          "output_type": "display_data",
          "data": {
            "text/html": [
              "<p style=\"color: red;\">\n",
              "The default version of TensorFlow in Colab will soon switch to TensorFlow 2.x.<br>\n",
              "We recommend you <a href=\"https://www.tensorflow.org/guide/migrate\" target=\"_blank\">upgrade</a> now \n",
              "or ensure your notebook will continue to use TensorFlow 1.x via the <code>%tensorflow_version 1.x</code> magic:\n",
              "<a href=\"https://colab.research.google.com/notebooks/tensorflow_version.ipynb\" target=\"_blank\">more info</a>.</p>\n"
            ],
            "text/plain": [
              "<IPython.core.display.HTML object>"
            ]
          },
          "metadata": {
            "tags": []
          }
        }
      ]
    },
    {
      "cell_type": "code",
      "metadata": {
        "id": "YRxzWV0eqgMC",
        "colab_type": "code",
        "colab": {}
      },
      "source": [
        "porter = PorterStemmer()\n",
        "lancaster=LancasterStemmer()\n",
        "wordnet_lemmatizer = WordNetLemmatizer()\n",
        "stopwords_en = stopwords.words(\"english\")\n",
        "punctuations=\"?:!.,;'\\\"-()*\""
      ],
      "execution_count": 0,
      "outputs": []
    },
    {
      "cell_type": "code",
      "metadata": {
        "id": "ANVKdUodqZP6",
        "colab_type": "code",
        "colab": {}
      },
      "source": [
        "#utility function to clean the dataset\n",
        "def datacleaning(remove_stopwords,useStemming,useLemma,removePuncs,newdata):\n",
        "  cleanReview=[]\n",
        "  for x in range(0,len(newdata.values)):\n",
        "    tmpReview=[]\n",
        "    for w in nltk.word_tokenize(newdata.values[x]):\n",
        "        newWord = str(w).lower() #Set newWork to be the updated word\n",
        "        if remove_stopwords and (w in stopwords_en):#if the word is a stopword & we want to remove stopwords\n",
        "            continue #skip the word and don’t had it to the normalized review\n",
        "        if removePuncs and (w in punctuations):#if the word is a punc. & we want to remove punctuations\n",
        "            continue #skip the word and don’t had it to the normalized review\n",
        "        if useStemming: #if useStemming is set to True\n",
        "            #Keep one stemmer commented out\n",
        "            #newWord = porter.stem(newWord) #User porter stemmer\n",
        "            newWord = lancaster.stem(newWord) #Use Lancaster stemmer\n",
        "        if useLemma:\n",
        "            newWord = wordnet_lemmatizer.lemmatize(newWord)\n",
        "        tmpReview.append(newWord) #Add normalized word to the tmp review\n",
        "    cleanReview.append(' '.join(tmpReview))\n",
        "  return cleanReview"
      ],
      "execution_count": 0,
      "outputs": []
    },
    {
      "cell_type": "code",
      "metadata": {
        "id": "L9UBMhSLiEs1",
        "colab_type": "code",
        "colab": {}
      },
      "source": [
        "#Read the dataset\n",
        "url= 'https://raw.githubusercontent.com/cacoderquan/Sentiment-Analysis-on-the-Rotten-Tomatoes-movie-review-dataset/master/train.tsv'\n",
        "dataset = pd.read_csv(url, sep='\\t')"
      ],
      "execution_count": 0,
      "outputs": []
    },
    {
      "cell_type": "code",
      "metadata": {
        "id": "DzxvReBZiH7M",
        "colab_type": "code",
        "outputId": "31936d91-44e0-4866-bd03-795b06e3d6bf",
        "colab": {
          "base_uri": "https://localhost:8080/",
          "height": 36
        }
      },
      "source": [
        "dataset.shape"
      ],
      "execution_count": 5,
      "outputs": [
        {
          "output_type": "execute_result",
          "data": {
            "text/plain": [
              "(156060, 4)"
            ]
          },
          "metadata": {
            "tags": []
          },
          "execution_count": 5
        }
      ]
    },
    {
      "cell_type": "code",
      "metadata": {
        "id": "-l6nbQlYiKZP",
        "colab_type": "code",
        "outputId": "59c05377-7446-4714-b2b6-9663ea8a46df",
        "colab": {
          "base_uri": "https://localhost:8080/",
          "height": 363
        }
      },
      "source": [
        "#Top 10 Rows of dataset\n",
        "dataset.head(10)"
      ],
      "execution_count": 6,
      "outputs": [
        {
          "output_type": "execute_result",
          "data": {
            "text/html": [
              "<div>\n",
              "<style scoped>\n",
              "    .dataframe tbody tr th:only-of-type {\n",
              "        vertical-align: middle;\n",
              "    }\n",
              "\n",
              "    .dataframe tbody tr th {\n",
              "        vertical-align: top;\n",
              "    }\n",
              "\n",
              "    .dataframe thead th {\n",
              "        text-align: right;\n",
              "    }\n",
              "</style>\n",
              "<table border=\"1\" class=\"dataframe\">\n",
              "  <thead>\n",
              "    <tr style=\"text-align: right;\">\n",
              "      <th></th>\n",
              "      <th>PhraseId</th>\n",
              "      <th>SentenceId</th>\n",
              "      <th>Phrase</th>\n",
              "      <th>Sentiment</th>\n",
              "    </tr>\n",
              "  </thead>\n",
              "  <tbody>\n",
              "    <tr>\n",
              "      <th>0</th>\n",
              "      <td>1</td>\n",
              "      <td>1</td>\n",
              "      <td>A series of escapades demonstrating the adage ...</td>\n",
              "      <td>1</td>\n",
              "    </tr>\n",
              "    <tr>\n",
              "      <th>1</th>\n",
              "      <td>2</td>\n",
              "      <td>1</td>\n",
              "      <td>A series of escapades demonstrating the adage ...</td>\n",
              "      <td>2</td>\n",
              "    </tr>\n",
              "    <tr>\n",
              "      <th>2</th>\n",
              "      <td>3</td>\n",
              "      <td>1</td>\n",
              "      <td>A series</td>\n",
              "      <td>2</td>\n",
              "    </tr>\n",
              "    <tr>\n",
              "      <th>3</th>\n",
              "      <td>4</td>\n",
              "      <td>1</td>\n",
              "      <td>A</td>\n",
              "      <td>2</td>\n",
              "    </tr>\n",
              "    <tr>\n",
              "      <th>4</th>\n",
              "      <td>5</td>\n",
              "      <td>1</td>\n",
              "      <td>series</td>\n",
              "      <td>2</td>\n",
              "    </tr>\n",
              "    <tr>\n",
              "      <th>5</th>\n",
              "      <td>6</td>\n",
              "      <td>1</td>\n",
              "      <td>of escapades demonstrating the adage that what...</td>\n",
              "      <td>2</td>\n",
              "    </tr>\n",
              "    <tr>\n",
              "      <th>6</th>\n",
              "      <td>7</td>\n",
              "      <td>1</td>\n",
              "      <td>of</td>\n",
              "      <td>2</td>\n",
              "    </tr>\n",
              "    <tr>\n",
              "      <th>7</th>\n",
              "      <td>8</td>\n",
              "      <td>1</td>\n",
              "      <td>escapades demonstrating the adage that what is...</td>\n",
              "      <td>2</td>\n",
              "    </tr>\n",
              "    <tr>\n",
              "      <th>8</th>\n",
              "      <td>9</td>\n",
              "      <td>1</td>\n",
              "      <td>escapades</td>\n",
              "      <td>2</td>\n",
              "    </tr>\n",
              "    <tr>\n",
              "      <th>9</th>\n",
              "      <td>10</td>\n",
              "      <td>1</td>\n",
              "      <td>demonstrating the adage that what is good for ...</td>\n",
              "      <td>2</td>\n",
              "    </tr>\n",
              "  </tbody>\n",
              "</table>\n",
              "</div>"
            ],
            "text/plain": [
              "   PhraseId  ...  Sentiment\n",
              "0         1  ...          1\n",
              "1         2  ...          2\n",
              "2         3  ...          2\n",
              "3         4  ...          2\n",
              "4         5  ...          2\n",
              "5         6  ...          2\n",
              "6         7  ...          2\n",
              "7         8  ...          2\n",
              "8         9  ...          2\n",
              "9        10  ...          2\n",
              "\n",
              "[10 rows x 4 columns]"
            ]
          },
          "metadata": {
            "tags": []
          },
          "execution_count": 6
        }
      ]
    },
    {
      "cell_type": "code",
      "metadata": {
        "id": "h8jS6ZA1ifKX",
        "colab_type": "code",
        "outputId": "0681b08a-6b9f-4cf9-cb34-fb89957c10c7",
        "colab": {
          "base_uri": "https://localhost:8080/",
          "height": 129
        }
      },
      "source": [
        "dataset['Sentiment'].value_counts()"
      ],
      "execution_count": 7,
      "outputs": [
        {
          "output_type": "execute_result",
          "data": {
            "text/plain": [
              "2    79582\n",
              "3    32927\n",
              "1    27273\n",
              "4     9206\n",
              "0     7072\n",
              "Name: Sentiment, dtype: int64"
            ]
          },
          "metadata": {
            "tags": []
          },
          "execution_count": 7
        }
      ]
    },
    {
      "cell_type": "code",
      "metadata": {
        "id": "uNl0Cntvju1D",
        "colab_type": "code",
        "colab": {}
      },
      "source": [
        "X_train, X_test, Y_train, Y_test = train_test_split(dataset['Phrase'],dataset['Sentiment'], test_size=0.3, random_state=2003)"
      ],
      "execution_count": 0,
      "outputs": []
    },
    {
      "cell_type": "code",
      "metadata": {
        "id": "TRUcDclajvkx",
        "colab_type": "code",
        "outputId": "dcde5929-6496-4c18-8785-38fc5d0a322a",
        "colab": {
          "base_uri": "https://localhost:8080/",
          "height": 54
        }
      },
      "source": [
        "print(X_train.shape)\n",
        "print(X_test.shape)"
      ],
      "execution_count": 9,
      "outputs": [
        {
          "output_type": "stream",
          "text": [
            "(109242,)\n",
            "(46818,)\n"
          ],
          "name": "stdout"
        }
      ]
    },
    {
      "cell_type": "code",
      "metadata": {
        "id": "yBtzevCds_P4",
        "colab_type": "code",
        "outputId": "b579db08-754b-47f9-d584-73b87f61982c",
        "colab": {
          "base_uri": "https://localhost:8080/",
          "height": 363
        }
      },
      "source": [
        "temp_clean=pd.concat([X_train,Y_train],axis=1)\n",
        "temp_clean.head(10)"
      ],
      "execution_count": 10,
      "outputs": [
        {
          "output_type": "execute_result",
          "data": {
            "text/html": [
              "<div>\n",
              "<style scoped>\n",
              "    .dataframe tbody tr th:only-of-type {\n",
              "        vertical-align: middle;\n",
              "    }\n",
              "\n",
              "    .dataframe tbody tr th {\n",
              "        vertical-align: top;\n",
              "    }\n",
              "\n",
              "    .dataframe thead th {\n",
              "        text-align: right;\n",
              "    }\n",
              "</style>\n",
              "<table border=\"1\" class=\"dataframe\">\n",
              "  <thead>\n",
              "    <tr style=\"text-align: right;\">\n",
              "      <th></th>\n",
              "      <th>Phrase</th>\n",
              "      <th>Sentiment</th>\n",
              "    </tr>\n",
              "  </thead>\n",
              "  <tbody>\n",
              "    <tr>\n",
              "      <th>13718</th>\n",
              "      <td>their ages</td>\n",
              "      <td>2</td>\n",
              "    </tr>\n",
              "    <tr>\n",
              "      <th>91191</th>\n",
              "      <td>gorgeous epic</td>\n",
              "      <td>4</td>\n",
              "    </tr>\n",
              "    <tr>\n",
              "      <th>97160</th>\n",
              "      <td>fans of the gross-out comedy</td>\n",
              "      <td>2</td>\n",
              "    </tr>\n",
              "    <tr>\n",
              "      <th>143983</th>\n",
              "      <td>The filmmaker ascends , literally , to the Oly...</td>\n",
              "      <td>4</td>\n",
              "    </tr>\n",
              "    <tr>\n",
              "      <th>37501</th>\n",
              "      <td>twisting mystery</td>\n",
              "      <td>2</td>\n",
              "    </tr>\n",
              "    <tr>\n",
              "      <th>44396</th>\n",
              "      <td>including mine -RRB-</td>\n",
              "      <td>2</td>\n",
              "    </tr>\n",
              "    <tr>\n",
              "      <th>40166</th>\n",
              "      <td>more enjoyable than its predecessor</td>\n",
              "      <td>3</td>\n",
              "    </tr>\n",
              "    <tr>\n",
              "      <th>30005</th>\n",
              "      <td>film that 's flawed and brilliant in equal mea...</td>\n",
              "      <td>3</td>\n",
              "    </tr>\n",
              "    <tr>\n",
              "      <th>67570</th>\n",
              "      <td>bask</td>\n",
              "      <td>2</td>\n",
              "    </tr>\n",
              "    <tr>\n",
              "      <th>89575</th>\n",
              "      <td>If ever a concept came handed down from the mo...</td>\n",
              "      <td>4</td>\n",
              "    </tr>\n",
              "  </tbody>\n",
              "</table>\n",
              "</div>"
            ],
            "text/plain": [
              "                                                   Phrase  Sentiment\n",
              "13718                                          their ages          2\n",
              "91191                                       gorgeous epic          4\n",
              "97160                        fans of the gross-out comedy          2\n",
              "143983  The filmmaker ascends , literally , to the Oly...          4\n",
              "37501                                    twisting mystery          2\n",
              "44396                                including mine -RRB-          2\n",
              "40166                 more enjoyable than its predecessor          3\n",
              "30005   film that 's flawed and brilliant in equal mea...          3\n",
              "67570                                                bask          2\n",
              "89575   If ever a concept came handed down from the mo...          4"
            ]
          },
          "metadata": {
            "tags": []
          },
          "execution_count": 10
        }
      ]
    },
    {
      "cell_type": "code",
      "metadata": {
        "id": "IuYmj1BfrPGu",
        "colab_type": "code",
        "colab": {}
      },
      "source": [
        "#Train data cleaning\n",
        "clean_x_train=datacleaning(True,False,True,True,X_train)"
      ],
      "execution_count": 0,
      "outputs": []
    },
    {
      "cell_type": "code",
      "metadata": {
        "id": "cNG6NqOGsOFx",
        "colab_type": "code",
        "colab": {}
      },
      "source": [
        "temp_clean['Cleaned']=clean_x_train"
      ],
      "execution_count": 0,
      "outputs": []
    },
    {
      "cell_type": "code",
      "metadata": {
        "id": "RporScD6uJXW",
        "colab_type": "code",
        "outputId": "f52d30bd-bacb-4b45-c2e7-c5912084ba62",
        "colab": {
          "base_uri": "https://localhost:8080/",
          "height": 363
        }
      },
      "source": [
        "temp_clean.head(10)"
      ],
      "execution_count": 13,
      "outputs": [
        {
          "output_type": "execute_result",
          "data": {
            "text/html": [
              "<div>\n",
              "<style scoped>\n",
              "    .dataframe tbody tr th:only-of-type {\n",
              "        vertical-align: middle;\n",
              "    }\n",
              "\n",
              "    .dataframe tbody tr th {\n",
              "        vertical-align: top;\n",
              "    }\n",
              "\n",
              "    .dataframe thead th {\n",
              "        text-align: right;\n",
              "    }\n",
              "</style>\n",
              "<table border=\"1\" class=\"dataframe\">\n",
              "  <thead>\n",
              "    <tr style=\"text-align: right;\">\n",
              "      <th></th>\n",
              "      <th>Phrase</th>\n",
              "      <th>Sentiment</th>\n",
              "      <th>Cleaned</th>\n",
              "    </tr>\n",
              "  </thead>\n",
              "  <tbody>\n",
              "    <tr>\n",
              "      <th>13718</th>\n",
              "      <td>their ages</td>\n",
              "      <td>2</td>\n",
              "      <td>age</td>\n",
              "    </tr>\n",
              "    <tr>\n",
              "      <th>91191</th>\n",
              "      <td>gorgeous epic</td>\n",
              "      <td>4</td>\n",
              "      <td>gorgeous epic</td>\n",
              "    </tr>\n",
              "    <tr>\n",
              "      <th>97160</th>\n",
              "      <td>fans of the gross-out comedy</td>\n",
              "      <td>2</td>\n",
              "      <td>fan gross-out comedy</td>\n",
              "    </tr>\n",
              "    <tr>\n",
              "      <th>143983</th>\n",
              "      <td>The filmmaker ascends , literally , to the Oly...</td>\n",
              "      <td>4</td>\n",
              "      <td>the filmmaker ascends literally olympus art world</td>\n",
              "    </tr>\n",
              "    <tr>\n",
              "      <th>37501</th>\n",
              "      <td>twisting mystery</td>\n",
              "      <td>2</td>\n",
              "      <td>twisting mystery</td>\n",
              "    </tr>\n",
              "    <tr>\n",
              "      <th>44396</th>\n",
              "      <td>including mine -RRB-</td>\n",
              "      <td>2</td>\n",
              "      <td>including mine -rrb-</td>\n",
              "    </tr>\n",
              "    <tr>\n",
              "      <th>40166</th>\n",
              "      <td>more enjoyable than its predecessor</td>\n",
              "      <td>3</td>\n",
              "      <td>enjoyable predecessor</td>\n",
              "    </tr>\n",
              "    <tr>\n",
              "      <th>30005</th>\n",
              "      <td>film that 's flawed and brilliant in equal mea...</td>\n",
              "      <td>3</td>\n",
              "      <td>film 's flawed brilliant equal measure</td>\n",
              "    </tr>\n",
              "    <tr>\n",
              "      <th>67570</th>\n",
              "      <td>bask</td>\n",
              "      <td>2</td>\n",
              "      <td>bask</td>\n",
              "    </tr>\n",
              "    <tr>\n",
              "      <th>89575</th>\n",
              "      <td>If ever a concept came handed down from the mo...</td>\n",
              "      <td>4</td>\n",
              "      <td>if ever concept came handed movie god silver p...</td>\n",
              "    </tr>\n",
              "  </tbody>\n",
              "</table>\n",
              "</div>"
            ],
            "text/plain": [
              "                                                   Phrase  ...                                            Cleaned\n",
              "13718                                          their ages  ...                                                age\n",
              "91191                                       gorgeous epic  ...                                      gorgeous epic\n",
              "97160                        fans of the gross-out comedy  ...                               fan gross-out comedy\n",
              "143983  The filmmaker ascends , literally , to the Oly...  ...  the filmmaker ascends literally olympus art world\n",
              "37501                                    twisting mystery  ...                                   twisting mystery\n",
              "44396                                including mine -RRB-  ...                               including mine -rrb-\n",
              "40166                 more enjoyable than its predecessor  ...                              enjoyable predecessor\n",
              "30005   film that 's flawed and brilliant in equal mea...  ...             film 's flawed brilliant equal measure\n",
              "67570                                                bask  ...                                               bask\n",
              "89575   If ever a concept came handed down from the mo...  ...  if ever concept came handed movie god silver p...\n",
              "\n",
              "[10 rows x 3 columns]"
            ]
          },
          "metadata": {
            "tags": []
          },
          "execution_count": 13
        }
      ]
    },
    {
      "cell_type": "code",
      "metadata": {
        "id": "2Rs2XucSwmZR",
        "colab_type": "code",
        "colab": {}
      },
      "source": [
        "#check for empty entries after removing stop mords\n",
        "#list(temp_clean['Cleaned']=='').count(True)"
      ],
      "execution_count": 0,
      "outputs": []
    },
    {
      "cell_type": "code",
      "metadata": {
        "id": "8YjFJpHjxPih",
        "colab_type": "code",
        "colab": {}
      },
      "source": [
        "#drop empty entries\n",
        "#nan_value = float(\"NaN\")\n",
        "#temp_clean.replace(\"\", nan_value, inplace=True)\n",
        "#temp_clean.dropna(subset = [\"Cleaned\"], inplace=True)"
      ],
      "execution_count": 0,
      "outputs": []
    },
    {
      "cell_type": "code",
      "metadata": {
        "id": "CvHMRD_uGLiF",
        "colab_type": "code",
        "colab": {}
      },
      "source": [
        "#drop duplicates\n",
        "#temp_clean.drop_duplicates(subset=['Cleaned', 'Sentiment'],inplace=True)"
      ],
      "execution_count": 0,
      "outputs": []
    },
    {
      "cell_type": "code",
      "metadata": {
        "id": "OZ2m2H9qyTOx",
        "colab_type": "code",
        "outputId": "5b9b30a6-5639-462c-a237-64ccd8043be5",
        "colab": {
          "base_uri": "https://localhost:8080/",
          "height": 36
        }
      },
      "source": [
        "temp_clean.shape"
      ],
      "execution_count": 17,
      "outputs": [
        {
          "output_type": "execute_result",
          "data": {
            "text/plain": [
              "(109242, 3)"
            ]
          },
          "metadata": {
            "tags": []
          },
          "execution_count": 17
        }
      ]
    },
    {
      "cell_type": "code",
      "metadata": {
        "id": "w5-OA54gGJyR",
        "colab_type": "code",
        "outputId": "2d94d772-8eb2-48fd-eaa9-77fed55fa482",
        "colab": {
          "base_uri": "https://localhost:8080/",
          "height": 129
        }
      },
      "source": [
        "temp_clean['Sentiment'].value_counts()"
      ],
      "execution_count": 18,
      "outputs": [
        {
          "output_type": "execute_result",
          "data": {
            "text/plain": [
              "2    55595\n",
              "3    23055\n",
              "1    19203\n",
              "4     6468\n",
              "0     4921\n",
              "Name: Sentiment, dtype: int64"
            ]
          },
          "metadata": {
            "tags": []
          },
          "execution_count": 18
        }
      ]
    },
    {
      "cell_type": "code",
      "metadata": {
        "id": "YGtXpGljxX7t",
        "colab_type": "code",
        "colab": {}
      },
      "source": [
        "from sklearn.utils import resample\n",
        "sentiment_0=temp_clean[temp_clean['Sentiment']==0]\n",
        "sentiment_1=temp_clean[temp_clean['Sentiment']==1]\n",
        "sentiment_2=temp_clean[temp_clean['Sentiment']==2]\n",
        "sentiment_3=temp_clean[temp_clean['Sentiment']==3]\n",
        "sentiment_4=temp_clean[temp_clean['Sentiment']==4]\n",
        "\n",
        "sentiment_0_sample=resample(sentiment_0,replace=True,n_samples=55000,random_state=123)\n",
        "sentiment_1_sample=resample(sentiment_1,replace=True,n_samples=55000,random_state=123)\n",
        "#sentiment_2_sample=resample(sentiment_2,replace=True,n_samples=55000,random_state=123)\n",
        "sentiment_3_sample=resample(sentiment_3,replace=True,n_samples=55000,random_state=123)\n",
        "sentiment_4_sample=resample(sentiment_4,replace=True,n_samples=55000,random_state=123)\n",
        "\n",
        "\n",
        "temp_dataset_upsampled = pd.concat([sentiment_2, sentiment_3_sample,sentiment_1_sample,sentiment_4_sample,sentiment_0_sample])"
      ],
      "execution_count": 0,
      "outputs": []
    },
    {
      "cell_type": "code",
      "metadata": {
        "id": "vdVEY9QtHYFA",
        "colab_type": "code",
        "colab": {}
      },
      "source": [
        "temp_dataset_upsampled=temp_dataset_upsampled.sample(frac=1)"
      ],
      "execution_count": 0,
      "outputs": []
    },
    {
      "cell_type": "code",
      "metadata": {
        "id": "wR1fAdrTHf8Z",
        "colab_type": "code",
        "outputId": "7d4e2619-c285-4e12-ad85-3b975f232b80",
        "colab": {
          "base_uri": "https://localhost:8080/",
          "height": 363
        }
      },
      "source": [
        "temp_dataset_upsampled.head(10)"
      ],
      "execution_count": 21,
      "outputs": [
        {
          "output_type": "execute_result",
          "data": {
            "text/html": [
              "<div>\n",
              "<style scoped>\n",
              "    .dataframe tbody tr th:only-of-type {\n",
              "        vertical-align: middle;\n",
              "    }\n",
              "\n",
              "    .dataframe tbody tr th {\n",
              "        vertical-align: top;\n",
              "    }\n",
              "\n",
              "    .dataframe thead th {\n",
              "        text-align: right;\n",
              "    }\n",
              "</style>\n",
              "<table border=\"1\" class=\"dataframe\">\n",
              "  <thead>\n",
              "    <tr style=\"text-align: right;\">\n",
              "      <th></th>\n",
              "      <th>Phrase</th>\n",
              "      <th>Sentiment</th>\n",
              "      <th>Cleaned</th>\n",
              "    </tr>\n",
              "  </thead>\n",
              "  <tbody>\n",
              "    <tr>\n",
              "      <th>2852</th>\n",
              "      <td>filmmaking with a visually masterful work of q...</td>\n",
              "      <td>4</td>\n",
              "      <td>filmmaking visually masterful work quiet power</td>\n",
              "    </tr>\n",
              "    <tr>\n",
              "      <th>87383</th>\n",
              "      <td>works so well for the first 89 minutes ,</td>\n",
              "      <td>3</td>\n",
              "      <td>work well first 89 minute</td>\n",
              "    </tr>\n",
              "    <tr>\n",
              "      <th>134573</th>\n",
              "      <td>falls far short of poetry</td>\n",
              "      <td>1</td>\n",
              "      <td>fall far short poetry</td>\n",
              "    </tr>\n",
              "    <tr>\n",
              "      <th>3993</th>\n",
              "      <td>Spielberg 's realization of a near-future Amer...</td>\n",
              "      <td>4</td>\n",
              "      <td>spielberg 's realization near-future america m...</td>\n",
              "    </tr>\n",
              "    <tr>\n",
              "      <th>132434</th>\n",
              "      <td>well acted by the four primary actors</td>\n",
              "      <td>4</td>\n",
              "      <td>well acted four primary actor</td>\n",
              "    </tr>\n",
              "    <tr>\n",
              "      <th>20965</th>\n",
              "      <td>a good deal funnier than his original</td>\n",
              "      <td>4</td>\n",
              "      <td>good deal funnier original</td>\n",
              "    </tr>\n",
              "    <tr>\n",
              "      <th>43246</th>\n",
              "      <td>meaningful for both kids and church-wary adults</td>\n",
              "      <td>4</td>\n",
              "      <td>meaningful kid church-wary adult</td>\n",
              "    </tr>\n",
              "    <tr>\n",
              "      <th>107717</th>\n",
              "      <td>This rich , bittersweet Israeli documentary , ...</td>\n",
              "      <td>3</td>\n",
              "      <td>this rich bittersweet israeli documentary life...</td>\n",
              "    </tr>\n",
              "    <tr>\n",
              "      <th>53890</th>\n",
              "      <td>Is an Actress works</td>\n",
              "      <td>2</td>\n",
              "      <td>is actress work</td>\n",
              "    </tr>\n",
              "    <tr>\n",
              "      <th>48962</th>\n",
              "      <td>The Apple</td>\n",
              "      <td>2</td>\n",
              "      <td>the apple</td>\n",
              "    </tr>\n",
              "  </tbody>\n",
              "</table>\n",
              "</div>"
            ],
            "text/plain": [
              "                                                   Phrase  ...                                            Cleaned\n",
              "2852    filmmaking with a visually masterful work of q...  ...     filmmaking visually masterful work quiet power\n",
              "87383            works so well for the first 89 minutes ,  ...                          work well first 89 minute\n",
              "134573                          falls far short of poetry  ...                              fall far short poetry\n",
              "3993    Spielberg 's realization of a near-future Amer...  ...  spielberg 's realization near-future america m...\n",
              "132434              well acted by the four primary actors  ...                      well acted four primary actor\n",
              "20965               a good deal funnier than his original  ...                         good deal funnier original\n",
              "43246     meaningful for both kids and church-wary adults  ...                   meaningful kid church-wary adult\n",
              "107717  This rich , bittersweet Israeli documentary , ...  ...  this rich bittersweet israeli documentary life...\n",
              "53890                                 Is an Actress works  ...                                    is actress work\n",
              "48962                                           The Apple  ...                                          the apple\n",
              "\n",
              "[10 rows x 3 columns]"
            ]
          },
          "metadata": {
            "tags": []
          },
          "execution_count": 21
        }
      ]
    },
    {
      "cell_type": "code",
      "metadata": {
        "id": "NuwF7J36HkUi",
        "colab_type": "code",
        "outputId": "b67f337e-09de-4ac5-af63-874faf3d4c5b",
        "colab": {
          "base_uri": "https://localhost:8080/",
          "height": 129
        }
      },
      "source": [
        "temp_dataset_upsampled['Sentiment'].value_counts()"
      ],
      "execution_count": 22,
      "outputs": [
        {
          "output_type": "execute_result",
          "data": {
            "text/plain": [
              "2    55595\n",
              "4    55000\n",
              "3    55000\n",
              "1    55000\n",
              "0    55000\n",
              "Name: Sentiment, dtype: int64"
            ]
          },
          "metadata": {
            "tags": []
          },
          "execution_count": 22
        }
      ]
    },
    {
      "cell_type": "code",
      "metadata": {
        "id": "EZb4J6sil4E3",
        "colab_type": "code",
        "colab": {}
      },
      "source": [
        "#vectorizer = CountVectorizer(stop_words=\"english\",ngram_range=(1, 1))\n",
        "vectorizer_tfid = TfidfVectorizer(stop_words=\"english\",ngram_range=(1, 2),max_features=3000)\n",
        "\n",
        "x_train = vectorizer_tfid.fit_transform(temp_dataset_upsampled['Cleaned'])\n",
        "y_train = temp_dataset_upsampled['Sentiment']\n",
        "#x_test = vectorizer_tfid.transform(X_test)\n",
        "#y_test = Y_test"
      ],
      "execution_count": 0,
      "outputs": []
    },
    {
      "cell_type": "code",
      "metadata": {
        "id": "Ruy-Z31KpUwP",
        "colab_type": "code",
        "outputId": "8d23edfe-aee6-45dd-fae0-d43af1d0e491",
        "colab": {
          "base_uri": "https://localhost:8080/",
          "height": 36
        }
      },
      "source": [
        "x_train.shape"
      ],
      "execution_count": 24,
      "outputs": [
        {
          "output_type": "execute_result",
          "data": {
            "text/plain": [
              "(275595, 3000)"
            ]
          },
          "metadata": {
            "tags": []
          },
          "execution_count": 24
        }
      ]
    },
    {
      "cell_type": "code",
      "metadata": {
        "id": "Aiux4OWcyzyt",
        "colab_type": "code",
        "colab": {}
      },
      "source": [
        "x_train_np = x_train.toarray()\n",
        "y_train_np = np.array(y_train)"
      ],
      "execution_count": 0,
      "outputs": []
    },
    {
      "cell_type": "code",
      "metadata": {
        "id": "D8Etzx0dy1pr",
        "colab_type": "code",
        "outputId": "f81a94b0-d269-4104-e303-2b23024670bc",
        "colab": {
          "base_uri": "https://localhost:8080/",
          "height": 36
        }
      },
      "source": [
        "print(x_train_np.shape)"
      ],
      "execution_count": 26,
      "outputs": [
        {
          "output_type": "stream",
          "text": [
            "(275595, 3000)\n"
          ],
          "name": "stdout"
        }
      ]
    },
    {
      "cell_type": "code",
      "metadata": {
        "id": "d4Gf-JeMzAZx",
        "colab_type": "code",
        "outputId": "e5e83cb8-7379-4b90-8586-89dae3857001",
        "colab": {
          "base_uri": "https://localhost:8080/",
          "height": 54
        }
      },
      "source": [
        "x_train_np=x_train_np.reshape(x_train_np.shape[0],x_train_np.shape[1],1)\n",
        "print(x_train_np.shape)\n",
        "y_train_np = to_categorical(y_train_np)\n",
        "print(y_train_np.shape)"
      ],
      "execution_count": 27,
      "outputs": [
        {
          "output_type": "stream",
          "text": [
            "(275595, 3000, 1)\n",
            "(275595, 5)\n"
          ],
          "name": "stdout"
        }
      ]
    },
    {
      "cell_type": "code",
      "metadata": {
        "id": "d1LU1BqdzJZ3",
        "colab_type": "code",
        "colab": {}
      },
      "source": [
        "from keras import backend as K\n",
        "def recall_m(y_true, y_pred):\n",
        "  true_positives = K.sum(K.round(K.clip(y_true*y_pred, 0, 1)))\n",
        "  possible_positives = K.sum(K.round(K.clip(y_true, 0 ,1)))\n",
        "  recall = true_positives / (possible_positives + K.epsilon())\n",
        "  return recall\n",
        "\n",
        "def precision_m(y_true, y_pred):\n",
        "  true_positives = K.sum(K.round(K.clip(y_true*y_pred, 0, 1)))\n",
        "  predicted_positives = K.sum(K.round(K.clip(y_pred, 0 ,1)))\n",
        "  precision = true_positives / (predicted_positives + K.epsilon())\n",
        "  return precision\n",
        "\n",
        "def f1_m(y_true, y_pred):\n",
        "  precision = precision_m(y_true, y_pred)\n",
        "  recall = recall_m(y_true, y_pred)\n",
        "  return 2*((precision*recall)/(precision+recall+K.epsilon()))"
      ],
      "execution_count": 0,
      "outputs": []
    },
    {
      "cell_type": "code",
      "metadata": {
        "id": "A5x5XIbPzhJw",
        "colab_type": "code",
        "colab": {}
      },
      "source": [
        "from keras.models import Sequential\n",
        "from keras import layers\n",
        "from keras.metrics import categorical_accuracy\n",
        "from keras.layers import Dense, Conv1D, Conv2D ,Flatten, MaxPooling1D, MaxPooling2D,Dropout\n",
        "from keras.layers import Activation, GlobalMaxPooling1D\n",
        "from keras.layers import LeakyReLU\n",
        "from keras import optimizers"
      ],
      "execution_count": 0,
      "outputs": []
    },
    {
      "cell_type": "code",
      "metadata": {
        "id": "3wDHfISYzihl",
        "colab_type": "code",
        "outputId": "d238f3a2-71c0-4c45-c9ab-6574b025b1a9",
        "colab": {
          "base_uri": "https://localhost:8080/",
          "height": 280
        }
      },
      "source": [
        "#https://datascience.stackexchange.com/questions/10048/what-is-the-best-keras-model-for-multi-class-classification\n",
        "\n",
        "cnnmodel2 = Sequential()\n",
        "cnnmodel2.add(Conv1D(filters=32, kernel_size=2, activation='relu',input_shape=(x_train_np.shape[1],x_train_np.shape[2])))\n",
        "cnnmodel2.add(MaxPooling1D(pool_size=2))\n",
        "cnnmodel2.add(Dropout(rate=0.2))\n",
        "cnnmodel2.add(Conv1D(filters=64, kernel_size=2, activation='relu'))\n",
        "cnnmodel2.add(MaxPooling1D(pool_size=2))\n",
        "cnnmodel2.add(Dropout(rate=0.2))\n",
        "cnnmodel2.add(Flatten())\n",
        "cnnmodel2.add(layers.Dense(5, activation='softmax'))"
      ],
      "execution_count": 30,
      "outputs": [
        {
          "output_type": "stream",
          "text": [
            "WARNING:tensorflow:From /usr/local/lib/python3.6/dist-packages/keras/backend/tensorflow_backend.py:66: The name tf.get_default_graph is deprecated. Please use tf.compat.v1.get_default_graph instead.\n",
            "\n",
            "WARNING:tensorflow:From /usr/local/lib/python3.6/dist-packages/keras/backend/tensorflow_backend.py:541: The name tf.placeholder is deprecated. Please use tf.compat.v1.placeholder instead.\n",
            "\n",
            "WARNING:tensorflow:From /usr/local/lib/python3.6/dist-packages/keras/backend/tensorflow_backend.py:4432: The name tf.random_uniform is deprecated. Please use tf.random.uniform instead.\n",
            "\n",
            "WARNING:tensorflow:From /usr/local/lib/python3.6/dist-packages/keras/backend/tensorflow_backend.py:4267: The name tf.nn.max_pool is deprecated. Please use tf.nn.max_pool2d instead.\n",
            "\n",
            "WARNING:tensorflow:From /usr/local/lib/python3.6/dist-packages/keras/backend/tensorflow_backend.py:148: The name tf.placeholder_with_default is deprecated. Please use tf.compat.v1.placeholder_with_default instead.\n",
            "\n",
            "WARNING:tensorflow:From /usr/local/lib/python3.6/dist-packages/keras/backend/tensorflow_backend.py:3733: calling dropout (from tensorflow.python.ops.nn_ops) with keep_prob is deprecated and will be removed in a future version.\n",
            "Instructions for updating:\n",
            "Please use `rate` instead of `keep_prob`. Rate should be set to `rate = 1 - keep_prob`.\n"
          ],
          "name": "stdout"
        }
      ]
    },
    {
      "cell_type": "code",
      "metadata": {
        "id": "OQu0K3fCzouo",
        "colab_type": "code",
        "outputId": "5e4f2c4b-e65a-41e1-a6d9-b3486af6429c",
        "colab": {
          "base_uri": "https://localhost:8080/",
          "height": 561
        }
      },
      "source": [
        "cnnmodel2.compile(optimizer='adam',loss='categorical_crossentropy', metrics=['accuracy',f1_m,precision_m,recall_m])\n",
        "cnnmodel2.summary()"
      ],
      "execution_count": 31,
      "outputs": [
        {
          "output_type": "stream",
          "text": [
            "WARNING:tensorflow:From /usr/local/lib/python3.6/dist-packages/keras/optimizers.py:793: The name tf.train.Optimizer is deprecated. Please use tf.compat.v1.train.Optimizer instead.\n",
            "\n",
            "WARNING:tensorflow:From /usr/local/lib/python3.6/dist-packages/keras/backend/tensorflow_backend.py:3576: The name tf.log is deprecated. Please use tf.math.log instead.\n",
            "\n",
            "Model: \"sequential_1\"\n",
            "_________________________________________________________________\n",
            "Layer (type)                 Output Shape              Param #   \n",
            "=================================================================\n",
            "conv1d_1 (Conv1D)            (None, 2999, 32)          96        \n",
            "_________________________________________________________________\n",
            "max_pooling1d_1 (MaxPooling1 (None, 1499, 32)          0         \n",
            "_________________________________________________________________\n",
            "dropout_1 (Dropout)          (None, 1499, 32)          0         \n",
            "_________________________________________________________________\n",
            "conv1d_2 (Conv1D)            (None, 1498, 64)          4160      \n",
            "_________________________________________________________________\n",
            "max_pooling1d_2 (MaxPooling1 (None, 749, 64)           0         \n",
            "_________________________________________________________________\n",
            "dropout_2 (Dropout)          (None, 749, 64)           0         \n",
            "_________________________________________________________________\n",
            "flatten_1 (Flatten)          (None, 47936)             0         \n",
            "_________________________________________________________________\n",
            "dense_1 (Dense)              (None, 5)                 239685    \n",
            "=================================================================\n",
            "Total params: 243,941\n",
            "Trainable params: 243,941\n",
            "Non-trainable params: 0\n",
            "_________________________________________________________________\n"
          ],
          "name": "stdout"
        }
      ]
    },
    {
      "cell_type": "code",
      "metadata": {
        "id": "WdfNfFz5ztjk",
        "colab_type": "code",
        "outputId": "640619d9-f669-49e0-a8b2-06fb41c80be1",
        "colab": {
          "base_uri": "https://localhost:8080/",
          "height": 1000
        }
      },
      "source": [
        "history2= cnnmodel2.fit(x_train_np, y_train_np, epochs=25, verbose=1, validation_split=0.2, batch_size = 64)"
      ],
      "execution_count": 32,
      "outputs": [
        {
          "output_type": "stream",
          "text": [
            "WARNING:tensorflow:From /tensorflow-1.15.0/python3.6/tensorflow_core/python/ops/math_grad.py:1424: where (from tensorflow.python.ops.array_ops) is deprecated and will be removed in a future version.\n",
            "Instructions for updating:\n",
            "Use tf.where in 2.0, which has the same broadcast rule as np.where\n",
            "WARNING:tensorflow:From /usr/local/lib/python3.6/dist-packages/keras/backend/tensorflow_backend.py:1033: The name tf.assign_add is deprecated. Please use tf.compat.v1.assign_add instead.\n",
            "\n",
            "WARNING:tensorflow:From /usr/local/lib/python3.6/dist-packages/keras/backend/tensorflow_backend.py:1020: The name tf.assign is deprecated. Please use tf.compat.v1.assign instead.\n",
            "\n",
            "WARNING:tensorflow:From /usr/local/lib/python3.6/dist-packages/keras/backend/tensorflow_backend.py:3005: The name tf.Session is deprecated. Please use tf.compat.v1.Session instead.\n",
            "\n",
            "Train on 220476 samples, validate on 55119 samples\n",
            "Epoch 1/25\n",
            "WARNING:tensorflow:From /usr/local/lib/python3.6/dist-packages/keras/backend/tensorflow_backend.py:190: The name tf.get_default_session is deprecated. Please use tf.compat.v1.get_default_session instead.\n",
            "\n",
            "WARNING:tensorflow:From /usr/local/lib/python3.6/dist-packages/keras/backend/tensorflow_backend.py:197: The name tf.ConfigProto is deprecated. Please use tf.compat.v1.ConfigProto instead.\n",
            "\n",
            "WARNING:tensorflow:From /usr/local/lib/python3.6/dist-packages/keras/backend/tensorflow_backend.py:207: The name tf.global_variables is deprecated. Please use tf.compat.v1.global_variables instead.\n",
            "\n",
            "WARNING:tensorflow:From /usr/local/lib/python3.6/dist-packages/keras/backend/tensorflow_backend.py:216: The name tf.is_variable_initialized is deprecated. Please use tf.compat.v1.is_variable_initialized instead.\n",
            "\n",
            "WARNING:tensorflow:From /usr/local/lib/python3.6/dist-packages/keras/backend/tensorflow_backend.py:223: The name tf.variables_initializer is deprecated. Please use tf.compat.v1.variables_initializer instead.\n",
            "\n",
            "220476/220476 [==============================] - 49s 223us/step - loss: 1.1848 - acc: 0.5124 - f1_m: 0.4079 - precision_m: 0.6250 - recall_m: 0.3093 - val_loss: 1.0925 - val_acc: 0.5524 - val_f1_m: 0.4741 - val_precision_m: 0.6579 - val_recall_m: 0.3722\n",
            "Epoch 2/25\n",
            "220476/220476 [==============================] - 35s 156us/step - loss: 1.0856 - acc: 0.5563 - f1_m: 0.4897 - precision_m: 0.6546 - recall_m: 0.3929 - val_loss: 1.0686 - val_acc: 0.5603 - val_f1_m: 0.4990 - val_precision_m: 0.6566 - val_recall_m: 0.4040\n",
            "Epoch 3/25\n",
            "220476/220476 [==============================] - 34s 156us/step - loss: 1.0679 - acc: 0.5640 - f1_m: 0.5002 - precision_m: 0.6599 - recall_m: 0.4045 - val_loss: 1.0558 - val_acc: 0.5695 - val_f1_m: 0.4986 - val_precision_m: 0.6659 - val_recall_m: 0.4001\n",
            "Epoch 4/25\n",
            "220476/220476 [==============================] - 34s 154us/step - loss: 1.0566 - acc: 0.5684 - f1_m: 0.5070 - precision_m: 0.6620 - recall_m: 0.4125 - val_loss: 1.0440 - val_acc: 0.5736 - val_f1_m: 0.5104 - val_precision_m: 0.6683 - val_recall_m: 0.4146\n",
            "Epoch 5/25\n",
            "220476/220476 [==============================] - 34s 155us/step - loss: 1.0442 - acc: 0.5730 - f1_m: 0.5141 - precision_m: 0.6641 - recall_m: 0.4210 - val_loss: 1.0384 - val_acc: 0.5747 - val_f1_m: 0.5102 - val_precision_m: 0.6743 - val_recall_m: 0.4119\n",
            "Epoch 6/25\n",
            "220476/220476 [==============================] - 34s 154us/step - loss: 1.0334 - acc: 0.5770 - f1_m: 0.5209 - precision_m: 0.6666 - recall_m: 0.4291 - val_loss: 1.0230 - val_acc: 0.5826 - val_f1_m: 0.5175 - val_precision_m: 0.6741 - val_recall_m: 0.4214\n",
            "Epoch 7/25\n",
            "220476/220476 [==============================] - 34s 154us/step - loss: 1.0246 - acc: 0.5810 - f1_m: 0.5264 - precision_m: 0.6686 - recall_m: 0.4358 - val_loss: 1.0182 - val_acc: 0.5851 - val_f1_m: 0.5245 - val_precision_m: 0.6813 - val_recall_m: 0.4280\n",
            "Epoch 8/25\n",
            "220476/220476 [==============================] - 34s 154us/step - loss: 1.0188 - acc: 0.5833 - f1_m: 0.5290 - precision_m: 0.6707 - recall_m: 0.4386 - val_loss: 1.0053 - val_acc: 0.5921 - val_f1_m: 0.5329 - val_precision_m: 0.6826 - val_recall_m: 0.4384\n",
            "Epoch 9/25\n",
            "220476/220476 [==============================] - 34s 154us/step - loss: 1.0103 - acc: 0.5864 - f1_m: 0.5353 - precision_m: 0.6742 - recall_m: 0.4457 - val_loss: 1.0018 - val_acc: 0.5920 - val_f1_m: 0.5076 - val_precision_m: 0.7142 - val_recall_m: 0.3955\n",
            "Epoch 10/25\n",
            "220476/220476 [==============================] - 34s 156us/step - loss: 1.0053 - acc: 0.5893 - f1_m: 0.5361 - precision_m: 0.6771 - recall_m: 0.4457 - val_loss: 0.9984 - val_acc: 0.5922 - val_f1_m: 0.5411 - val_precision_m: 0.6753 - val_recall_m: 0.4527\n",
            "Epoch 11/25\n",
            "220476/220476 [==============================] - 34s 154us/step - loss: 0.9991 - acc: 0.5914 - f1_m: 0.5373 - precision_m: 0.6787 - recall_m: 0.4468 - val_loss: 0.9867 - val_acc: 0.6018 - val_f1_m: 0.5489 - val_precision_m: 0.6845 - val_recall_m: 0.4595\n",
            "Epoch 12/25\n",
            "220476/220476 [==============================] - 34s 154us/step - loss: 0.9897 - acc: 0.5957 - f1_m: 0.5429 - precision_m: 0.6839 - recall_m: 0.4524 - val_loss: 0.9806 - val_acc: 0.6024 - val_f1_m: 0.5535 - val_precision_m: 0.6840 - val_recall_m: 0.4661\n",
            "Epoch 13/25\n",
            "220476/220476 [==============================] - 34s 154us/step - loss: 0.9809 - acc: 0.5996 - f1_m: 0.5484 - precision_m: 0.6874 - recall_m: 0.4584 - val_loss: 0.9733 - val_acc: 0.6051 - val_f1_m: 0.5601 - val_precision_m: 0.6829 - val_recall_m: 0.4760\n",
            "Epoch 14/25\n",
            "220476/220476 [==============================] - 34s 154us/step - loss: 0.9721 - acc: 0.6027 - f1_m: 0.5523 - precision_m: 0.6910 - recall_m: 0.4622 - val_loss: 0.9647 - val_acc: 0.6088 - val_f1_m: 0.5664 - val_precision_m: 0.6907 - val_recall_m: 0.4814\n",
            "Epoch 15/25\n",
            "220476/220476 [==============================] - 34s 155us/step - loss: 0.9642 - acc: 0.6061 - f1_m: 0.5549 - precision_m: 0.6939 - recall_m: 0.4646 - val_loss: 0.9622 - val_acc: 0.6090 - val_f1_m: 0.5683 - val_precision_m: 0.6886 - val_recall_m: 0.4851\n",
            "Epoch 16/25\n",
            "220476/220476 [==============================] - 34s 154us/step - loss: 0.9566 - acc: 0.6096 - f1_m: 0.5609 - precision_m: 0.6967 - recall_m: 0.4717 - val_loss: 0.9531 - val_acc: 0.6166 - val_f1_m: 0.5463 - val_precision_m: 0.7258 - val_recall_m: 0.4396\n",
            "Epoch 17/25\n",
            "220476/220476 [==============================] - 34s 154us/step - loss: 0.9496 - acc: 0.6127 - f1_m: 0.5635 - precision_m: 0.6992 - recall_m: 0.4742 - val_loss: 0.9521 - val_acc: 0.6162 - val_f1_m: 0.5388 - val_precision_m: 0.7287 - val_recall_m: 0.4291\n",
            "Epoch 18/25\n",
            "220476/220476 [==============================] - 34s 154us/step - loss: 0.9451 - acc: 0.6147 - f1_m: 0.5644 - precision_m: 0.7031 - recall_m: 0.4737 - val_loss: 0.9440 - val_acc: 0.6179 - val_f1_m: 0.5509 - val_precision_m: 0.7254 - val_recall_m: 0.4457\n",
            "Epoch 19/25\n",
            "220476/220476 [==============================] - 34s 155us/step - loss: 0.9397 - acc: 0.6169 - f1_m: 0.5636 - precision_m: 0.7071 - recall_m: 0.4709 - val_loss: 0.9404 - val_acc: 0.6222 - val_f1_m: 0.5563 - val_precision_m: 0.7312 - val_recall_m: 0.4506\n",
            "Epoch 20/25\n",
            "220476/220476 [==============================] - 34s 154us/step - loss: 0.9337 - acc: 0.6196 - f1_m: 0.5608 - precision_m: 0.7171 - recall_m: 0.4624 - val_loss: 0.9336 - val_acc: 0.6233 - val_f1_m: 0.5564 - val_precision_m: 0.7291 - val_recall_m: 0.4515\n",
            "Epoch 21/25\n",
            "220476/220476 [==============================] - 34s 154us/step - loss: 0.9302 - acc: 0.6210 - f1_m: 0.5812 - precision_m: 0.6988 - recall_m: 0.4997 - val_loss: 0.9303 - val_acc: 0.6226 - val_f1_m: 0.5891 - val_precision_m: 0.6961 - val_recall_m: 0.5120\n",
            "Epoch 22/25\n",
            "220476/220476 [==============================] - 34s 154us/step - loss: 0.9247 - acc: 0.6237 - f1_m: 0.5845 - precision_m: 0.6993 - recall_m: 0.5041 - val_loss: 0.9276 - val_acc: 0.6280 - val_f1_m: 0.5644 - val_precision_m: 0.7309 - val_recall_m: 0.4612\n",
            "Epoch 23/25\n",
            "220476/220476 [==============================] - 34s 154us/step - loss: 0.9217 - acc: 0.6235 - f1_m: 0.5876 - precision_m: 0.6988 - recall_m: 0.5089 - val_loss: 0.9249 - val_acc: 0.6255 - val_f1_m: 0.5895 - val_precision_m: 0.6984 - val_recall_m: 0.5113\n",
            "Epoch 24/25\n",
            "220476/220476 [==============================] - 34s 154us/step - loss: 0.9174 - acc: 0.6258 - f1_m: 0.5897 - precision_m: 0.6997 - recall_m: 0.5114 - val_loss: 0.9268 - val_acc: 0.6272 - val_f1_m: 0.5803 - val_precision_m: 0.7039 - val_recall_m: 0.4950\n",
            "Epoch 25/25\n",
            "220476/220476 [==============================] - 34s 154us/step - loss: 0.9140 - acc: 0.6277 - f1_m: 0.5918 - precision_m: 0.6999 - recall_m: 0.5145 - val_loss: 0.9187 - val_acc: 0.6303 - val_f1_m: 0.5919 - val_precision_m: 0.7026 - val_recall_m: 0.5126\n"
          ],
          "name": "stdout"
        }
      ]
    },
    {
      "cell_type": "code",
      "metadata": {
        "id": "Z2YG7UZIDUU4",
        "colab_type": "code",
        "colab": {
          "base_uri": "https://localhost:8080/",
          "height": 573
        },
        "outputId": "8a0c877a-8787-406b-c9de-d59622847210"
      },
      "source": [
        "import matplotlib.pyplot as plt\n",
        "\n",
        "# Plot training & validation accuracy values\n",
        "plt.plot(history2.history['acc'])\n",
        "plt.plot(history2.history['val_acc'])\n",
        "plt.title('Model accuracy')\n",
        "plt.ylabel('Accuracy')\n",
        "plt.xlabel('Epoch')\n",
        "plt.legend(['Train', 'Validation'], loc='upper left')\n",
        "plt.show()\n",
        "\n",
        "# Plot training & validation loss values\n",
        "plt.plot(history2.history['loss'])\n",
        "plt.plot(history2.history['val_loss'])\n",
        "plt.title('Model loss')\n",
        "plt.ylabel('Loss')\n",
        "plt.xlabel('Epoch')\n",
        "plt.legend(['Train', 'Validation'], loc='upper left')\n",
        "plt.show()"
      ],
      "execution_count": 33,
      "outputs": [
        {
          "output_type": "display_data",
          "data": {
            "image/png": "[encoded data removed]",
            "text/plain": [
              "<Figure size 432x288 with 1 Axes>"
            ]
          },
          "metadata": {
            "tags": []
          }
        },
        {
          "output_type": "display_data",
          "data": {
            "image/png": "[encoded data removed]",
            "text/plain": [
              "<Figure size 432x288 with 1 Axes>"
            ]
          },
          "metadata": {
            "tags": []
          }
        }
      ]
    },
    {
      "cell_type": "code",
      "metadata": {
        "id": "XrTrXAWDBevz",
        "colab_type": "code",
        "colab": {
          "base_uri": "https://localhost:8080/",
          "height": 363
        },
        "outputId": "e5f89139-1f9e-4c75-9335-53f082a2fe86"
      },
      "source": [
        "temp_test=pd.concat([X_test,Y_test],axis=1)\n",
        "temp_test.head(10)"
      ],
      "execution_count": 34,
      "outputs": [
        {
          "output_type": "execute_result",
          "data": {
            "text/html": [
              "<div>\n",
              "<style scoped>\n",
              "    .dataframe tbody tr th:only-of-type {\n",
              "        vertical-align: middle;\n",
              "    }\n",
              "\n",
              "    .dataframe tbody tr th {\n",
              "        vertical-align: top;\n",
              "    }\n",
              "\n",
              "    .dataframe thead th {\n",
              "        text-align: right;\n",
              "    }\n",
              "</style>\n",
              "<table border=\"1\" class=\"dataframe\">\n",
              "  <thead>\n",
              "    <tr style=\"text-align: right;\">\n",
              "      <th></th>\n",
              "      <th>Phrase</th>\n",
              "      <th>Sentiment</th>\n",
              "    </tr>\n",
              "  </thead>\n",
              "  <tbody>\n",
              "    <tr>\n",
              "      <th>13510</th>\n",
              "      <td>veteran</td>\n",
              "      <td>3</td>\n",
              "    </tr>\n",
              "    <tr>\n",
              "      <th>61932</th>\n",
              "      <td>many definitions</td>\n",
              "      <td>2</td>\n",
              "    </tr>\n",
              "    <tr>\n",
              "      <th>82549</th>\n",
              "      <td>a worthwhile glimpse</td>\n",
              "      <td>3</td>\n",
              "    </tr>\n",
              "    <tr>\n",
              "      <th>137718</th>\n",
              "      <td>past Seagal films</td>\n",
              "      <td>2</td>\n",
              "    </tr>\n",
              "    <tr>\n",
              "      <th>121990</th>\n",
              "      <td>banal script</td>\n",
              "      <td>1</td>\n",
              "    </tr>\n",
              "    <tr>\n",
              "      <th>3045</th>\n",
              "      <td>a surge through swirling rapids or a leap from...</td>\n",
              "      <td>2</td>\n",
              "    </tr>\n",
              "    <tr>\n",
              "      <th>64342</th>\n",
              "      <td>does n't really deliver for country music fans...</td>\n",
              "      <td>1</td>\n",
              "    </tr>\n",
              "    <tr>\n",
              "      <th>125461</th>\n",
              "      <td>backed off</td>\n",
              "      <td>1</td>\n",
              "    </tr>\n",
              "    <tr>\n",
              "      <th>49978</th>\n",
              "      <td>required reading</td>\n",
              "      <td>2</td>\n",
              "    </tr>\n",
              "    <tr>\n",
              "      <th>138979</th>\n",
              "      <td>the protagonists ' bohemian boorishness</td>\n",
              "      <td>1</td>\n",
              "    </tr>\n",
              "  </tbody>\n",
              "</table>\n",
              "</div>"
            ],
            "text/plain": [
              "                                                   Phrase  Sentiment\n",
              "13510                                             veteran          3\n",
              "61932                                    many definitions          2\n",
              "82549                                a worthwhile glimpse          3\n",
              "137718                                  past Seagal films          2\n",
              "121990                                       banal script          1\n",
              "3045    a surge through swirling rapids or a leap from...          2\n",
              "64342   does n't really deliver for country music fans...          1\n",
              "125461                                         backed off          1\n",
              "49978                                    required reading          2\n",
              "138979            the protagonists ' bohemian boorishness          1"
            ]
          },
          "metadata": {
            "tags": []
          },
          "execution_count": 34
        }
      ]
    },
    {
      "cell_type": "code",
      "metadata": {
        "id": "x5lXgODxB4p3",
        "colab_type": "code",
        "colab": {}
      },
      "source": [
        "#Train data cleaning\n",
        "clean_x_test=datacleaning(True,False,True,True,X_test)"
      ],
      "execution_count": 0,
      "outputs": []
    },
    {
      "cell_type": "code",
      "metadata": {
        "id": "UqxSy1zCB6E_",
        "colab_type": "code",
        "colab": {}
      },
      "source": [
        "temp_test['CleanedTest']=clean_x_test"
      ],
      "execution_count": 0,
      "outputs": []
    },
    {
      "cell_type": "code",
      "metadata": {
        "id": "8KFWOZ25COkr",
        "colab_type": "code",
        "colab": {
          "base_uri": "https://localhost:8080/",
          "height": 36
        },
        "outputId": "4bd0c1ae-4a32-4e7e-8b7f-bff0396555fa"
      },
      "source": [
        "temp_test.shape"
      ],
      "execution_count": 37,
      "outputs": [
        {
          "output_type": "execute_result",
          "data": {
            "text/plain": [
              "(46818, 3)"
            ]
          },
          "metadata": {
            "tags": []
          },
          "execution_count": 37
        }
      ]
    },
    {
      "cell_type": "code",
      "metadata": {
        "id": "8rznCI4nCAQ4",
        "colab_type": "code",
        "colab": {
          "base_uri": "https://localhost:8080/",
          "height": 363
        },
        "outputId": "55b63319-9946-447b-a816-2727eb62fd11"
      },
      "source": [
        "temp_test.head(10)"
      ],
      "execution_count": 38,
      "outputs": [
        {
          "output_type": "execute_result",
          "data": {
            "text/html": [
              "<div>\n",
              "<style scoped>\n",
              "    .dataframe tbody tr th:only-of-type {\n",
              "        vertical-align: middle;\n",
              "    }\n",
              "\n",
              "    .dataframe tbody tr th {\n",
              "        vertical-align: top;\n",
              "    }\n",
              "\n",
              "    .dataframe thead th {\n",
              "        text-align: right;\n",
              "    }\n",
              "</style>\n",
              "<table border=\"1\" class=\"dataframe\">\n",
              "  <thead>\n",
              "    <tr style=\"text-align: right;\">\n",
              "      <th></th>\n",
              "      <th>Phrase</th>\n",
              "      <th>Sentiment</th>\n",
              "      <th>CleanedTest</th>\n",
              "    </tr>\n",
              "  </thead>\n",
              "  <tbody>\n",
              "    <tr>\n",
              "      <th>13510</th>\n",
              "      <td>veteran</td>\n",
              "      <td>3</td>\n",
              "      <td>veteran</td>\n",
              "    </tr>\n",
              "    <tr>\n",
              "      <th>61932</th>\n",
              "      <td>many definitions</td>\n",
              "      <td>2</td>\n",
              "      <td>many definition</td>\n",
              "    </tr>\n",
              "    <tr>\n",
              "      <th>82549</th>\n",
              "      <td>a worthwhile glimpse</td>\n",
              "      <td>3</td>\n",
              "      <td>worthwhile glimpse</td>\n",
              "    </tr>\n",
              "    <tr>\n",
              "      <th>137718</th>\n",
              "      <td>past Seagal films</td>\n",
              "      <td>2</td>\n",
              "      <td>past seagal film</td>\n",
              "    </tr>\n",
              "    <tr>\n",
              "      <th>121990</th>\n",
              "      <td>banal script</td>\n",
              "      <td>1</td>\n",
              "      <td>banal script</td>\n",
              "    </tr>\n",
              "    <tr>\n",
              "      <th>3045</th>\n",
              "      <td>a surge through swirling rapids or a leap from...</td>\n",
              "      <td>2</td>\n",
              "      <td>surge swirling rapid leap pinnacle pinnacle</td>\n",
              "    </tr>\n",
              "    <tr>\n",
              "      <th>64342</th>\n",
              "      <td>does n't really deliver for country music fans...</td>\n",
              "      <td>1</td>\n",
              "      <td>n't really deliver country music fan family au...</td>\n",
              "    </tr>\n",
              "    <tr>\n",
              "      <th>125461</th>\n",
              "      <td>backed off</td>\n",
              "      <td>1</td>\n",
              "      <td>backed</td>\n",
              "    </tr>\n",
              "    <tr>\n",
              "      <th>49978</th>\n",
              "      <td>required reading</td>\n",
              "      <td>2</td>\n",
              "      <td>required reading</td>\n",
              "    </tr>\n",
              "    <tr>\n",
              "      <th>138979</th>\n",
              "      <td>the protagonists ' bohemian boorishness</td>\n",
              "      <td>1</td>\n",
              "      <td>protagonist bohemian boorishness</td>\n",
              "    </tr>\n",
              "  </tbody>\n",
              "</table>\n",
              "</div>"
            ],
            "text/plain": [
              "                                                   Phrase  ...                                        CleanedTest\n",
              "13510                                             veteran  ...                                            veteran\n",
              "61932                                    many definitions  ...                                    many definition\n",
              "82549                                a worthwhile glimpse  ...                                 worthwhile glimpse\n",
              "137718                                  past Seagal films  ...                                   past seagal film\n",
              "121990                                       banal script  ...                                       banal script\n",
              "3045    a surge through swirling rapids or a leap from...  ...        surge swirling rapid leap pinnacle pinnacle\n",
              "64342   does n't really deliver for country music fans...  ...  n't really deliver country music fan family au...\n",
              "125461                                         backed off  ...                                             backed\n",
              "49978                                    required reading  ...                                   required reading\n",
              "138979            the protagonists ' bohemian boorishness  ...                   protagonist bohemian boorishness\n",
              "\n",
              "[10 rows x 3 columns]"
            ]
          },
          "metadata": {
            "tags": []
          },
          "execution_count": 38
        }
      ]
    },
    {
      "cell_type": "code",
      "metadata": {
        "id": "G5XdsFjYCNp7",
        "colab_type": "code",
        "colab": {}
      },
      "source": [
        "x_test = vectorizer_tfid.transform(temp_test['CleanedTest'])\n",
        "y_test = temp_test['Sentiment']"
      ],
      "execution_count": 0,
      "outputs": []
    },
    {
      "cell_type": "code",
      "metadata": {
        "id": "shgdDJI6CflM",
        "colab_type": "code",
        "colab": {}
      },
      "source": [
        "# Convert the testing data\n",
        "x_test_np = x_test.toarray()\n",
        "y_test_np = np.array(y_test)"
      ],
      "execution_count": 0,
      "outputs": []
    },
    {
      "cell_type": "code",
      "metadata": {
        "id": "7uUVK7NKB0Gj",
        "colab_type": "code",
        "colab": {
          "base_uri": "https://localhost:8080/",
          "height": 54
        },
        "outputId": "28dc2413-c49d-4a06-d630-851c31bc134e"
      },
      "source": [
        "x_test_np=x_test_np.reshape(x_test_np.shape[0],x_test_np.shape[1],1)\n",
        "print(x_test_np.shape)\n",
        "y_test_np = to_categorical(y_test_np)\n",
        "print(y_test_np.shape)"
      ],
      "execution_count": 41,
      "outputs": [
        {
          "output_type": "stream",
          "text": [
            "(46818, 3000, 1)\n",
            "(46818, 5)\n"
          ],
          "name": "stdout"
        }
      ]
    },
    {
      "cell_type": "code",
      "metadata": {
        "id": "zIh74ZoMC23e",
        "colab_type": "code",
        "colab": {
          "base_uri": "https://localhost:8080/",
          "height": 148
        },
        "outputId": "eb70cd58-f2b4-47a9-8734-c0ad4cbc9d64"
      },
      "source": [
        "#testing results\n",
        "print(cnnmodel2.metrics_names)\n",
        "cnnmodel2.evaluate(x_test_np, y_test_np)"
      ],
      "execution_count": 42,
      "outputs": [
        {
          "output_type": "stream",
          "text": [
            "['loss', 'acc', 'f1_m', 'precision_m', 'recall_m']\n",
            "46818/46818 [==============================] - 4s 87us/step\n"
          ],
          "name": "stdout"
        },
        {
          "output_type": "execute_result",
          "data": {
            "text/plain": [
              "[1.1808334122484674,\n",
              " 0.5439360929557008,\n",
              " 0.49267141403150333,\n",
              " 0.6012373844955655,\n",
              " 0.41964628988850444]"
            ]
          },
          "metadata": {
            "tags": []
          },
          "execution_count": 42
        }
      ]
    }
  ]
}