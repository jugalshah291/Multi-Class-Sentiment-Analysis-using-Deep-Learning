{
  "nbformat": 4,
  "nbformat_minor": 0,
  "metadata": {
    "colab": {
      "name": "Ref. NLPAssignment2_Version_2.ipynb",
      "provenance": [],
      "collapsed_sections": [],
      "machine_shape": "hm"
    },
    "kernelspec": {
      "name": "python3",
      "display_name": "Python 3"
    },
    "accelerator": "GPU"
  },
  "cells": [
    {
      "cell_type": "markdown",
      "metadata": {
        "id": "mJAW2g2yYrDe",
        "colab_type": "text"
      },
      "source": [
        "The code uses below Ref\n",
        " \n",
        "\n",
        "1.   https://github.com/joseph10081987/Machine-Learning_new/blob/master/Movie%20Review_DL.ipynb\n",
        "2.   https://towardsdatascience.com/machine-learning-word-embedding-sentiment-classification-using-keras-b83c28087456\n",
        "\n"
      ]
    },
    {
      "cell_type": "code",
      "metadata": {
        "id": "AdHbMWx2xtbM",
        "colab_type": "code",
        "outputId": "bbf468ea-21da-427a-eb21-ea30a749a17f",
        "colab": {
          "base_uri": "https://localhost:8080/",
          "height": 129
        }
      },
      "source": [
        "#import libraries\n",
        "import time\n",
        "import pandas as pd\n",
        "import csv\n",
        "import numpy as np\n",
        "import matplotlib.pyplot as plt\n",
        "import nltk\n",
        "nltk.download('punkt')\n",
        "nltk.download('stopwords')\n",
        "nltk.download('wordnet')\n",
        "from nltk.corpus import stopwords\n",
        "from nltk.stem import WordNetLemmatizer, PorterStemmer, LancasterStemmer\n",
        "import string\n",
        "\n",
        "#for training\n",
        "from sklearn.svm import LinearSVC\n",
        "from sklearn.metrics import accuracy_score\n",
        "from sklearn import metrics\n",
        "#for word\n",
        "#from sklearn.feature_extraction.text import CountVectorizer\n",
        "from sklearn.feature_extraction.text import TfidfVectorizer, CountVectorizer\n",
        "from sklearn.model_selection import train_test_split\n",
        "from sklearn.feature_extraction.stop_words import ENGLISH_STOP_WORDS\n",
        "from sklearn.model_selection import cross_val_score\n",
        "from keras.utils import to_categorical"
      ],
      "execution_count": 105,
      "outputs": [
        {
          "output_type": "stream",
          "text": [
            "[nltk_data] Downloading package punkt to /root/nltk_data...\n",
            "[nltk_data]   Package punkt is already up-to-date!\n",
            "[nltk_data] Downloading package stopwords to /root/nltk_data...\n",
            "[nltk_data]   Package stopwords is already up-to-date!\n",
            "[nltk_data] Downloading package wordnet to /root/nltk_data...\n",
            "[nltk_data]   Package wordnet is already up-to-date!\n"
          ],
          "name": "stdout"
        }
      ]
    },
    {
      "cell_type": "code",
      "metadata": {
        "id": "IIxf2FLgxwrc",
        "colab_type": "code",
        "colab": {}
      },
      "source": [
        "url= 'https://raw.githubusercontent.com/cacoderquan/Sentiment-Analysis-on-the-Rotten-Tomatoes-movie-review-dataset/master/train.tsv'\n",
        "dataset = pd.read_csv(url, sep='\\t')"
      ],
      "execution_count": 0,
      "outputs": []
    },
    {
      "cell_type": "code",
      "metadata": {
        "id": "TNE30LGSzdMn",
        "colab_type": "code",
        "outputId": "0bf3d80e-94af-4c3c-8b73-3b8aaea33535",
        "colab": {
          "base_uri": "https://localhost:8080/",
          "height": 36
        }
      },
      "source": [
        "dataset.shape"
      ],
      "execution_count": 107,
      "outputs": [
        {
          "output_type": "execute_result",
          "data": {
            "text/plain": [
              "(156060, 4)"
            ]
          },
          "metadata": {
            "tags": []
          },
          "execution_count": 107
        }
      ]
    },
    {
      "cell_type": "code",
      "metadata": {
        "id": "3USla5o3zkN3",
        "colab_type": "code",
        "outputId": "cba52a33-b426-485b-a2f7-86dc878a9552",
        "colab": {
          "base_uri": "https://localhost:8080/",
          "height": 363
        }
      },
      "source": [
        "dataset.head(10)"
      ],
      "execution_count": 108,
      "outputs": [
        {
          "output_type": "execute_result",
          "data": {
            "text/html": [
              "<div>\n",
              "<style scoped>\n",
              "    .dataframe tbody tr th:only-of-type {\n",
              "        vertical-align: middle;\n",
              "    }\n",
              "\n",
              "    .dataframe tbody tr th {\n",
              "        vertical-align: top;\n",
              "    }\n",
              "\n",
              "    .dataframe thead th {\n",
              "        text-align: right;\n",
              "    }\n",
              "</style>\n",
              "<table border=\"1\" class=\"dataframe\">\n",
              "  <thead>\n",
              "    <tr style=\"text-align: right;\">\n",
              "      <th></th>\n",
              "      <th>PhraseId</th>\n",
              "      <th>SentenceId</th>\n",
              "      <th>Phrase</th>\n",
              "      <th>Sentiment</th>\n",
              "    </tr>\n",
              "  </thead>\n",
              "  <tbody>\n",
              "    <tr>\n",
              "      <th>0</th>\n",
              "      <td>1</td>\n",
              "      <td>1</td>\n",
              "      <td>A series of escapades demonstrating the adage ...</td>\n",
              "      <td>1</td>\n",
              "    </tr>\n",
              "    <tr>\n",
              "      <th>1</th>\n",
              "      <td>2</td>\n",
              "      <td>1</td>\n",
              "      <td>A series of escapades demonstrating the adage ...</td>\n",
              "      <td>2</td>\n",
              "    </tr>\n",
              "    <tr>\n",
              "      <th>2</th>\n",
              "      <td>3</td>\n",
              "      <td>1</td>\n",
              "      <td>A series</td>\n",
              "      <td>2</td>\n",
              "    </tr>\n",
              "    <tr>\n",
              "      <th>3</th>\n",
              "      <td>4</td>\n",
              "      <td>1</td>\n",
              "      <td>A</td>\n",
              "      <td>2</td>\n",
              "    </tr>\n",
              "    <tr>\n",
              "      <th>4</th>\n",
              "      <td>5</td>\n",
              "      <td>1</td>\n",
              "      <td>series</td>\n",
              "      <td>2</td>\n",
              "    </tr>\n",
              "    <tr>\n",
              "      <th>5</th>\n",
              "      <td>6</td>\n",
              "      <td>1</td>\n",
              "      <td>of escapades demonstrating the adage that what...</td>\n",
              "      <td>2</td>\n",
              "    </tr>\n",
              "    <tr>\n",
              "      <th>6</th>\n",
              "      <td>7</td>\n",
              "      <td>1</td>\n",
              "      <td>of</td>\n",
              "      <td>2</td>\n",
              "    </tr>\n",
              "    <tr>\n",
              "      <th>7</th>\n",
              "      <td>8</td>\n",
              "      <td>1</td>\n",
              "      <td>escapades demonstrating the adage that what is...</td>\n",
              "      <td>2</td>\n",
              "    </tr>\n",
              "    <tr>\n",
              "      <th>8</th>\n",
              "      <td>9</td>\n",
              "      <td>1</td>\n",
              "      <td>escapades</td>\n",
              "      <td>2</td>\n",
              "    </tr>\n",
              "    <tr>\n",
              "      <th>9</th>\n",
              "      <td>10</td>\n",
              "      <td>1</td>\n",
              "      <td>demonstrating the adage that what is good for ...</td>\n",
              "      <td>2</td>\n",
              "    </tr>\n",
              "  </tbody>\n",
              "</table>\n",
              "</div>"
            ],
            "text/plain": [
              "   PhraseId  ...  Sentiment\n",
              "0         1  ...          1\n",
              "1         2  ...          2\n",
              "2         3  ...          2\n",
              "3         4  ...          2\n",
              "4         5  ...          2\n",
              "5         6  ...          2\n",
              "6         7  ...          2\n",
              "7         8  ...          2\n",
              "8         9  ...          2\n",
              "9        10  ...          2\n",
              "\n",
              "[10 rows x 4 columns]"
            ]
          },
          "metadata": {
            "tags": []
          },
          "execution_count": 108
        }
      ]
    },
    {
      "cell_type": "code",
      "metadata": {
        "id": "bB2iLll9zmVR",
        "colab_type": "code",
        "outputId": "a4262e4f-6f82-4839-ac7e-07ac71b94129",
        "colab": {
          "base_uri": "https://localhost:8080/",
          "height": 36
        }
      },
      "source": [
        "print(dataset.isnull().values.any())"
      ],
      "execution_count": 109,
      "outputs": [
        {
          "output_type": "stream",
          "text": [
            "False\n"
          ],
          "name": "stdout"
        }
      ]
    },
    {
      "cell_type": "code",
      "metadata": {
        "id": "_5wi4nRTR9xY",
        "colab_type": "code",
        "outputId": "1aea3f5e-9657-4739-eaf4-f1f9d72d2088",
        "colab": {
          "base_uri": "https://localhost:8080/",
          "height": 129
        }
      },
      "source": [
        "dataset['Sentiment'].value_counts()"
      ],
      "execution_count": 110,
      "outputs": [
        {
          "output_type": "execute_result",
          "data": {
            "text/plain": [
              "2    79582\n",
              "3    32927\n",
              "1    27273\n",
              "4     9206\n",
              "0     7072\n",
              "Name: Sentiment, dtype: int64"
            ]
          },
          "metadata": {
            "tags": []
          },
          "execution_count": 110
        }
      ]
    },
    {
      "cell_type": "code",
      "metadata": {
        "id": "UWdTRJOt3fSC",
        "colab_type": "code",
        "colab": {}
      },
      "source": [
        "porter = PorterStemmer()\n",
        "lancaster=LancasterStemmer()\n",
        "wordnet_lemmatizer = WordNetLemmatizer()\n",
        "stopwords_en = stopwords.words(\"english\")\n",
        "punctuations=\"?:!.,;'\\\"-()\"\n",
        "#parameters to adjust to see the impact on outcome\n",
        "remove_stopwords = False\n",
        "useStemming = False\n",
        "useLemma = True\n",
        "removePuncs = True"
      ],
      "execution_count": 0,
      "outputs": []
    },
    {
      "cell_type": "code",
      "metadata": {
        "id": "hScCabPYJ45N",
        "colab_type": "code",
        "colab": {}
      },
      "source": [
        "#Cleaning the reviews\n",
        "cleanReview=[]\n",
        "for x in range(0,len(dataset['Phrase'].values)):\n",
        "    tmpReview=[]\n",
        "    for w in nltk.word_tokenize(dataset['Phrase'].values[x]):\n",
        "        newWord = str(w).lower() #Set newWork to be the updated word\n",
        "        if remove_stopwords and (w in stopwords_en):#if the word is a stopword & we want to remove stopwords\n",
        "            continue #skip the word and don’t had it to the normalized review\n",
        "        if removePuncs and (w in punctuations):#if the word is a punc. & we want to remove punctuations\n",
        "            continue #skip the word and don’t had it to the normalized review\n",
        "        if useStemming: #if useStemming is set to True\n",
        "            #Keep one stemmer commented out\n",
        "            #newWord = porter.stem(newWord) #User porter stemmer\n",
        "            newWord = lancaster.stem(newWord) #Use Lancaster stemmer\n",
        "        if useLemma:\n",
        "            newWord = wordnet_lemmatizer.lemmatize(newWord)\n",
        "        tmpReview.append(newWord) #Add normalized word to the tmp review\n",
        "    cleanReview.append(' '.join(tmpReview))"
      ],
      "execution_count": 0,
      "outputs": []
    },
    {
      "cell_type": "code",
      "metadata": {
        "id": "_m5CAxFLOEa5",
        "colab_type": "code",
        "outputId": "85017e66-0c97-49b4-dd92-50d55f2f2a22",
        "colab": {
          "base_uri": "https://localhost:8080/",
          "height": 36
        }
      },
      "source": [
        "len(cleanReview)"
      ],
      "execution_count": 113,
      "outputs": [
        {
          "output_type": "execute_result",
          "data": {
            "text/plain": [
              "156060"
            ]
          },
          "metadata": {
            "tags": []
          },
          "execution_count": 113
        }
      ]
    },
    {
      "cell_type": "code",
      "metadata": {
        "id": "c2z9D84nONUj",
        "colab_type": "code",
        "colab": {}
      },
      "source": [
        "dataset['UpdatedReview']=cleanReview"
      ],
      "execution_count": 0,
      "outputs": []
    },
    {
      "cell_type": "code",
      "metadata": {
        "id": "F6VwvO9WOWde",
        "colab_type": "code",
        "outputId": "7d6574d3-2086-4e91-b189-3e96d71a948e",
        "colab": {
          "base_uri": "https://localhost:8080/",
          "height": 363
        }
      },
      "source": [
        "dataset.head(10)"
      ],
      "execution_count": 115,
      "outputs": [
        {
          "output_type": "execute_result",
          "data": {
            "text/html": [
              "<div>\n",
              "<style scoped>\n",
              "    .dataframe tbody tr th:only-of-type {\n",
              "        vertical-align: middle;\n",
              "    }\n",
              "\n",
              "    .dataframe tbody tr th {\n",
              "        vertical-align: top;\n",
              "    }\n",
              "\n",
              "    .dataframe thead th {\n",
              "        text-align: right;\n",
              "    }\n",
              "</style>\n",
              "<table border=\"1\" class=\"dataframe\">\n",
              "  <thead>\n",
              "    <tr style=\"text-align: right;\">\n",
              "      <th></th>\n",
              "      <th>PhraseId</th>\n",
              "      <th>SentenceId</th>\n",
              "      <th>Phrase</th>\n",
              "      <th>Sentiment</th>\n",
              "      <th>UpdatedReview</th>\n",
              "    </tr>\n",
              "  </thead>\n",
              "  <tbody>\n",
              "    <tr>\n",
              "      <th>0</th>\n",
              "      <td>1</td>\n",
              "      <td>1</td>\n",
              "      <td>A series of escapades demonstrating the adage ...</td>\n",
              "      <td>1</td>\n",
              "      <td>a series of escapade demonstrating the adage t...</td>\n",
              "    </tr>\n",
              "    <tr>\n",
              "      <th>1</th>\n",
              "      <td>2</td>\n",
              "      <td>1</td>\n",
              "      <td>A series of escapades demonstrating the adage ...</td>\n",
              "      <td>2</td>\n",
              "      <td>a series of escapade demonstrating the adage t...</td>\n",
              "    </tr>\n",
              "    <tr>\n",
              "      <th>2</th>\n",
              "      <td>3</td>\n",
              "      <td>1</td>\n",
              "      <td>A series</td>\n",
              "      <td>2</td>\n",
              "      <td>a series</td>\n",
              "    </tr>\n",
              "    <tr>\n",
              "      <th>3</th>\n",
              "      <td>4</td>\n",
              "      <td>1</td>\n",
              "      <td>A</td>\n",
              "      <td>2</td>\n",
              "      <td>a</td>\n",
              "    </tr>\n",
              "    <tr>\n",
              "      <th>4</th>\n",
              "      <td>5</td>\n",
              "      <td>1</td>\n",
              "      <td>series</td>\n",
              "      <td>2</td>\n",
              "      <td>series</td>\n",
              "    </tr>\n",
              "    <tr>\n",
              "      <th>5</th>\n",
              "      <td>6</td>\n",
              "      <td>1</td>\n",
              "      <td>of escapades demonstrating the adage that what...</td>\n",
              "      <td>2</td>\n",
              "      <td>of escapade demonstrating the adage that what ...</td>\n",
              "    </tr>\n",
              "    <tr>\n",
              "      <th>6</th>\n",
              "      <td>7</td>\n",
              "      <td>1</td>\n",
              "      <td>of</td>\n",
              "      <td>2</td>\n",
              "      <td>of</td>\n",
              "    </tr>\n",
              "    <tr>\n",
              "      <th>7</th>\n",
              "      <td>8</td>\n",
              "      <td>1</td>\n",
              "      <td>escapades demonstrating the adage that what is...</td>\n",
              "      <td>2</td>\n",
              "      <td>escapade demonstrating the adage that what is ...</td>\n",
              "    </tr>\n",
              "    <tr>\n",
              "      <th>8</th>\n",
              "      <td>9</td>\n",
              "      <td>1</td>\n",
              "      <td>escapades</td>\n",
              "      <td>2</td>\n",
              "      <td>escapade</td>\n",
              "    </tr>\n",
              "    <tr>\n",
              "      <th>9</th>\n",
              "      <td>10</td>\n",
              "      <td>1</td>\n",
              "      <td>demonstrating the adage that what is good for ...</td>\n",
              "      <td>2</td>\n",
              "      <td>demonstrating the adage that what is good for ...</td>\n",
              "    </tr>\n",
              "  </tbody>\n",
              "</table>\n",
              "</div>"
            ],
            "text/plain": [
              "   PhraseId  ...                                      UpdatedReview\n",
              "0         1  ...  a series of escapade demonstrating the adage t...\n",
              "1         2  ...  a series of escapade demonstrating the adage t...\n",
              "2         3  ...                                           a series\n",
              "3         4  ...                                                  a\n",
              "4         5  ...                                             series\n",
              "5         6  ...  of escapade demonstrating the adage that what ...\n",
              "6         7  ...                                                 of\n",
              "7         8  ...  escapade demonstrating the adage that what is ...\n",
              "8         9  ...                                           escapade\n",
              "9        10  ...  demonstrating the adage that what is good for ...\n",
              "\n",
              "[10 rows x 5 columns]"
            ]
          },
          "metadata": {
            "tags": []
          },
          "execution_count": 115
        }
      ]
    },
    {
      "cell_type": "code",
      "metadata": {
        "id": "cbatU21x40lY",
        "colab_type": "code",
        "colab": {}
      },
      "source": [
        "#check for empty entries after removing stop mords#\n",
        "#list(dataset['UpdatedReview']=='').count(True)"
      ],
      "execution_count": 0,
      "outputs": []
    },
    {
      "cell_type": "code",
      "metadata": {
        "id": "HvYLd8ibAJnt",
        "colab_type": "code",
        "outputId": "805ee8fa-2983-421c-d043-42b732c3cada",
        "colab": {
          "base_uri": "https://localhost:8080/",
          "height": 56
        }
      },
      "source": [
        "#drop empty entries\n",
        "'''\n",
        "nan_value = float(\"NaN\")\n",
        "\n",
        "dataset.replace(\"\", nan_value, inplace=True)\n",
        "\n",
        "dataset.dropna(subset = [\"UpdatedReview\"], inplace=True)\n",
        "'''"
      ],
      "execution_count": 117,
      "outputs": [
        {
          "output_type": "execute_result",
          "data": {
            "text/plain": [
              "'\\nnan_value = float(\"NaN\")\\n\\ndataset.replace(\"\", nan_value, inplace=True)\\n\\ndataset.dropna(subset = [\"UpdatedReview\"], inplace=True)\\n'"
            ]
          },
          "metadata": {
            "tags": []
          },
          "execution_count": 117
        }
      ]
    },
    {
      "cell_type": "code",
      "metadata": {
        "id": "4ay2ZMK0CiFq",
        "colab_type": "code",
        "outputId": "19c63d11-8ea2-4898-8bbe-4fb5e71ef4c3",
        "colab": {
          "base_uri": "https://localhost:8080/",
          "height": 363
        }
      },
      "source": [
        "dataset.head(10)"
      ],
      "execution_count": 118,
      "outputs": [
        {
          "output_type": "execute_result",
          "data": {
            "text/html": [
              "<div>\n",
              "<style scoped>\n",
              "    .dataframe tbody tr th:only-of-type {\n",
              "        vertical-align: middle;\n",
              "    }\n",
              "\n",
              "    .dataframe tbody tr th {\n",
              "        vertical-align: top;\n",
              "    }\n",
              "\n",
              "    .dataframe thead th {\n",
              "        text-align: right;\n",
              "    }\n",
              "</style>\n",
              "<table border=\"1\" class=\"dataframe\">\n",
              "  <thead>\n",
              "    <tr style=\"text-align: right;\">\n",
              "      <th></th>\n",
              "      <th>PhraseId</th>\n",
              "      <th>SentenceId</th>\n",
              "      <th>Phrase</th>\n",
              "      <th>Sentiment</th>\n",
              "      <th>UpdatedReview</th>\n",
              "    </tr>\n",
              "  </thead>\n",
              "  <tbody>\n",
              "    <tr>\n",
              "      <th>0</th>\n",
              "      <td>1</td>\n",
              "      <td>1</td>\n",
              "      <td>A series of escapades demonstrating the adage ...</td>\n",
              "      <td>1</td>\n",
              "      <td>a series of escapade demonstrating the adage t...</td>\n",
              "    </tr>\n",
              "    <tr>\n",
              "      <th>1</th>\n",
              "      <td>2</td>\n",
              "      <td>1</td>\n",
              "      <td>A series of escapades demonstrating the adage ...</td>\n",
              "      <td>2</td>\n",
              "      <td>a series of escapade demonstrating the adage t...</td>\n",
              "    </tr>\n",
              "    <tr>\n",
              "      <th>2</th>\n",
              "      <td>3</td>\n",
              "      <td>1</td>\n",
              "      <td>A series</td>\n",
              "      <td>2</td>\n",
              "      <td>a series</td>\n",
              "    </tr>\n",
              "    <tr>\n",
              "      <th>3</th>\n",
              "      <td>4</td>\n",
              "      <td>1</td>\n",
              "      <td>A</td>\n",
              "      <td>2</td>\n",
              "      <td>a</td>\n",
              "    </tr>\n",
              "    <tr>\n",
              "      <th>4</th>\n",
              "      <td>5</td>\n",
              "      <td>1</td>\n",
              "      <td>series</td>\n",
              "      <td>2</td>\n",
              "      <td>series</td>\n",
              "    </tr>\n",
              "    <tr>\n",
              "      <th>5</th>\n",
              "      <td>6</td>\n",
              "      <td>1</td>\n",
              "      <td>of escapades demonstrating the adage that what...</td>\n",
              "      <td>2</td>\n",
              "      <td>of escapade demonstrating the adage that what ...</td>\n",
              "    </tr>\n",
              "    <tr>\n",
              "      <th>6</th>\n",
              "      <td>7</td>\n",
              "      <td>1</td>\n",
              "      <td>of</td>\n",
              "      <td>2</td>\n",
              "      <td>of</td>\n",
              "    </tr>\n",
              "    <tr>\n",
              "      <th>7</th>\n",
              "      <td>8</td>\n",
              "      <td>1</td>\n",
              "      <td>escapades demonstrating the adage that what is...</td>\n",
              "      <td>2</td>\n",
              "      <td>escapade demonstrating the adage that what is ...</td>\n",
              "    </tr>\n",
              "    <tr>\n",
              "      <th>8</th>\n",
              "      <td>9</td>\n",
              "      <td>1</td>\n",
              "      <td>escapades</td>\n",
              "      <td>2</td>\n",
              "      <td>escapade</td>\n",
              "    </tr>\n",
              "    <tr>\n",
              "      <th>9</th>\n",
              "      <td>10</td>\n",
              "      <td>1</td>\n",
              "      <td>demonstrating the adage that what is good for ...</td>\n",
              "      <td>2</td>\n",
              "      <td>demonstrating the adage that what is good for ...</td>\n",
              "    </tr>\n",
              "  </tbody>\n",
              "</table>\n",
              "</div>"
            ],
            "text/plain": [
              "   PhraseId  ...                                      UpdatedReview\n",
              "0         1  ...  a series of escapade demonstrating the adage t...\n",
              "1         2  ...  a series of escapade demonstrating the adage t...\n",
              "2         3  ...                                           a series\n",
              "3         4  ...                                                  a\n",
              "4         5  ...                                             series\n",
              "5         6  ...  of escapade demonstrating the adage that what ...\n",
              "6         7  ...                                                 of\n",
              "7         8  ...  escapade demonstrating the adage that what is ...\n",
              "8         9  ...                                           escapade\n",
              "9        10  ...  demonstrating the adage that what is good for ...\n",
              "\n",
              "[10 rows x 5 columns]"
            ]
          },
          "metadata": {
            "tags": []
          },
          "execution_count": 118
        }
      ]
    },
    {
      "cell_type": "code",
      "metadata": {
        "id": "-DxbVQV9DZcW",
        "colab_type": "code",
        "outputId": "1e3bd5e6-2b3f-4233-bbdc-479ff4fa6a0b",
        "colab": {
          "base_uri": "https://localhost:8080/",
          "height": 36
        }
      },
      "source": [
        "#shape after dropping empty entires\n",
        "dataset.shape"
      ],
      "execution_count": 119,
      "outputs": [
        {
          "output_type": "execute_result",
          "data": {
            "text/plain": [
              "(156060, 5)"
            ]
          },
          "metadata": {
            "tags": []
          },
          "execution_count": 119
        }
      ]
    },
    {
      "cell_type": "code",
      "metadata": {
        "id": "dmPlV4vADfw3",
        "colab_type": "code",
        "colab": {}
      },
      "source": [
        "#drop duplicates\n",
        "#dataset.drop_duplicates(subset=['UpdatedReview', 'Sentiment'],inplace=True)"
      ],
      "execution_count": 0,
      "outputs": []
    },
    {
      "cell_type": "code",
      "metadata": {
        "id": "vYdLqOuKG-3H",
        "colab_type": "code",
        "outputId": "e20db3f8-fc70-4198-d5a0-a155d911f2ea",
        "colab": {
          "base_uri": "https://localhost:8080/",
          "height": 36
        }
      },
      "source": [
        "#shape after duplicates drop\n",
        "dataset.shape"
      ],
      "execution_count": 121,
      "outputs": [
        {
          "output_type": "execute_result",
          "data": {
            "text/plain": [
              "(156060, 5)"
            ]
          },
          "metadata": {
            "tags": []
          },
          "execution_count": 121
        }
      ]
    },
    {
      "cell_type": "code",
      "metadata": {
        "id": "jQJEDlLx61a3",
        "colab_type": "code",
        "outputId": "818729bc-974d-4fa1-e573-0c83e46516a7",
        "colab": {
          "base_uri": "https://localhost:8080/",
          "height": 36
        }
      },
      "source": [
        "print(dataset.isnull().values.any())"
      ],
      "execution_count": 122,
      "outputs": [
        {
          "output_type": "stream",
          "text": [
            "False\n"
          ],
          "name": "stdout"
        }
      ]
    },
    {
      "cell_type": "code",
      "metadata": {
        "id": "Wce619oo6-d_",
        "colab_type": "code",
        "outputId": "8d731f5b-4028-4b84-c7bd-2ab71c8837ca",
        "colab": {
          "base_uri": "https://localhost:8080/",
          "height": 423
        }
      },
      "source": [
        "dataset.head(100)"
      ],
      "execution_count": 123,
      "outputs": [
        {
          "output_type": "execute_result",
          "data": {
            "text/html": [
              "<div>\n",
              "<style scoped>\n",
              "    .dataframe tbody tr th:only-of-type {\n",
              "        vertical-align: middle;\n",
              "    }\n",
              "\n",
              "    .dataframe tbody tr th {\n",
              "        vertical-align: top;\n",
              "    }\n",
              "\n",
              "    .dataframe thead th {\n",
              "        text-align: right;\n",
              "    }\n",
              "</style>\n",
              "<table border=\"1\" class=\"dataframe\">\n",
              "  <thead>\n",
              "    <tr style=\"text-align: right;\">\n",
              "      <th></th>\n",
              "      <th>PhraseId</th>\n",
              "      <th>SentenceId</th>\n",
              "      <th>Phrase</th>\n",
              "      <th>Sentiment</th>\n",
              "      <th>UpdatedReview</th>\n",
              "    </tr>\n",
              "  </thead>\n",
              "  <tbody>\n",
              "    <tr>\n",
              "      <th>0</th>\n",
              "      <td>1</td>\n",
              "      <td>1</td>\n",
              "      <td>A series of escapades demonstrating the adage ...</td>\n",
              "      <td>1</td>\n",
              "      <td>a series of escapade demonstrating the adage t...</td>\n",
              "    </tr>\n",
              "    <tr>\n",
              "      <th>1</th>\n",
              "      <td>2</td>\n",
              "      <td>1</td>\n",
              "      <td>A series of escapades demonstrating the adage ...</td>\n",
              "      <td>2</td>\n",
              "      <td>a series of escapade demonstrating the adage t...</td>\n",
              "    </tr>\n",
              "    <tr>\n",
              "      <th>2</th>\n",
              "      <td>3</td>\n",
              "      <td>1</td>\n",
              "      <td>A series</td>\n",
              "      <td>2</td>\n",
              "      <td>a series</td>\n",
              "    </tr>\n",
              "    <tr>\n",
              "      <th>3</th>\n",
              "      <td>4</td>\n",
              "      <td>1</td>\n",
              "      <td>A</td>\n",
              "      <td>2</td>\n",
              "      <td>a</td>\n",
              "    </tr>\n",
              "    <tr>\n",
              "      <th>4</th>\n",
              "      <td>5</td>\n",
              "      <td>1</td>\n",
              "      <td>series</td>\n",
              "      <td>2</td>\n",
              "      <td>series</td>\n",
              "    </tr>\n",
              "    <tr>\n",
              "      <th>...</th>\n",
              "      <td>...</td>\n",
              "      <td>...</td>\n",
              "      <td>...</td>\n",
              "      <td>...</td>\n",
              "      <td>...</td>\n",
              "    </tr>\n",
              "    <tr>\n",
              "      <th>95</th>\n",
              "      <td>96</td>\n",
              "      <td>3</td>\n",
              "      <td>, I suspect ,</td>\n",
              "      <td>2</td>\n",
              "      <td>i suspect</td>\n",
              "    </tr>\n",
              "    <tr>\n",
              "      <th>96</th>\n",
              "      <td>97</td>\n",
              "      <td>3</td>\n",
              "      <td>I suspect ,</td>\n",
              "      <td>2</td>\n",
              "      <td>i suspect</td>\n",
              "    </tr>\n",
              "    <tr>\n",
              "      <th>97</th>\n",
              "      <td>98</td>\n",
              "      <td>3</td>\n",
              "      <td>I suspect</td>\n",
              "      <td>2</td>\n",
              "      <td>i suspect</td>\n",
              "    </tr>\n",
              "    <tr>\n",
              "      <th>98</th>\n",
              "      <td>99</td>\n",
              "      <td>3</td>\n",
              "      <td>I</td>\n",
              "      <td>2</td>\n",
              "      <td>i</td>\n",
              "    </tr>\n",
              "    <tr>\n",
              "      <th>99</th>\n",
              "      <td>100</td>\n",
              "      <td>3</td>\n",
              "      <td>suspect</td>\n",
              "      <td>2</td>\n",
              "      <td>suspect</td>\n",
              "    </tr>\n",
              "  </tbody>\n",
              "</table>\n",
              "<p>100 rows × 5 columns</p>\n",
              "</div>"
            ],
            "text/plain": [
              "    PhraseId  ...                                      UpdatedReview\n",
              "0          1  ...  a series of escapade demonstrating the adage t...\n",
              "1          2  ...  a series of escapade demonstrating the adage t...\n",
              "2          3  ...                                           a series\n",
              "3          4  ...                                                  a\n",
              "4          5  ...                                             series\n",
              "..       ...  ...                                                ...\n",
              "95        96  ...                                          i suspect\n",
              "96        97  ...                                          i suspect\n",
              "97        98  ...                                          i suspect\n",
              "98        99  ...                                                  i\n",
              "99       100  ...                                            suspect\n",
              "\n",
              "[100 rows x 5 columns]"
            ]
          },
          "metadata": {
            "tags": []
          },
          "execution_count": 123
        }
      ]
    },
    {
      "cell_type": "code",
      "metadata": {
        "id": "m_oq7Kr0CxRK",
        "colab_type": "code",
        "outputId": "f290fd2d-d59c-4e0f-debf-8e41d22c439d",
        "colab": {
          "base_uri": "https://localhost:8080/",
          "height": 36
        }
      },
      "source": [
        "dataset.shape"
      ],
      "execution_count": 124,
      "outputs": [
        {
          "output_type": "execute_result",
          "data": {
            "text/plain": [
              "(156060, 5)"
            ]
          },
          "metadata": {
            "tags": []
          },
          "execution_count": 124
        }
      ]
    },
    {
      "cell_type": "code",
      "metadata": {
        "id": "LrCi48JB7Qg_",
        "colab_type": "code",
        "outputId": "2d99864c-2b9b-4a78-8f32-3ede06482b6f",
        "colab": {
          "base_uri": "https://localhost:8080/",
          "height": 129
        }
      },
      "source": [
        "dataset['Sentiment'].value_counts()"
      ],
      "execution_count": 125,
      "outputs": [
        {
          "output_type": "execute_result",
          "data": {
            "text/plain": [
              "2    79582\n",
              "3    32927\n",
              "1    27273\n",
              "4     9206\n",
              "0     7072\n",
              "Name: Sentiment, dtype: int64"
            ]
          },
          "metadata": {
            "tags": []
          },
          "execution_count": 125
        }
      ]
    },
    {
      "cell_type": "code",
      "metadata": {
        "id": "nxEmTrKu1m8s",
        "colab_type": "code",
        "colab": {}
      },
      "source": [
        "X_train, X_test, Y_train, Y_test = train_test_split(dataset['UpdatedReview'],dataset['Sentiment'], test_size=0.3, random_state=2003)"
      ],
      "execution_count": 0,
      "outputs": []
    },
    {
      "cell_type": "code",
      "metadata": {
        "id": "NhMxVDA-2phz",
        "colab_type": "code",
        "outputId": "f0a37cb1-d69c-4e52-b96e-c593582097ae",
        "colab": {
          "base_uri": "https://localhost:8080/",
          "height": 54
        }
      },
      "source": [
        "#Here, X_train and X_test will have mutually exclusive sets of 109242 and 46818 samples. \n",
        "print(X_train.shape)\n",
        "print(X_test.shape)"
      ],
      "execution_count": 127,
      "outputs": [
        {
          "output_type": "stream",
          "text": [
            "(109242,)\n",
            "(46818,)\n"
          ],
          "name": "stdout"
        }
      ]
    },
    {
      "cell_type": "code",
      "metadata": {
        "id": "BoU5ZSP5PQe9",
        "colab_type": "code",
        "outputId": "c6e49ab7-d3c3-4a6f-c85f-cd734d768434",
        "colab": {
          "base_uri": "https://localhost:8080/",
          "height": 129
        }
      },
      "source": [
        "Y_train.value_counts()"
      ],
      "execution_count": 128,
      "outputs": [
        {
          "output_type": "execute_result",
          "data": {
            "text/plain": [
              "2    55595\n",
              "3    23055\n",
              "1    19203\n",
              "4     6468\n",
              "0     4921\n",
              "Name: Sentiment, dtype: int64"
            ]
          },
          "metadata": {
            "tags": []
          },
          "execution_count": 128
        }
      ]
    },
    {
      "cell_type": "code",
      "metadata": {
        "id": "v_BD779YSvvs",
        "colab_type": "code",
        "outputId": "29d417bb-0018-4843-cc05-bf6a757045ac",
        "colab": {
          "base_uri": "https://localhost:8080/",
          "height": 363
        }
      },
      "source": [
        "temp_dataset=pd.concat([X_train,Y_train],axis=1)\n",
        "temp_dataset.head(10)"
      ],
      "execution_count": 129,
      "outputs": [
        {
          "output_type": "execute_result",
          "data": {
            "text/html": [
              "<div>\n",
              "<style scoped>\n",
              "    .dataframe tbody tr th:only-of-type {\n",
              "        vertical-align: middle;\n",
              "    }\n",
              "\n",
              "    .dataframe tbody tr th {\n",
              "        vertical-align: top;\n",
              "    }\n",
              "\n",
              "    .dataframe thead th {\n",
              "        text-align: right;\n",
              "    }\n",
              "</style>\n",
              "<table border=\"1\" class=\"dataframe\">\n",
              "  <thead>\n",
              "    <tr style=\"text-align: right;\">\n",
              "      <th></th>\n",
              "      <th>UpdatedReview</th>\n",
              "      <th>Sentiment</th>\n",
              "    </tr>\n",
              "  </thead>\n",
              "  <tbody>\n",
              "    <tr>\n",
              "      <th>13718</th>\n",
              "      <td>their age</td>\n",
              "      <td>2</td>\n",
              "    </tr>\n",
              "    <tr>\n",
              "      <th>91191</th>\n",
              "      <td>gorgeous epic</td>\n",
              "      <td>4</td>\n",
              "    </tr>\n",
              "    <tr>\n",
              "      <th>97160</th>\n",
              "      <td>fan of the gross-out comedy</td>\n",
              "      <td>2</td>\n",
              "    </tr>\n",
              "    <tr>\n",
              "      <th>143983</th>\n",
              "      <td>the filmmaker ascends literally to the olympus...</td>\n",
              "      <td>4</td>\n",
              "    </tr>\n",
              "    <tr>\n",
              "      <th>37501</th>\n",
              "      <td>twisting mystery</td>\n",
              "      <td>2</td>\n",
              "    </tr>\n",
              "    <tr>\n",
              "      <th>44396</th>\n",
              "      <td>including mine -rrb-</td>\n",
              "      <td>2</td>\n",
              "    </tr>\n",
              "    <tr>\n",
              "      <th>40166</th>\n",
              "      <td>more enjoyable than it predecessor</td>\n",
              "      <td>3</td>\n",
              "    </tr>\n",
              "    <tr>\n",
              "      <th>30005</th>\n",
              "      <td>film that 's flawed and brilliant in equal mea...</td>\n",
              "      <td>3</td>\n",
              "    </tr>\n",
              "    <tr>\n",
              "      <th>67570</th>\n",
              "      <td>bask</td>\n",
              "      <td>2</td>\n",
              "    </tr>\n",
              "    <tr>\n",
              "      <th>89575</th>\n",
              "      <td>if ever a concept came handed down from the mo...</td>\n",
              "      <td>4</td>\n",
              "    </tr>\n",
              "  </tbody>\n",
              "</table>\n",
              "</div>"
            ],
            "text/plain": [
              "                                            UpdatedReview  Sentiment\n",
              "13718                                           their age          2\n",
              "91191                                       gorgeous epic          4\n",
              "97160                         fan of the gross-out comedy          2\n",
              "143983  the filmmaker ascends literally to the olympus...          4\n",
              "37501                                    twisting mystery          2\n",
              "44396                                including mine -rrb-          2\n",
              "40166                  more enjoyable than it predecessor          3\n",
              "30005   film that 's flawed and brilliant in equal mea...          3\n",
              "67570                                                bask          2\n",
              "89575   if ever a concept came handed down from the mo...          4"
            ]
          },
          "metadata": {
            "tags": []
          },
          "execution_count": 129
        }
      ]
    },
    {
      "cell_type": "code",
      "metadata": {
        "id": "81-aHPmoTVCD",
        "colab_type": "code",
        "outputId": "9e48bd8f-f801-4a7e-d23b-b6a0b9e2e0de",
        "colab": {
          "base_uri": "https://localhost:8080/",
          "height": 36
        }
      },
      "source": [
        "temp_dataset.shape"
      ],
      "execution_count": 130,
      "outputs": [
        {
          "output_type": "execute_result",
          "data": {
            "text/plain": [
              "(109242, 2)"
            ]
          },
          "metadata": {
            "tags": []
          },
          "execution_count": 130
        }
      ]
    },
    {
      "cell_type": "code",
      "metadata": {
        "id": "sWEc0M2-T3Qh",
        "colab_type": "code",
        "colab": {}
      },
      "source": [
        "from sklearn.utils import resample\n",
        "sentiment_0=temp_dataset[temp_dataset['Sentiment']==0]\n",
        "sentiment_1=temp_dataset[temp_dataset['Sentiment']==1]\n",
        "sentiment_2=temp_dataset[temp_dataset['Sentiment']==2]\n",
        "sentiment_3=temp_dataset[temp_dataset['Sentiment']==3]\n",
        "sentiment_4=temp_dataset[temp_dataset['Sentiment']==4]\n",
        "'''\n",
        "sentiment_0_sample=resample(sentiment_0,replace=True,n_samples=21848,random_state=123)\n",
        "sentiment_1_sample=resample(sentiment_1,replace=True,n_samples=21848,random_state=123)\n",
        "sentiment_2_sample=resample(sentiment_2,replace=True,n_samples=21848,random_state=123)\n",
        "sentiment_3_sample=resample(sentiment_3,replace=True,n_samples=21848,random_state=123)\n",
        "sentiment_4_sample=resample(sentiment_4,replace=True,n_samples=21848,random_state=123)\n",
        "'''\n",
        "sentiment_0_sample=resample(sentiment_0,replace=True,n_samples=55000,random_state=123)\n",
        "sentiment_1_sample=resample(sentiment_1,replace=True,n_samples=55000,random_state=123)\n",
        "sentiment_2_sample=resample(sentiment_2,replace=True,n_samples=55000,random_state=123)\n",
        "sentiment_3_sample=resample(sentiment_3,replace=True,n_samples=55000,random_state=123)\n",
        "sentiment_4_sample=resample(sentiment_4,replace=True,n_samples=55000,random_state=123)\n",
        "\n",
        "\n",
        "#temp_dataset_upsampled = pd.concat([sentiment_0_sample, sentiment_1_sample,sentiment_2_sample,sentiment_3_sample,sentiment_4_sample])\n",
        "temp_dataset_upsampled = pd.concat([sentiment_0_sample, sentiment_1_sample,sentiment_2,sentiment_3_sample,sentiment_4_sample])"
      ],
      "execution_count": 0,
      "outputs": []
    },
    {
      "cell_type": "code",
      "metadata": {
        "id": "-hTsLj_YW14c",
        "colab_type": "code",
        "outputId": "0adb68d6-2c45-47b1-db61-0dccdc24719b",
        "colab": {
          "base_uri": "https://localhost:8080/",
          "height": 36
        }
      },
      "source": [
        "temp_dataset_upsampled.shape"
      ],
      "execution_count": 132,
      "outputs": [
        {
          "output_type": "execute_result",
          "data": {
            "text/plain": [
              "(275595, 2)"
            ]
          },
          "metadata": {
            "tags": []
          },
          "execution_count": 132
        }
      ]
    },
    {
      "cell_type": "code",
      "metadata": {
        "id": "azCwj_YkXHZ3",
        "colab_type": "code",
        "outputId": "ea03eded-f1f3-4512-b953-e2f036f9245a",
        "colab": {
          "base_uri": "https://localhost:8080/",
          "height": 363
        }
      },
      "source": [
        "temp_dataset_upsampled.head(10)"
      ],
      "execution_count": 133,
      "outputs": [
        {
          "output_type": "execute_result",
          "data": {
            "text/html": [
              "<div>\n",
              "<style scoped>\n",
              "    .dataframe tbody tr th:only-of-type {\n",
              "        vertical-align: middle;\n",
              "    }\n",
              "\n",
              "    .dataframe tbody tr th {\n",
              "        vertical-align: top;\n",
              "    }\n",
              "\n",
              "    .dataframe thead th {\n",
              "        text-align: right;\n",
              "    }\n",
              "</style>\n",
              "<table border=\"1\" class=\"dataframe\">\n",
              "  <thead>\n",
              "    <tr style=\"text-align: right;\">\n",
              "      <th></th>\n",
              "      <th>UpdatedReview</th>\n",
              "      <th>Sentiment</th>\n",
              "    </tr>\n",
              "  </thead>\n",
              "  <tbody>\n",
              "    <tr>\n",
              "      <th>98901</th>\n",
              "      <td>the character in swimfan seem motivated by not...</td>\n",
              "      <td>0</td>\n",
              "    </tr>\n",
              "    <tr>\n",
              "      <th>2948</th>\n",
              "      <td>then knock yourself out and enjoy the big scre...</td>\n",
              "      <td>0</td>\n",
              "    </tr>\n",
              "    <tr>\n",
              "      <th>95435</th>\n",
              "      <td>... a stiff ponderous and charmless a a mechan...</td>\n",
              "      <td>0</td>\n",
              "    </tr>\n",
              "    <tr>\n",
              "      <th>8459</th>\n",
              "      <td>is abhorrent to you</td>\n",
              "      <td>0</td>\n",
              "    </tr>\n",
              "    <tr>\n",
              "      <th>132031</th>\n",
              "      <td>of his contradictory self-hating self-destruct...</td>\n",
              "      <td>0</td>\n",
              "    </tr>\n",
              "    <tr>\n",
              "      <th>17909</th>\n",
              "      <td>run out of steam after a half hour</td>\n",
              "      <td>0</td>\n",
              "    </tr>\n",
              "    <tr>\n",
              "      <th>28001</th>\n",
              "      <td>is a case of too many chef fussing over too we...</td>\n",
              "      <td>0</td>\n",
              "    </tr>\n",
              "    <tr>\n",
              "      <th>147998</th>\n",
              "      <td>is badly edited often awkwardly directed and s...</td>\n",
              "      <td>0</td>\n",
              "    </tr>\n",
              "    <tr>\n",
              "      <th>58445</th>\n",
              "      <td>stuck with a script that prevents them from fi...</td>\n",
              "      <td>0</td>\n",
              "    </tr>\n",
              "    <tr>\n",
              "      <th>124780</th>\n",
              "      <td>watching junk like this</td>\n",
              "      <td>0</td>\n",
              "    </tr>\n",
              "  </tbody>\n",
              "</table>\n",
              "</div>"
            ],
            "text/plain": [
              "                                            UpdatedReview  Sentiment\n",
              "98901   the character in swimfan seem motivated by not...          0\n",
              "2948    then knock yourself out and enjoy the big scre...          0\n",
              "95435   ... a stiff ponderous and charmless a a mechan...          0\n",
              "8459                                  is abhorrent to you          0\n",
              "132031  of his contradictory self-hating self-destruct...          0\n",
              "17909                  run out of steam after a half hour          0\n",
              "28001   is a case of too many chef fussing over too we...          0\n",
              "147998  is badly edited often awkwardly directed and s...          0\n",
              "58445   stuck with a script that prevents them from fi...          0\n",
              "124780                            watching junk like this          0"
            ]
          },
          "metadata": {
            "tags": []
          },
          "execution_count": 133
        }
      ]
    },
    {
      "cell_type": "code",
      "metadata": {
        "id": "CeisI1Bxkp9R",
        "colab_type": "code",
        "outputId": "a04ea979-0658-4365-b280-2b7b46ea179a",
        "colab": {
          "base_uri": "https://localhost:8080/",
          "height": 129
        }
      },
      "source": [
        "temp_dataset_upsampled['Sentiment'].value_counts()"
      ],
      "execution_count": 134,
      "outputs": [
        {
          "output_type": "execute_result",
          "data": {
            "text/plain": [
              "2    55595\n",
              "4    55000\n",
              "3    55000\n",
              "1    55000\n",
              "0    55000\n",
              "Name: Sentiment, dtype: int64"
            ]
          },
          "metadata": {
            "tags": []
          },
          "execution_count": 134
        }
      ]
    },
    {
      "cell_type": "code",
      "metadata": {
        "id": "DB6asanbj_Bd",
        "colab_type": "code",
        "colab": {}
      },
      "source": [
        "temp_dataset_upsampled=temp_dataset_upsampled.sample(frac=1)\n",
        "temp_dataset_upsampled=temp_dataset_upsampled.sample(frac=1)"
      ],
      "execution_count": 0,
      "outputs": []
    },
    {
      "cell_type": "code",
      "metadata": {
        "id": "H-gFjzwpk6ik",
        "colab_type": "code",
        "outputId": "f1da7ce2-dc7f-4e0a-c23d-d93ae0b270ef",
        "colab": {
          "base_uri": "https://localhost:8080/",
          "height": 363
        }
      },
      "source": [
        "temp_dataset_upsampled.head(10)"
      ],
      "execution_count": 136,
      "outputs": [
        {
          "output_type": "execute_result",
          "data": {
            "text/html": [
              "<div>\n",
              "<style scoped>\n",
              "    .dataframe tbody tr th:only-of-type {\n",
              "        vertical-align: middle;\n",
              "    }\n",
              "\n",
              "    .dataframe tbody tr th {\n",
              "        vertical-align: top;\n",
              "    }\n",
              "\n",
              "    .dataframe thead th {\n",
              "        text-align: right;\n",
              "    }\n",
              "</style>\n",
              "<table border=\"1\" class=\"dataframe\">\n",
              "  <thead>\n",
              "    <tr style=\"text-align: right;\">\n",
              "      <th></th>\n",
              "      <th>UpdatedReview</th>\n",
              "      <th>Sentiment</th>\n",
              "    </tr>\n",
              "  </thead>\n",
              "  <tbody>\n",
              "    <tr>\n",
              "      <th>21178</th>\n",
              "      <td>indie tatter and self-conscious seam</td>\n",
              "      <td>1</td>\n",
              "    </tr>\n",
              "    <tr>\n",
              "      <th>55462</th>\n",
              "      <td>can i</td>\n",
              "      <td>2</td>\n",
              "    </tr>\n",
              "    <tr>\n",
              "      <th>94014</th>\n",
              "      <td>is an agonizing bore except when the fantastic...</td>\n",
              "      <td>0</td>\n",
              "    </tr>\n",
              "    <tr>\n",
              "      <th>79612</th>\n",
              "      <td>a character faced with the possibility that he...</td>\n",
              "      <td>0</td>\n",
              "    </tr>\n",
              "    <tr>\n",
              "      <th>16828</th>\n",
              "      <td>'s definitely not</td>\n",
              "      <td>2</td>\n",
              "    </tr>\n",
              "    <tr>\n",
              "      <th>108639</th>\n",
              "      <td>an engrossing and grim portrait</td>\n",
              "      <td>3</td>\n",
              "    </tr>\n",
              "    <tr>\n",
              "      <th>105788</th>\n",
              "      <td>seem to get a coherent rhythm going</td>\n",
              "      <td>3</td>\n",
              "    </tr>\n",
              "    <tr>\n",
              "      <th>112304</th>\n",
              "      <td>niftiest</td>\n",
              "      <td>3</td>\n",
              "    </tr>\n",
              "    <tr>\n",
              "      <th>25427</th>\n",
              "      <td>the best movie in many a moon about the passio...</td>\n",
              "      <td>4</td>\n",
              "    </tr>\n",
              "    <tr>\n",
              "      <th>132810</th>\n",
              "      <td>compelling supporting character</td>\n",
              "      <td>4</td>\n",
              "    </tr>\n",
              "  </tbody>\n",
              "</table>\n",
              "</div>"
            ],
            "text/plain": [
              "                                            UpdatedReview  Sentiment\n",
              "21178                indie tatter and self-conscious seam          1\n",
              "55462                                               can i          2\n",
              "94014   is an agonizing bore except when the fantastic...          0\n",
              "79612   a character faced with the possibility that he...          0\n",
              "16828                                   's definitely not          2\n",
              "108639                    an engrossing and grim portrait          3\n",
              "105788                seem to get a coherent rhythm going          3\n",
              "112304                                           niftiest          3\n",
              "25427   the best movie in many a moon about the passio...          4\n",
              "132810                    compelling supporting character          4"
            ]
          },
          "metadata": {
            "tags": []
          },
          "execution_count": 136
        }
      ]
    },
    {
      "cell_type": "code",
      "metadata": {
        "id": "Ch0JTAvPlBRA",
        "colab_type": "code",
        "outputId": "b95d6387-7860-4fff-f82f-a84817ec752d",
        "colab": {
          "base_uri": "https://localhost:8080/",
          "height": 129
        }
      },
      "source": [
        "temp_dataset_upsampled['Sentiment'].value_counts()"
      ],
      "execution_count": 137,
      "outputs": [
        {
          "output_type": "execute_result",
          "data": {
            "text/plain": [
              "2    55595\n",
              "4    55000\n",
              "3    55000\n",
              "1    55000\n",
              "0    55000\n",
              "Name: Sentiment, dtype: int64"
            ]
          },
          "metadata": {
            "tags": []
          },
          "execution_count": 137
        }
      ]
    },
    {
      "cell_type": "code",
      "metadata": {
        "id": "qU_m1NoJ-uTp",
        "colab_type": "code",
        "outputId": "83982cfd-4e83-44f6-96e4-6a30bb716cea",
        "colab": {
          "base_uri": "https://localhost:8080/",
          "height": 56
        }
      },
      "source": [
        "'''\n",
        "from sklearn.feature_extraction.text import CountVectorizer , TfidfVectorizer\n",
        "\n",
        "# Transform each text into a vector of word counts\n",
        "#vectorizer = CountVectorizer(stop_words=\"english\",ngram_range=(1, 1))\n",
        "#vectorizer_tfid = TfidfVectorizer(stop_words=\"english\",ngram_range=(1, 1))\n",
        "vectorizer_tfid = TfidfVectorizer(ngram_range=(1, 2),max_features=3000)\n",
        "\n",
        "X = vectorizer_tfid.fit_transform(dataset[\"UpdatedReview\"])\n",
        "Y = dataset['Sentiment']\n",
        "x_train = vectorizer_tfid.transform(temp_dataset_upsampled['UpdatedReview'])\n",
        "y_train = temp_dataset_upsampled['Sentiment']\n",
        "x_test = vectorizer_tfid.transform(X_test)\n",
        "y_test = Y_test\n",
        "'''"
      ],
      "execution_count": 138,
      "outputs": [
        {
          "output_type": "execute_result",
          "data": {
            "text/plain": [
              "'\\nfrom sklearn.feature_extraction.text import CountVectorizer , TfidfVectorizer\\n\\n# Transform each text into a vector of word counts\\n#vectorizer = CountVectorizer(stop_words=\"english\",ngram_range=(1, 1))\\n#vectorizer_tfid = TfidfVectorizer(stop_words=\"english\",ngram_range=(1, 1))\\nvectorizer_tfid = TfidfVectorizer(ngram_range=(1, 2),max_features=3000)\\n\\nX = vectorizer_tfid.fit_transform(dataset[\"UpdatedReview\"])\\nY = dataset[\\'Sentiment\\']\\nx_train = vectorizer_tfid.transform(temp_dataset_upsampled[\\'UpdatedReview\\'])\\ny_train = temp_dataset_upsampled[\\'Sentiment\\']\\nx_test = vectorizer_tfid.transform(X_test)\\ny_test = Y_test\\n'"
            ]
          },
          "metadata": {
            "tags": []
          },
          "execution_count": 138
        }
      ]
    },
    {
      "cell_type": "code",
      "metadata": {
        "id": "3ppGKKlsedzA",
        "colab_type": "code",
        "colab": {}
      },
      "source": [
        "X_P=temp_dataset_upsampled['UpdatedReview']\n",
        "Y_P= to_categorical(temp_dataset_upsampled['Sentiment'].values)\n"
      ],
      "execution_count": 0,
      "outputs": []
    },
    {
      "cell_type": "code",
      "metadata": {
        "id": "yzmv0GJlgME_",
        "colab_type": "code",
        "colab": {}
      },
      "source": [
        "X_A, X_val, Y_A, Y_val = train_test_split(X_P, Y_P, test_size=0.2, random_state=123)"
      ],
      "execution_count": 0,
      "outputs": []
    },
    {
      "cell_type": "code",
      "metadata": {
        "id": "eAX-04eGgakm",
        "colab_type": "code",
        "outputId": "2c4a64b4-aa02-49d0-a112-a555f0c4c0ef",
        "colab": {
          "base_uri": "https://localhost:8080/",
          "height": 54
        }
      },
      "source": [
        "print(X_A.shape,Y_A.shape)\n",
        "print(X_val.shape,Y_val.shape)"
      ],
      "execution_count": 141,
      "outputs": [
        {
          "output_type": "stream",
          "text": [
            "(220476,) (220476, 5)\n",
            "(55119,) (55119, 5)\n"
          ],
          "name": "stdout"
        }
      ]
    },
    {
      "cell_type": "code",
      "metadata": {
        "id": "1DfRZhPZgvYH",
        "colab_type": "code",
        "colab": {}
      },
      "source": [
        "from keras.preprocessing.text import Tokenizer\n",
        "from keras.preprocessing import sequence,text\n",
        "from keras.preprocessing.sequence import pad_sequences\n",
        "from keras.utils import to_categorical\n",
        "from nltk import FreqDist\n",
        "from nltk.tokenize import word_tokenize"
      ],
      "execution_count": 0,
      "outputs": []
    },
    {
      "cell_type": "code",
      "metadata": {
        "id": "UizYsttRhUZN",
        "colab_type": "code",
        "outputId": "5944ad4d-c05f-45bf-c291-5ca130a97cd3",
        "colab": {
          "base_uri": "https://localhost:8080/",
          "height": 36
        }
      },
      "source": [
        "all_words=' '.join(X_A)\n",
        "all_words=word_tokenize(all_words)\n",
        "\n",
        "word_count=FreqDist(all_words)\n",
        "unique_words_count=len(word_count)\n",
        "unique_words_count"
      ],
      "execution_count": 143,
      "outputs": [
        {
          "output_type": "execute_result",
          "data": {
            "text/plain": [
              "15112"
            ]
          },
          "metadata": {
            "tags": []
          },
          "execution_count": 143
        }
      ]
    },
    {
      "cell_type": "code",
      "metadata": {
        "id": "14F0EGvOiSXV",
        "colab_type": "code",
        "outputId": "a1b431ff-7037-4bc5-97b2-d9864991a268",
        "colab": {
          "base_uri": "https://localhost:8080/",
          "height": 36
        }
      },
      "source": [
        "r_len=[]\n",
        "for text in X_A:\n",
        "    word=word_tokenize(text)\n",
        "    l=len(word)\n",
        "    r_len.append(l)\n",
        "    \n",
        "max_length=np.max(r_len)\n",
        "max_length"
      ],
      "execution_count": 144,
      "outputs": [
        {
          "output_type": "execute_result",
          "data": {
            "text/plain": [
              "48"
            ]
          },
          "metadata": {
            "tags": []
          },
          "execution_count": 144
        }
      ]
    },
    {
      "cell_type": "code",
      "metadata": {
        "id": "ic5enTKiiXsg",
        "colab_type": "code",
        "colab": {}
      },
      "source": [
        "max_features = unique_words_count\n",
        "max_words = max_length\n",
        "batch_size = 64\n",
        "epochs = 5"
      ],
      "execution_count": 0,
      "outputs": []
    },
    {
      "cell_type": "code",
      "metadata": {
        "id": "oKK2IefMi-YV",
        "colab_type": "code",
        "colab": {}
      },
      "source": [
        "tokenizer = Tokenizer(num_words=max_features)\n",
        "tokenizer.fit_on_texts(X_A)\n",
        "X_A = tokenizer.texts_to_sequences(X_A)\n",
        "X_val = tokenizer.texts_to_sequences(X_val)\n",
        "\n",
        "X_test = tokenizer.texts_to_sequences(X_test)"
      ],
      "execution_count": 0,
      "outputs": []
    },
    {
      "cell_type": "code",
      "metadata": {
        "id": "BODRkftwkiN5",
        "colab_type": "code",
        "outputId": "c0c4fd0f-7bff-443d-b0c9-7c755c5c4ff0",
        "colab": {
          "base_uri": "https://localhost:8080/",
          "height": 148
        }
      },
      "source": [
        "X_A = sequence.pad_sequences(X_A, maxlen=max_words)\n",
        "X_val = sequence.pad_sequences(X_val, maxlen=max_words)\n",
        "X_test = sequence.pad_sequences(X_test, maxlen=max_words)\n",
        "#print(X_train.shape,X_val.shape)\n",
        "X_test"
      ],
      "execution_count": 147,
      "outputs": [
        {
          "output_type": "execute_result",
          "data": {
            "text/plain": [
              "array([[   0,    0,    0, ...,    0,    0, 3060],\n",
              "       [   0,    0,    0, ...,    0,  106, 2778],\n",
              "       [   0,    0,    0, ...,    2,  936, 1157],\n",
              "       ...,\n",
              "       [   0,    0,    0, ...,  223,  996, 7131],\n",
              "       [   0,    0,    0, ...,    8,  710, 7428],\n",
              "       [   0,    0,    0, ...,    0,  180,  101]], dtype=int32)"
            ]
          },
          "metadata": {
            "tags": []
          },
          "execution_count": 147
        }
      ]
    },
    {
      "cell_type": "code",
      "metadata": {
        "id": "ji7E9lZUDJy1",
        "colab_type": "code",
        "colab": {}
      },
      "source": [
        "#bow_feature= pd.DataFrame(x_train_np, columns=vectorizer.get_feature_names())\n",
        "#bow_feature.head(30)"
      ],
      "execution_count": 0,
      "outputs": []
    },
    {
      "cell_type": "code",
      "metadata": {
        "id": "nKoeXxupEmq2",
        "colab_type": "code",
        "colab": {}
      },
      "source": [
        "from keras import backend as K\n",
        "def recall_m(y_true, y_pred):\n",
        "  true_positives = K.sum(K.round(K.clip(y_true*y_pred, 0, 1)))\n",
        "  possible_positives = K.sum(K.round(K.clip(y_true, 0 ,1)))\n",
        "  recall = true_positives / (possible_positives + K.epsilon())\n",
        "  return recall\n",
        "\n",
        "def precision_m(y_true, y_pred):\n",
        "  true_positives = K.sum(K.round(K.clip(y_true*y_pred, 0, 1)))\n",
        "  predicted_positives = K.sum(K.round(K.clip(y_pred, 0 ,1)))\n",
        "  precision = true_positives / (predicted_positives + K.epsilon())\n",
        "  return precision\n",
        "\n",
        "def f1_m(y_true, y_pred):\n",
        "  precision = precision_m(y_true, y_pred)\n",
        "  recall = recall_m(y_true, y_pred)\n",
        "  return 2*((precision*recall)/(precision+recall+K.epsilon()))"
      ],
      "execution_count": 0,
      "outputs": []
    },
    {
      "cell_type": "code",
      "metadata": {
        "id": "Pi67svqLE0pO",
        "colab_type": "code",
        "colab": {}
      },
      "source": [
        "from keras.models import Sequential\n",
        "from keras import layers\n",
        "from keras.layers import Dense, Conv1D, Flatten, MaxPooling1D, Dropout, Embedding, SpatialDropout1D\n",
        "from keras.layers import Activation, GlobalMaxPooling1D\n",
        "from keras import optimizers"
      ],
      "execution_count": 0,
      "outputs": []
    },
    {
      "cell_type": "code",
      "metadata": {
        "id": "cMBBvJhSE-y-",
        "colab_type": "code",
        "colab": {}
      },
      "source": [
        "cnnmodel2 = Sequential()\n",
        "\n",
        "# Input / Embdedding\n",
        "cnnmodel2.add(Embedding(max_features, 100, input_length=max_words))\n",
        "cnnmodel2.add(Conv1D(filters=32, kernel_size=2,padding='same',activation='relu'))\n",
        "cnnmodel2.add(MaxPooling1D(pool_size=2))\n",
        "cnnmodel2.add(Dropout(rate=0.2))\n",
        "cnnmodel2.add(Conv1D(filters=64, kernel_size=2, padding='same',activation='relu'))\n",
        "cnnmodel2.add(MaxPooling1D(pool_size=2))\n",
        "cnnmodel2.add(Dropout(rate=0.2))\n",
        "cnnmodel2.add(Flatten())\n",
        "cnnmodel2.add(layers.Dense(5, activation='softmax'))"
      ],
      "execution_count": 0,
      "outputs": []
    },
    {
      "cell_type": "code",
      "metadata": {
        "id": "68Qv8sByDtZp",
        "colab_type": "code",
        "colab": {}
      },
      "source": [
        "#ada = optimizers.Adam(lr=0.001, decay=1e-6)"
      ],
      "execution_count": 0,
      "outputs": []
    },
    {
      "cell_type": "code",
      "metadata": {
        "id": "Vs294PUxLe1m",
        "colab_type": "code",
        "outputId": "0439ee89-f98c-4577-e729-f955dde54840",
        "colab": {
          "base_uri": "https://localhost:8080/",
          "height": 503
        }
      },
      "source": [
        "cnnmodel2.compile(optimizer='adam',loss='categorical_crossentropy', metrics=['accuracy',f1_m,precision_m,recall_m])\n",
        "cnnmodel2.summary()"
      ],
      "execution_count": 153,
      "outputs": [
        {
          "output_type": "stream",
          "text": [
            "Model: \"sequential_3\"\n",
            "_________________________________________________________________\n",
            "Layer (type)                 Output Shape              Param #   \n",
            "=================================================================\n",
            "embedding_3 (Embedding)      (None, 48, 100)           1511200   \n",
            "_________________________________________________________________\n",
            "conv1d_5 (Conv1D)            (None, 48, 32)            6432      \n",
            "_________________________________________________________________\n",
            "max_pooling1d_5 (MaxPooling1 (None, 24, 32)            0         \n",
            "_________________________________________________________________\n",
            "dropout_5 (Dropout)          (None, 24, 32)            0         \n",
            "_________________________________________________________________\n",
            "conv1d_6 (Conv1D)            (None, 24, 64)            4160      \n",
            "_________________________________________________________________\n",
            "max_pooling1d_6 (MaxPooling1 (None, 12, 64)            0         \n",
            "_________________________________________________________________\n",
            "dropout_6 (Dropout)          (None, 12, 64)            0         \n",
            "_________________________________________________________________\n",
            "flatten_3 (Flatten)          (None, 768)               0         \n",
            "_________________________________________________________________\n",
            "dense_3 (Dense)              (None, 5)                 3845      \n",
            "=================================================================\n",
            "Total params: 1,525,637\n",
            "Trainable params: 1,525,637\n",
            "Non-trainable params: 0\n",
            "_________________________________________________________________\n"
          ],
          "name": "stdout"
        }
      ]
    },
    {
      "cell_type": "code",
      "metadata": {
        "id": "a_sHMoCACmHo",
        "colab_type": "code",
        "outputId": "01298971-7f19-4722-e902-a2db095dddca",
        "colab": {
          "base_uri": "https://localhost:8080/",
          "height": 991
        }
      },
      "source": [
        "history2= cnnmodel2.fit(X_A, Y_A, epochs=25, verbose=1, validation_data=(X_val, Y_val), batch_size = batch_size)"
      ],
      "execution_count": 154,
      "outputs": [
        {
          "output_type": "stream",
          "text": [
            "Train on 220476 samples, validate on 55119 samples\n",
            "Epoch 1/25\n",
            "220476/220476 [==============================] - 25s 115us/step - loss: 0.9163 - acc: 0.6207 - f1_m: 0.5567 - precision_m: 0.6887 - recall_m: 0.4815 - val_loss: 0.7196 - val_acc: 0.7149 - val_f1_m: 0.6923 - val_precision_m: 0.7613 - val_recall_m: 0.6357\n",
            "Epoch 2/25\n",
            "220476/220476 [==============================] - 25s 113us/step - loss: 0.6700 - acc: 0.7356 - f1_m: 0.7210 - precision_m: 0.7750 - recall_m: 0.6749 - val_loss: 0.6316 - val_acc: 0.7592 - val_f1_m: 0.7460 - val_precision_m: 0.7932 - val_recall_m: 0.7047\n",
            "Epoch 3/25\n",
            "220476/220476 [==============================] - 25s 112us/step - loss: 0.5830 - acc: 0.7744 - f1_m: 0.7658 - precision_m: 0.8065 - recall_m: 0.7297 - val_loss: 0.5767 - val_acc: 0.7830 - val_f1_m: 0.7721 - val_precision_m: 0.8136 - val_recall_m: 0.7353\n",
            "Epoch 4/25\n",
            "220476/220476 [==============================] - 24s 110us/step - loss: 0.5332 - acc: 0.7937 - f1_m: 0.7873 - precision_m: 0.8208 - recall_m: 0.7569 - val_loss: 0.5500 - val_acc: 0.7948 - val_f1_m: 0.7883 - val_precision_m: 0.8198 - val_recall_m: 0.7596\n",
            "Epoch 5/25\n",
            "220476/220476 [==============================] - 24s 109us/step - loss: 0.5008 - acc: 0.8079 - f1_m: 0.8026 - precision_m: 0.8317 - recall_m: 0.7759 - val_loss: 0.5342 - val_acc: 0.8019 - val_f1_m: 0.7961 - val_precision_m: 0.8260 - val_recall_m: 0.7688\n",
            "Epoch 6/25\n",
            "220476/220476 [==============================] - 24s 109us/step - loss: 0.4762 - acc: 0.8176 - f1_m: 0.8130 - precision_m: 0.8396 - recall_m: 0.7884 - val_loss: 0.5340 - val_acc: 0.8098 - val_f1_m: 0.8038 - val_precision_m: 0.8308 - val_recall_m: 0.7790\n",
            "Epoch 7/25\n",
            "220476/220476 [==============================] - 24s 109us/step - loss: 0.4594 - acc: 0.8252 - f1_m: 0.8212 - precision_m: 0.8457 - recall_m: 0.7985 - val_loss: 0.5148 - val_acc: 0.8188 - val_f1_m: 0.8138 - val_precision_m: 0.8388 - val_recall_m: 0.7907\n",
            "Epoch 8/25\n",
            "220476/220476 [==============================] - 24s 109us/step - loss: 0.4427 - acc: 0.8310 - f1_m: 0.8275 - precision_m: 0.8503 - recall_m: 0.8062 - val_loss: 0.5086 - val_acc: 0.8226 - val_f1_m: 0.8175 - val_precision_m: 0.8412 - val_recall_m: 0.7955\n",
            "Epoch 9/25\n",
            "220476/220476 [==============================] - 24s 108us/step - loss: 0.4296 - acc: 0.8364 - f1_m: 0.8332 - precision_m: 0.8548 - recall_m: 0.8130 - val_loss: 0.5003 - val_acc: 0.8272 - val_f1_m: 0.8222 - val_precision_m: 0.8449 - val_recall_m: 0.8011\n",
            "Epoch 10/25\n",
            "220476/220476 [==============================] - 24s 109us/step - loss: 0.4186 - acc: 0.8408 - f1_m: 0.8378 - precision_m: 0.8579 - recall_m: 0.8188 - val_loss: 0.5049 - val_acc: 0.8293 - val_f1_m: 0.8251 - val_precision_m: 0.8452 - val_recall_m: 0.8062\n",
            "Epoch 11/25\n",
            "220476/220476 [==============================] - 24s 108us/step - loss: 0.4103 - acc: 0.8448 - f1_m: 0.8423 - precision_m: 0.8615 - recall_m: 0.8241 - val_loss: 0.4937 - val_acc: 0.8293 - val_f1_m: 0.8244 - val_precision_m: 0.8470 - val_recall_m: 0.8033\n",
            "Epoch 12/25\n",
            "220476/220476 [==============================] - 24s 108us/step - loss: 0.4039 - acc: 0.8474 - f1_m: 0.8450 - precision_m: 0.8638 - recall_m: 0.8273 - val_loss: 0.4896 - val_acc: 0.8343 - val_f1_m: 0.8308 - val_precision_m: 0.8508 - val_recall_m: 0.8119\n",
            "Epoch 13/25\n",
            "220476/220476 [==============================] - 24s 108us/step - loss: 0.3970 - acc: 0.8505 - f1_m: 0.8479 - precision_m: 0.8661 - recall_m: 0.8307 - val_loss: 0.4907 - val_acc: 0.8350 - val_f1_m: 0.8321 - val_precision_m: 0.8492 - val_recall_m: 0.8160\n",
            "Epoch 14/25\n",
            "220476/220476 [==============================] - 24s 108us/step - loss: 0.3900 - acc: 0.8528 - f1_m: 0.8509 - precision_m: 0.8682 - recall_m: 0.8345 - val_loss: 0.4938 - val_acc: 0.8385 - val_f1_m: 0.8342 - val_precision_m: 0.8520 - val_recall_m: 0.8174\n",
            "Epoch 15/25\n",
            "220476/220476 [==============================] - 24s 110us/step - loss: 0.3855 - acc: 0.8550 - f1_m: 0.8528 - precision_m: 0.8700 - recall_m: 0.8366 - val_loss: 0.4923 - val_acc: 0.8416 - val_f1_m: 0.8380 - val_precision_m: 0.8549 - val_recall_m: 0.8219\n",
            "Epoch 16/25\n",
            "220476/220476 [==============================] - 24s 110us/step - loss: 0.3786 - acc: 0.8575 - f1_m: 0.8554 - precision_m: 0.8719 - recall_m: 0.8397 - val_loss: 0.4837 - val_acc: 0.8409 - val_f1_m: 0.8383 - val_precision_m: 0.8544 - val_recall_m: 0.8231\n",
            "Epoch 17/25\n",
            "220476/220476 [==============================] - 24s 108us/step - loss: 0.3755 - acc: 0.8591 - f1_m: 0.8573 - precision_m: 0.8733 - recall_m: 0.8422 - val_loss: 0.4946 - val_acc: 0.8401 - val_f1_m: 0.8370 - val_precision_m: 0.8534 - val_recall_m: 0.8215\n",
            "Epoch 18/25\n",
            "220476/220476 [==============================] - 24s 108us/step - loss: 0.3714 - acc: 0.8607 - f1_m: 0.8590 - precision_m: 0.8748 - recall_m: 0.8440 - val_loss: 0.4821 - val_acc: 0.8456 - val_f1_m: 0.8429 - val_precision_m: 0.8593 - val_recall_m: 0.8273\n",
            "Epoch 19/25\n",
            "220476/220476 [==============================] - 24s 108us/step - loss: 0.3672 - acc: 0.8620 - f1_m: 0.8603 - precision_m: 0.8755 - recall_m: 0.8458 - val_loss: 0.4760 - val_acc: 0.8428 - val_f1_m: 0.8400 - val_precision_m: 0.8575 - val_recall_m: 0.8235\n",
            "Epoch 20/25\n",
            "220476/220476 [==============================] - 24s 108us/step - loss: 0.3640 - acc: 0.8633 - f1_m: 0.8615 - precision_m: 0.8766 - recall_m: 0.8471 - val_loss: 0.4943 - val_acc: 0.8441 - val_f1_m: 0.8409 - val_precision_m: 0.8584 - val_recall_m: 0.8245\n",
            "Epoch 21/25\n",
            "220476/220476 [==============================] - 24s 108us/step - loss: 0.3590 - acc: 0.8657 - f1_m: 0.8640 - precision_m: 0.8789 - recall_m: 0.8499 - val_loss: 0.4938 - val_acc: 0.8446 - val_f1_m: 0.8419 - val_precision_m: 0.8564 - val_recall_m: 0.8281\n",
            "Epoch 22/25\n",
            "220476/220476 [==============================] - 24s 108us/step - loss: 0.3572 - acc: 0.8661 - f1_m: 0.8645 - precision_m: 0.8789 - recall_m: 0.8508 - val_loss: 0.4778 - val_acc: 0.8471 - val_f1_m: 0.8437 - val_precision_m: 0.8590 - val_recall_m: 0.8292\n",
            "Epoch 23/25\n",
            "220476/220476 [==============================] - 24s 108us/step - loss: 0.3532 - acc: 0.8677 - f1_m: 0.8660 - precision_m: 0.8802 - recall_m: 0.8524 - val_loss: 0.4866 - val_acc: 0.8481 - val_f1_m: 0.8453 - val_precision_m: 0.8599 - val_recall_m: 0.8313\n",
            "Epoch 24/25\n",
            "220476/220476 [==============================] - 24s 108us/step - loss: 0.3531 - acc: 0.8679 - f1_m: 0.8662 - precision_m: 0.8803 - recall_m: 0.8528 - val_loss: 0.4832 - val_acc: 0.8491 - val_f1_m: 0.8465 - val_precision_m: 0.8609 - val_recall_m: 0.8327\n",
            "Epoch 25/25\n",
            "220476/220476 [==============================] - 24s 108us/step - loss: 0.3503 - acc: 0.8684 - f1_m: 0.8665 - precision_m: 0.8805 - recall_m: 0.8532 - val_loss: 0.4816 - val_acc: 0.8505 - val_f1_m: 0.8482 - val_precision_m: 0.8624 - val_recall_m: 0.8347\n"
          ],
          "name": "stdout"
        }
      ]
    },
    {
      "cell_type": "code",
      "metadata": {
        "id": "04JR04dbZnYJ",
        "colab_type": "code",
        "colab": {
          "base_uri": "https://localhost:8080/",
          "height": 573
        },
        "outputId": "fdc2a899-c2cf-4de9-da00-a237257cf8ca"
      },
      "source": [
        "import matplotlib.pyplot as plt\n",
        "\n",
        "# Plot training & validation accuracy values\n",
        "plt.plot(history2.history['acc'])\n",
        "plt.plot(history2.history['val_acc'])\n",
        "plt.title('Model accuracy')\n",
        "plt.ylabel('Accuracy')\n",
        "plt.xlabel('Epoch')\n",
        "plt.legend(['Train', 'Validation'], loc='upper left')\n",
        "plt.show()\n",
        "\n",
        "# Plot training & validation loss values\n",
        "plt.plot(history2.history['loss'])\n",
        "plt.plot(history2.history['val_loss'])\n",
        "plt.title('Model loss')\n",
        "plt.ylabel('Loss')\n",
        "plt.xlabel('Epoch')\n",
        "plt.legend(['Train', 'Validation'], loc='upper left')\n",
        "plt.show()"
      ],
      "execution_count": 155,
      "outputs": [
        {
          "output_type": "display_data",
          "data": {
            "image/png": "[encoded data removed]",
            "text/plain": [
              "<Figure size 432x288 with 1 Axes>"
            ]
          },
          "metadata": {
            "tags": []
          }
        },
        {
          "output_type": "display_data",
          "data": {
            "image/png": "[encoded data removed]",
            "text/plain": [
              "<Figure size 432x288 with 1 Axes>"
            ]
          },
          "metadata": {
            "tags": []
          }
        }
      ]
    },
    {
      "cell_type": "code",
      "metadata": {
        "id": "OCC1_m78EZ4Q",
        "colab_type": "code",
        "outputId": "6a6d398f-619f-4820-a43e-d361efa30f32",
        "colab": {
          "base_uri": "https://localhost:8080/",
          "height": 148
        }
      },
      "source": [
        "#testing results\n",
        "print(cnnmodel2.metrics_names)\n",
        "cnnmodel2.evaluate(X_test, to_categorical(Y_test))"
      ],
      "execution_count": 156,
      "outputs": [
        {
          "output_type": "stream",
          "text": [
            "['loss', 'acc', 'f1_m', 'precision_m', 'recall_m']\n",
            "46818/46818 [==============================] - 3s 72us/step\n"
          ],
          "name": "stdout"
        },
        {
          "output_type": "execute_result",
          "data": {
            "text/plain": [
              "[1.5403094606222523,\n",
              " 0.6068606091674142,\n",
              " 0.5986643916284714,\n",
              " 0.616707061457305,\n",
              " 0.5821906104489726]"
            ]
          },
          "metadata": {
            "tags": []
          },
          "execution_count": 156
        }
      ]
    }
  ]
}