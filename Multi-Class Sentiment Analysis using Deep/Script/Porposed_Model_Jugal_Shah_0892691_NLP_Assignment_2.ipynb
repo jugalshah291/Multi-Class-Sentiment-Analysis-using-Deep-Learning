{
  "nbformat": 4,
  "nbformat_minor": 0,
  "metadata": {
    "colab": {
      "name": "Porposed_Model_Jugal_Shah_0892691_NLP_Assignment_2.ipynb",
      "provenance": [],
      "collapsed_sections": []
    },
    "kernelspec": {
      "name": "python3",
      "display_name": "Python 3"
    },
    "accelerator": "GPU"
  },
  "cells": [
    {
      "cell_type": "code",
      "metadata": {
        "id": "5hjr0tgPfk61",
        "colab_type": "code",
        "outputId": "3ad26c8e-441d-48b8-a604-62dd4c9f000a",
        "colab": {
          "base_uri": "https://localhost:8080/",
          "height": 129
        }
      },
      "source": [
        "#import libraries\n",
        "from keras.models import load_model\n",
        "import time\n",
        "import pandas as pd\n",
        "import csv\n",
        "import numpy as np\n",
        "import matplotlib.pyplot as plt\n",
        "import nltk\n",
        "import re\n",
        "nltk.download('punkt')\n",
        "nltk.download('stopwords')\n",
        "nltk.download('wordnet')\n",
        "import matplotlib.pyplot as plt\n",
        "import seaborn as sns\n",
        "#Data Cleaning\n",
        "from nltk.corpus import stopwords\n",
        "from nltk.stem import WordNetLemmatizer, PorterStemmer, LancasterStemmer\n",
        "import string\n",
        "#Model Evaludation\n",
        "from sklearn.metrics import accuracy_score\n",
        "from sklearn import metrics\n",
        "#Model Feature Extraction\n",
        "from sklearn.feature_extraction.text import TfidfVectorizer, CountVectorizer\n",
        "from sklearn.model_selection import train_test_split\n",
        "from keras.utils import to_categorical"
      ],
      "execution_count": 45,
      "outputs": [
        {
          "output_type": "stream",
          "text": [
            "[nltk_data] Downloading package punkt to /root/nltk_data...\n",
            "[nltk_data]   Package punkt is already up-to-date!\n",
            "[nltk_data] Downloading package stopwords to /root/nltk_data...\n",
            "[nltk_data]   Package stopwords is already up-to-date!\n",
            "[nltk_data] Downloading package wordnet to /root/nltk_data...\n",
            "[nltk_data]   Package wordnet is already up-to-date!\n"
          ],
          "name": "stdout"
        }
      ]
    },
    {
      "cell_type": "code",
      "metadata": {
        "id": "YRxzWV0eqgMC",
        "colab_type": "code",
        "colab": {}
      },
      "source": [
        "#Stemmer and Lemmatizer intialization\n",
        "porter = PorterStemmer()\n",
        "lancaster=LancasterStemmer()\n",
        "wordnet_lemmatizer = WordNetLemmatizer()\n",
        "stopwords_en = stopwords.words(\"english\")\n",
        "punctuations=\"?:!.,;'\\\"-()*\""
      ],
      "execution_count": 0,
      "outputs": []
    },
    {
      "cell_type": "code",
      "metadata": {
        "id": "ANVKdUodqZP6",
        "colab_type": "code",
        "colab": {}
      },
      "source": [
        "#utility function to clean the dataset\n",
        "def datacleaning(remove_stopwords,useStemming,useLemma,removePuncs,newdata):\n",
        "  cleanReview=[]\n",
        "  for x in range(0,len(newdata.values)):\n",
        "    tmpReview=[]\n",
        "    for w in nltk.word_tokenize(newdata.values[x]):\n",
        "        newWord = str(w).lower() #Set newWork to be the updated word\n",
        "        if remove_stopwords and (w in stopwords_en):#if the word is a stopword & we want to remove stopwords\n",
        "            continue #skip the word and don’t had it to the normalized review\n",
        "        if removePuncs and (w in punctuations):#if the word is a punc. & we want to remove punctuations\n",
        "            continue #skip the word and don’t had it to the normalized review\n",
        "        if useStemming: #if useStemming is set to True\n",
        "            #Keep one stemmer commented out\n",
        "            #newWord = porter.stem(newWord) #User porter stemmer\n",
        "            newWord = lancaster.stem(newWord) #Use Lancaster stemmer\n",
        "        if useLemma:\n",
        "            newWord = wordnet_lemmatizer.lemmatize(newWord)\n",
        "        tmpReview.append(newWord) #Add normalized word to the tmp review\n",
        "    cleanReview.append(' '.join(tmpReview))\n",
        "  return cleanReview"
      ],
      "execution_count": 0,
      "outputs": []
    },
    {
      "cell_type": "code",
      "metadata": {
        "id": "L9UBMhSLiEs1",
        "colab_type": "code",
        "colab": {}
      },
      "source": [
        "#Read the dataset\n",
        "url= 'https://raw.githubusercontent.com/cacoderquan/Sentiment-Analysis-on-the-Rotten-Tomatoes-movie-review-dataset/master/train.tsv'\n",
        "dataset = pd.read_csv(url, sep='\\t')"
      ],
      "execution_count": 0,
      "outputs": []
    },
    {
      "cell_type": "code",
      "metadata": {
        "id": "DzxvReBZiH7M",
        "colab_type": "code",
        "outputId": "ea266102-a0c7-4a0a-d13a-e40e2870b491",
        "colab": {
          "base_uri": "https://localhost:8080/",
          "height": 36
        }
      },
      "source": [
        "dataset.shape"
      ],
      "execution_count": 49,
      "outputs": [
        {
          "output_type": "execute_result",
          "data": {
            "text/plain": [
              "(156060, 4)"
            ]
          },
          "metadata": {
            "tags": []
          },
          "execution_count": 49
        }
      ]
    },
    {
      "cell_type": "code",
      "metadata": {
        "id": "-l6nbQlYiKZP",
        "colab_type": "code",
        "outputId": "5fa09b4c-56d0-4a82-cec9-21f65a005ef2",
        "colab": {
          "base_uri": "https://localhost:8080/",
          "height": 363
        }
      },
      "source": [
        "#Top 10 Rows of dataset\n",
        "dataset.head(10)"
      ],
      "execution_count": 50,
      "outputs": [
        {
          "output_type": "execute_result",
          "data": {
            "text/html": [
              "<div>\n",
              "<style scoped>\n",
              "    .dataframe tbody tr th:only-of-type {\n",
              "        vertical-align: middle;\n",
              "    }\n",
              "\n",
              "    .dataframe tbody tr th {\n",
              "        vertical-align: top;\n",
              "    }\n",
              "\n",
              "    .dataframe thead th {\n",
              "        text-align: right;\n",
              "    }\n",
              "</style>\n",
              "<table border=\"1\" class=\"dataframe\">\n",
              "  <thead>\n",
              "    <tr style=\"text-align: right;\">\n",
              "      <th></th>\n",
              "      <th>PhraseId</th>\n",
              "      <th>SentenceId</th>\n",
              "      <th>Phrase</th>\n",
              "      <th>Sentiment</th>\n",
              "    </tr>\n",
              "  </thead>\n",
              "  <tbody>\n",
              "    <tr>\n",
              "      <th>0</th>\n",
              "      <td>1</td>\n",
              "      <td>1</td>\n",
              "      <td>A series of escapades demonstrating the adage ...</td>\n",
              "      <td>1</td>\n",
              "    </tr>\n",
              "    <tr>\n",
              "      <th>1</th>\n",
              "      <td>2</td>\n",
              "      <td>1</td>\n",
              "      <td>A series of escapades demonstrating the adage ...</td>\n",
              "      <td>2</td>\n",
              "    </tr>\n",
              "    <tr>\n",
              "      <th>2</th>\n",
              "      <td>3</td>\n",
              "      <td>1</td>\n",
              "      <td>A series</td>\n",
              "      <td>2</td>\n",
              "    </tr>\n",
              "    <tr>\n",
              "      <th>3</th>\n",
              "      <td>4</td>\n",
              "      <td>1</td>\n",
              "      <td>A</td>\n",
              "      <td>2</td>\n",
              "    </tr>\n",
              "    <tr>\n",
              "      <th>4</th>\n",
              "      <td>5</td>\n",
              "      <td>1</td>\n",
              "      <td>series</td>\n",
              "      <td>2</td>\n",
              "    </tr>\n",
              "    <tr>\n",
              "      <th>5</th>\n",
              "      <td>6</td>\n",
              "      <td>1</td>\n",
              "      <td>of escapades demonstrating the adage that what...</td>\n",
              "      <td>2</td>\n",
              "    </tr>\n",
              "    <tr>\n",
              "      <th>6</th>\n",
              "      <td>7</td>\n",
              "      <td>1</td>\n",
              "      <td>of</td>\n",
              "      <td>2</td>\n",
              "    </tr>\n",
              "    <tr>\n",
              "      <th>7</th>\n",
              "      <td>8</td>\n",
              "      <td>1</td>\n",
              "      <td>escapades demonstrating the adage that what is...</td>\n",
              "      <td>2</td>\n",
              "    </tr>\n",
              "    <tr>\n",
              "      <th>8</th>\n",
              "      <td>9</td>\n",
              "      <td>1</td>\n",
              "      <td>escapades</td>\n",
              "      <td>2</td>\n",
              "    </tr>\n",
              "    <tr>\n",
              "      <th>9</th>\n",
              "      <td>10</td>\n",
              "      <td>1</td>\n",
              "      <td>demonstrating the adage that what is good for ...</td>\n",
              "      <td>2</td>\n",
              "    </tr>\n",
              "  </tbody>\n",
              "</table>\n",
              "</div>"
            ],
            "text/plain": [
              "   PhraseId  ...  Sentiment\n",
              "0         1  ...          1\n",
              "1         2  ...          2\n",
              "2         3  ...          2\n",
              "3         4  ...          2\n",
              "4         5  ...          2\n",
              "5         6  ...          2\n",
              "6         7  ...          2\n",
              "7         8  ...          2\n",
              "8         9  ...          2\n",
              "9        10  ...          2\n",
              "\n",
              "[10 rows x 4 columns]"
            ]
          },
          "metadata": {
            "tags": []
          },
          "execution_count": 50
        }
      ]
    },
    {
      "cell_type": "code",
      "metadata": {
        "id": "_Ph8OvV7Xrxe",
        "colab_type": "code",
        "outputId": "e4795608-642a-44b8-ca7c-026d3d75184e",
        "colab": {
          "base_uri": "https://localhost:8080/",
          "height": 56
        }
      },
      "source": [
        "dataset['Phrase'][0]"
      ],
      "execution_count": 51,
      "outputs": [
        {
          "output_type": "execute_result",
          "data": {
            "text/plain": [
              "'A series of escapades demonstrating the adage that what is good for the goose is also good for the gander , some of which occasionally amuses but none of which amounts to much of a story .'"
            ]
          },
          "metadata": {
            "tags": []
          },
          "execution_count": 51
        }
      ]
    },
    {
      "cell_type": "code",
      "metadata": {
        "id": "h8jS6ZA1ifKX",
        "colab_type": "code",
        "colab": {}
      },
      "source": [
        "#Count of Each Sentiment\n",
        "df_plot=dataset['Sentiment'].value_counts()"
      ],
      "execution_count": 0,
      "outputs": []
    },
    {
      "cell_type": "code",
      "metadata": {
        "id": "IRREFgst62NR",
        "colab_type": "code",
        "outputId": "d42977d2-7eef-4ccb-8d3d-8ca8ce47df1a",
        "colab": {
          "base_uri": "https://localhost:8080/",
          "height": 353
        }
      },
      "source": [
        "#Plot the sentiment class count\n",
        "plt.figure(figsize=(10,5))\n",
        "sns.barplot(df_plot.index, df_plot.values, alpha=0.8,color='c')\n",
        "plt.title('Sentiment Label Count')\n",
        "plt.ylabel('Number of Occurrences', fontsize=12)\n",
        "plt.xlabel('Sentiment', fontsize=12)\n",
        "plt.show()\n",
        "#plt.savefig('/content/drive/My Drive/NLP_Assignment_2/Imbalance.png', format='png', dpi=1200)"
      ],
      "execution_count": 53,
      "outputs": [
        {
          "output_type": "display_data",
          "data": {
            "image/png": "[encoded data removed]",
            "text/plain": [
              "<Figure size 720x360 with 1 Axes>"
            ]
          },
          "metadata": {
            "tags": []
          }
        }
      ]
    },
    {
      "cell_type": "code",
      "metadata": {
        "id": "uNl0Cntvju1D",
        "colab_type": "code",
        "colab": {}
      },
      "source": [
        "#Split the dataset in Test Train\n",
        "X_train, X_test, Y_train, Y_test = train_test_split(dataset['Phrase'],dataset['Sentiment'], test_size=0.3, random_state=2003)"
      ],
      "execution_count": 0,
      "outputs": []
    },
    {
      "cell_type": "code",
      "metadata": {
        "id": "TRUcDclajvkx",
        "colab_type": "code",
        "outputId": "ca412679-e7a2-4246-b9d5-2dc2f9b3f4cc",
        "colab": {
          "base_uri": "https://localhost:8080/",
          "height": 54
        }
      },
      "source": [
        "print(X_train.shape)\n",
        "print(X_test.shape)"
      ],
      "execution_count": 55,
      "outputs": [
        {
          "output_type": "stream",
          "text": [
            "(109242,)\n",
            "(46818,)\n"
          ],
          "name": "stdout"
        }
      ]
    },
    {
      "cell_type": "code",
      "metadata": {
        "id": "yBtzevCds_P4",
        "colab_type": "code",
        "outputId": "ea6fa015-9d84-4593-dbcf-1b5ff0ea18ba",
        "colab": {
          "base_uri": "https://localhost:8080/",
          "height": 363
        }
      },
      "source": [
        "#Form a dataframe for the training data\n",
        "temp_clean=pd.concat([X_train,Y_train],axis=1)\n",
        "temp_clean.head(10)"
      ],
      "execution_count": 56,
      "outputs": [
        {
          "output_type": "execute_result",
          "data": {
            "text/html": [
              "<div>\n",
              "<style scoped>\n",
              "    .dataframe tbody tr th:only-of-type {\n",
              "        vertical-align: middle;\n",
              "    }\n",
              "\n",
              "    .dataframe tbody tr th {\n",
              "        vertical-align: top;\n",
              "    }\n",
              "\n",
              "    .dataframe thead th {\n",
              "        text-align: right;\n",
              "    }\n",
              "</style>\n",
              "<table border=\"1\" class=\"dataframe\">\n",
              "  <thead>\n",
              "    <tr style=\"text-align: right;\">\n",
              "      <th></th>\n",
              "      <th>Phrase</th>\n",
              "      <th>Sentiment</th>\n",
              "    </tr>\n",
              "  </thead>\n",
              "  <tbody>\n",
              "    <tr>\n",
              "      <th>13718</th>\n",
              "      <td>their ages</td>\n",
              "      <td>2</td>\n",
              "    </tr>\n",
              "    <tr>\n",
              "      <th>91191</th>\n",
              "      <td>gorgeous epic</td>\n",
              "      <td>4</td>\n",
              "    </tr>\n",
              "    <tr>\n",
              "      <th>97160</th>\n",
              "      <td>fans of the gross-out comedy</td>\n",
              "      <td>2</td>\n",
              "    </tr>\n",
              "    <tr>\n",
              "      <th>143983</th>\n",
              "      <td>The filmmaker ascends , literally , to the Oly...</td>\n",
              "      <td>4</td>\n",
              "    </tr>\n",
              "    <tr>\n",
              "      <th>37501</th>\n",
              "      <td>twisting mystery</td>\n",
              "      <td>2</td>\n",
              "    </tr>\n",
              "    <tr>\n",
              "      <th>44396</th>\n",
              "      <td>including mine -RRB-</td>\n",
              "      <td>2</td>\n",
              "    </tr>\n",
              "    <tr>\n",
              "      <th>40166</th>\n",
              "      <td>more enjoyable than its predecessor</td>\n",
              "      <td>3</td>\n",
              "    </tr>\n",
              "    <tr>\n",
              "      <th>30005</th>\n",
              "      <td>film that 's flawed and brilliant in equal mea...</td>\n",
              "      <td>3</td>\n",
              "    </tr>\n",
              "    <tr>\n",
              "      <th>67570</th>\n",
              "      <td>bask</td>\n",
              "      <td>2</td>\n",
              "    </tr>\n",
              "    <tr>\n",
              "      <th>89575</th>\n",
              "      <td>If ever a concept came handed down from the mo...</td>\n",
              "      <td>4</td>\n",
              "    </tr>\n",
              "  </tbody>\n",
              "</table>\n",
              "</div>"
            ],
            "text/plain": [
              "                                                   Phrase  Sentiment\n",
              "13718                                          their ages          2\n",
              "91191                                       gorgeous epic          4\n",
              "97160                        fans of the gross-out comedy          2\n",
              "143983  The filmmaker ascends , literally , to the Oly...          4\n",
              "37501                                    twisting mystery          2\n",
              "44396                                including mine -RRB-          2\n",
              "40166                 more enjoyable than its predecessor          3\n",
              "30005   film that 's flawed and brilliant in equal mea...          3\n",
              "67570                                                bask          2\n",
              "89575   If ever a concept came handed down from the mo...          4"
            ]
          },
          "metadata": {
            "tags": []
          },
          "execution_count": 56
        }
      ]
    },
    {
      "cell_type": "code",
      "metadata": {
        "id": "IuYmj1BfrPGu",
        "colab_type": "code",
        "colab": {}
      },
      "source": [
        "#Train data cleaning\n",
        "clean_x_train=datacleaning(True,False,True,True,X_train)"
      ],
      "execution_count": 0,
      "outputs": []
    },
    {
      "cell_type": "code",
      "metadata": {
        "id": "cNG6NqOGsOFx",
        "colab_type": "code",
        "colab": {}
      },
      "source": [
        "#Concat the clean data to the train dataframe\n",
        "temp_clean['Cleaned']=clean_x_train"
      ],
      "execution_count": 0,
      "outputs": []
    },
    {
      "cell_type": "code",
      "metadata": {
        "id": "RporScD6uJXW",
        "colab_type": "code",
        "outputId": "ff1e30f0-202b-4f6a-b4fd-511e610ec1c6",
        "colab": {
          "base_uri": "https://localhost:8080/",
          "height": 363
        }
      },
      "source": [
        "temp_clean.head(10)"
      ],
      "execution_count": 59,
      "outputs": [
        {
          "output_type": "execute_result",
          "data": {
            "text/html": [
              "<div>\n",
              "<style scoped>\n",
              "    .dataframe tbody tr th:only-of-type {\n",
              "        vertical-align: middle;\n",
              "    }\n",
              "\n",
              "    .dataframe tbody tr th {\n",
              "        vertical-align: top;\n",
              "    }\n",
              "\n",
              "    .dataframe thead th {\n",
              "        text-align: right;\n",
              "    }\n",
              "</style>\n",
              "<table border=\"1\" class=\"dataframe\">\n",
              "  <thead>\n",
              "    <tr style=\"text-align: right;\">\n",
              "      <th></th>\n",
              "      <th>Phrase</th>\n",
              "      <th>Sentiment</th>\n",
              "      <th>Cleaned</th>\n",
              "    </tr>\n",
              "  </thead>\n",
              "  <tbody>\n",
              "    <tr>\n",
              "      <th>13718</th>\n",
              "      <td>their ages</td>\n",
              "      <td>2</td>\n",
              "      <td>age</td>\n",
              "    </tr>\n",
              "    <tr>\n",
              "      <th>91191</th>\n",
              "      <td>gorgeous epic</td>\n",
              "      <td>4</td>\n",
              "      <td>gorgeous epic</td>\n",
              "    </tr>\n",
              "    <tr>\n",
              "      <th>97160</th>\n",
              "      <td>fans of the gross-out comedy</td>\n",
              "      <td>2</td>\n",
              "      <td>fan gross-out comedy</td>\n",
              "    </tr>\n",
              "    <tr>\n",
              "      <th>143983</th>\n",
              "      <td>The filmmaker ascends , literally , to the Oly...</td>\n",
              "      <td>4</td>\n",
              "      <td>the filmmaker ascends literally olympus art world</td>\n",
              "    </tr>\n",
              "    <tr>\n",
              "      <th>37501</th>\n",
              "      <td>twisting mystery</td>\n",
              "      <td>2</td>\n",
              "      <td>twisting mystery</td>\n",
              "    </tr>\n",
              "    <tr>\n",
              "      <th>44396</th>\n",
              "      <td>including mine -RRB-</td>\n",
              "      <td>2</td>\n",
              "      <td>including mine -rrb-</td>\n",
              "    </tr>\n",
              "    <tr>\n",
              "      <th>40166</th>\n",
              "      <td>more enjoyable than its predecessor</td>\n",
              "      <td>3</td>\n",
              "      <td>enjoyable predecessor</td>\n",
              "    </tr>\n",
              "    <tr>\n",
              "      <th>30005</th>\n",
              "      <td>film that 's flawed and brilliant in equal mea...</td>\n",
              "      <td>3</td>\n",
              "      <td>film 's flawed brilliant equal measure</td>\n",
              "    </tr>\n",
              "    <tr>\n",
              "      <th>67570</th>\n",
              "      <td>bask</td>\n",
              "      <td>2</td>\n",
              "      <td>bask</td>\n",
              "    </tr>\n",
              "    <tr>\n",
              "      <th>89575</th>\n",
              "      <td>If ever a concept came handed down from the mo...</td>\n",
              "      <td>4</td>\n",
              "      <td>if ever concept came handed movie god silver p...</td>\n",
              "    </tr>\n",
              "  </tbody>\n",
              "</table>\n",
              "</div>"
            ],
            "text/plain": [
              "                                                   Phrase  ...                                            Cleaned\n",
              "13718                                          their ages  ...                                                age\n",
              "91191                                       gorgeous epic  ...                                      gorgeous epic\n",
              "97160                        fans of the gross-out comedy  ...                               fan gross-out comedy\n",
              "143983  The filmmaker ascends , literally , to the Oly...  ...  the filmmaker ascends literally olympus art world\n",
              "37501                                    twisting mystery  ...                                   twisting mystery\n",
              "44396                                including mine -RRB-  ...                               including mine -rrb-\n",
              "40166                 more enjoyable than its predecessor  ...                              enjoyable predecessor\n",
              "30005   film that 's flawed and brilliant in equal mea...  ...             film 's flawed brilliant equal measure\n",
              "67570                                                bask  ...                                               bask\n",
              "89575   If ever a concept came handed down from the mo...  ...  if ever concept came handed movie god silver p...\n",
              "\n",
              "[10 rows x 3 columns]"
            ]
          },
          "metadata": {
            "tags": []
          },
          "execution_count": 59
        }
      ]
    },
    {
      "cell_type": "code",
      "metadata": {
        "id": "2Rs2XucSwmZR",
        "colab_type": "code",
        "colab": {}
      },
      "source": [
        "#check for empty entries after removing stop mords\n",
        "#list(temp_clean['Cleaned']=='').count(True)"
      ],
      "execution_count": 0,
      "outputs": []
    },
    {
      "cell_type": "code",
      "metadata": {
        "id": "8YjFJpHjxPih",
        "colab_type": "code",
        "colab": {}
      },
      "source": [
        "#drop empty entries\n",
        "#nan_value = float(\"NaN\")\n",
        "#temp_clean.replace(\"\", nan_value, inplace=True)\n",
        "#temp_clean.dropna(subset = [\"Cleaned\"], inplace=True)"
      ],
      "execution_count": 0,
      "outputs": []
    },
    {
      "cell_type": "code",
      "metadata": {
        "id": "KQfNDA3iGis2",
        "colab_type": "code",
        "colab": {}
      },
      "source": [
        "#drop duplicates\n",
        "#temp_clean.drop_duplicates(subset=['Cleaned', 'Sentiment'],inplace=True)"
      ],
      "execution_count": 0,
      "outputs": []
    },
    {
      "cell_type": "code",
      "metadata": {
        "id": "OZ2m2H9qyTOx",
        "colab_type": "code",
        "outputId": "d5fb4d7a-1cd9-4feb-8a21-94a493e2ab3b",
        "colab": {
          "base_uri": "https://localhost:8080/",
          "height": 36
        }
      },
      "source": [
        "temp_clean.shape"
      ],
      "execution_count": 63,
      "outputs": [
        {
          "output_type": "execute_result",
          "data": {
            "text/plain": [
              "(109242, 3)"
            ]
          },
          "metadata": {
            "tags": []
          },
          "execution_count": 63
        }
      ]
    },
    {
      "cell_type": "code",
      "metadata": {
        "id": "c4-MGlNHGZLo",
        "colab_type": "code",
        "outputId": "7f959351-92f5-4489-ef7a-5da29463d56f",
        "colab": {
          "base_uri": "https://localhost:8080/",
          "height": 129
        }
      },
      "source": [
        "#Count of sentiment label in training data\n",
        "temp_clean['Sentiment'].value_counts()"
      ],
      "execution_count": 64,
      "outputs": [
        {
          "output_type": "execute_result",
          "data": {
            "text/plain": [
              "2    55595\n",
              "3    23055\n",
              "1    19203\n",
              "4     6468\n",
              "0     4921\n",
              "Name: Sentiment, dtype: int64"
            ]
          },
          "metadata": {
            "tags": []
          },
          "execution_count": 64
        }
      ]
    },
    {
      "cell_type": "code",
      "metadata": {
        "id": "EZb4J6sil4E3",
        "colab_type": "code",
        "colab": {}
      },
      "source": [
        "#TFIDF vectorization of train data with top 3000 features\n",
        "#vectorizer = CountVectorizer(stop_words=\"english\",ngram_range=(1, 1))\n",
        "vectorizer_tfid = TfidfVectorizer(stop_words=\"english\",ngram_range=(1, 2),max_features=3000)\n",
        "x_train = vectorizer_tfid.fit_transform(temp_clean['Cleaned'])\n",
        "y_train = temp_clean['Sentiment']\n"
      ],
      "execution_count": 0,
      "outputs": []
    },
    {
      "cell_type": "code",
      "metadata": {
        "id": "Ruy-Z31KpUwP",
        "colab_type": "code",
        "outputId": "ddf752d4-7569-4b02-d4e3-aef235f7459d",
        "colab": {
          "base_uri": "https://localhost:8080/",
          "height": 36
        }
      },
      "source": [
        "#input vector shape\n",
        "x_train.shape"
      ],
      "execution_count": 66,
      "outputs": [
        {
          "output_type": "execute_result",
          "data": {
            "text/plain": [
              "(109242, 3000)"
            ]
          },
          "metadata": {
            "tags": []
          },
          "execution_count": 66
        }
      ]
    },
    {
      "cell_type": "code",
      "metadata": {
        "id": "Aiux4OWcyzyt",
        "colab_type": "code",
        "colab": {}
      },
      "source": [
        "#Convert the train data to numpy\n",
        "x_train_np = x_train.toarray()\n",
        "y_train_np = np.array(y_train)"
      ],
      "execution_count": 0,
      "outputs": []
    },
    {
      "cell_type": "code",
      "metadata": {
        "id": "d4Gf-JeMzAZx",
        "colab_type": "code",
        "outputId": "1eedb966-8e49-468e-bd43-25021673ac34",
        "colab": {
          "base_uri": "https://localhost:8080/",
          "height": 54
        }
      },
      "source": [
        "#Reshape the train data for Conv1d and y_train categorical\n",
        "x_train_np=x_train_np.reshape(x_train_np.shape[0],x_train_np.shape[1],1)\n",
        "print(x_train_np.shape)\n",
        "y_train_np = to_categorical(y_train_np)\n",
        "print(y_train_np.shape)"
      ],
      "execution_count": 68,
      "outputs": [
        {
          "output_type": "stream",
          "text": [
            "(109242, 3000, 1)\n",
            "(109242, 5)\n"
          ],
          "name": "stdout"
        }
      ]
    },
    {
      "cell_type": "code",
      "metadata": {
        "id": "d1LU1BqdzJZ3",
        "colab_type": "code",
        "colab": {}
      },
      "source": [
        "#Utility function for recall, precesion and F1 score\n",
        "#Ref: https://datascience.stackexchange.com/questions/45165/how-to-get-accuracy-f1-precision-and-recall-for-a-keras-model\n",
        "from keras import backend as K\n",
        "def recall_m(y_true, y_pred):\n",
        "  true_positives = K.sum(K.round(K.clip(y_true*y_pred, 0, 1)))\n",
        "  possible_positives = K.sum(K.round(K.clip(y_true, 0 ,1)))\n",
        "  recall = true_positives / (possible_positives + K.epsilon())\n",
        "  return recall\n",
        "\n",
        "def precision_m(y_true, y_pred):\n",
        "  true_positives = K.sum(K.round(K.clip(y_true*y_pred, 0, 1)))\n",
        "  predicted_positives = K.sum(K.round(K.clip(y_pred, 0 ,1)))\n",
        "  precision = true_positives / (predicted_positives + K.epsilon())\n",
        "  return precision\n",
        "\n",
        "def f1_m(y_true, y_pred):\n",
        "  precision = precision_m(y_true, y_pred)\n",
        "  recall = recall_m(y_true, y_pred)\n",
        "  return 2*((precision*recall)/(precision+recall+K.epsilon()))"
      ],
      "execution_count": 0,
      "outputs": []
    },
    {
      "cell_type": "code",
      "metadata": {
        "id": "A5x5XIbPzhJw",
        "colab_type": "code",
        "colab": {}
      },
      "source": [
        "#import for building the model\n",
        "from keras.models import Sequential\n",
        "from keras import layers\n",
        "from keras.metrics import categorical_accuracy\n",
        "from keras.layers import Dense, Conv1D, Conv2D ,Flatten, MaxPooling1D, MaxPooling2D,Dropout\n",
        "from keras.layers import Activation, GlobalMaxPooling1D\n",
        "from keras.layers import LeakyReLU\n",
        "from keras import optimizers"
      ],
      "execution_count": 0,
      "outputs": []
    },
    {
      "cell_type": "code",
      "metadata": {
        "id": "3wDHfISYzihl",
        "colab_type": "code",
        "colab": {}
      },
      "source": [
        "#Model Defination\n",
        "#Ref:\n",
        "#https://github.com/joseph10081987/Machine-Learning_new/blob/master/Movie%20Review_DL.ipynb\n",
        "#https://datascience.stackexchange.com/questions/10048/what-is-the-best-keras-model-for-multi-class-classification\n",
        "\n",
        "cnnmodel = Sequential()\n",
        "cnnmodel.add(Conv1D(filters=32, kernel_size=2, activation='relu',input_shape=(x_train_np.shape[1],x_train_np.shape[2])))\n",
        "cnnmodel.add(MaxPooling1D(pool_size=2))\n",
        "cnnmodel.add(Dropout(rate=0.2))\n",
        "cnnmodel.add(Conv1D(filters=64, kernel_size=2, activation='relu'))\n",
        "cnnmodel.add(MaxPooling1D(pool_size=2))\n",
        "cnnmodel.add(Dropout(rate=0.2))\n",
        "cnnmodel.add(Flatten())\n",
        "cnnmodel.add(layers.Dense(5, activation='softmax'))"
      ],
      "execution_count": 0,
      "outputs": []
    },
    {
      "cell_type": "code",
      "metadata": {
        "id": "OQu0K3fCzouo",
        "colab_type": "code",
        "outputId": "e2c91e9e-c06f-4547-d705-912b6f5c2670",
        "colab": {
          "base_uri": "https://localhost:8080/",
          "height": 466
        }
      },
      "source": [
        "#Compile the model\n",
        "cnnmodel.compile(optimizer='adam',loss='categorical_crossentropy', metrics=['accuracy',f1_m,precision_m,recall_m])\n",
        "cnnmodel.summary()"
      ],
      "execution_count": 72,
      "outputs": [
        {
          "output_type": "stream",
          "text": [
            "Model: \"sequential_2\"\n",
            "_________________________________________________________________\n",
            "Layer (type)                 Output Shape              Param #   \n",
            "=================================================================\n",
            "conv1d_3 (Conv1D)            (None, 2999, 32)          96        \n",
            "_________________________________________________________________\n",
            "max_pooling1d_3 (MaxPooling1 (None, 1499, 32)          0         \n",
            "_________________________________________________________________\n",
            "dropout_3 (Dropout)          (None, 1499, 32)          0         \n",
            "_________________________________________________________________\n",
            "conv1d_4 (Conv1D)            (None, 1498, 64)          4160      \n",
            "_________________________________________________________________\n",
            "max_pooling1d_4 (MaxPooling1 (None, 749, 64)           0         \n",
            "_________________________________________________________________\n",
            "dropout_4 (Dropout)          (None, 749, 64)           0         \n",
            "_________________________________________________________________\n",
            "flatten_2 (Flatten)          (None, 47936)             0         \n",
            "_________________________________________________________________\n",
            "dense_2 (Dense)              (None, 5)                 239685    \n",
            "=================================================================\n",
            "Total params: 243,941\n",
            "Trainable params: 243,941\n",
            "Non-trainable params: 0\n",
            "_________________________________________________________________\n"
          ],
          "name": "stdout"
        }
      ]
    },
    {
      "cell_type": "code",
      "metadata": {
        "id": "WdfNfFz5ztjk",
        "colab_type": "code",
        "outputId": "25dab989-4b56-4692-9f08-d6d88bb960cd",
        "colab": {
          "base_uri": "https://localhost:8080/",
          "height": 991
        }
      },
      "source": [
        "#Train the model\n",
        "modelhistory= cnnmodel.fit(x_train_np, y_train_np, epochs=25, verbose=1, validation_split=0.2, batch_size = 64)"
      ],
      "execution_count": 73,
      "outputs": [
        {
          "output_type": "stream",
          "text": [
            "Train on 87393 samples, validate on 21849 samples\n",
            "Epoch 1/25\n",
            "87393/87393 [==============================] - 14s 162us/step - loss: 1.1368 - acc: 0.5531 - f1_m: 0.4749 - precision_m: 0.6253 - recall_m: 0.3903 - val_loss: 1.0664 - val_acc: 0.5754 - val_f1_m: 0.5346 - val_precision_m: 0.6510 - val_recall_m: 0.4548\n",
            "Epoch 2/25\n",
            "87393/87393 [==============================] - 14s 159us/step - loss: 1.0375 - acc: 0.5915 - f1_m: 0.5392 - precision_m: 0.6639 - recall_m: 0.4561 - val_loss: 1.0364 - val_acc: 0.5901 - val_f1_m: 0.5390 - val_precision_m: 0.6697 - val_recall_m: 0.4524\n",
            "Epoch 3/25\n",
            "87393/87393 [==============================] - 14s 161us/step - loss: 1.0104 - acc: 0.6025 - f1_m: 0.5556 - precision_m: 0.6705 - recall_m: 0.4759 - val_loss: 1.0295 - val_acc: 0.5955 - val_f1_m: 0.5360 - val_precision_m: 0.6774 - val_recall_m: 0.4450\n",
            "Epoch 4/25\n",
            "87393/87393 [==============================] - 14s 159us/step - loss: 0.9995 - acc: 0.6045 - f1_m: 0.5589 - precision_m: 0.6711 - recall_m: 0.4805 - val_loss: 1.0237 - val_acc: 0.5965 - val_f1_m: 0.5506 - val_precision_m: 0.6626 - val_recall_m: 0.4720\n",
            "Epoch 5/25\n",
            "87393/87393 [==============================] - 14s 159us/step - loss: 0.9870 - acc: 0.6088 - f1_m: 0.5661 - precision_m: 0.6750 - recall_m: 0.4889 - val_loss: 1.0217 - val_acc: 0.5969 - val_f1_m: 0.5601 - val_precision_m: 0.6639 - val_recall_m: 0.4855\n",
            "Epoch 6/25\n",
            "87393/87393 [==============================] - 14s 158us/step - loss: 0.9803 - acc: 0.6134 - f1_m: 0.5715 - precision_m: 0.6769 - recall_m: 0.4960 - val_loss: 1.0174 - val_acc: 0.6020 - val_f1_m: 0.5480 - val_precision_m: 0.6789 - val_recall_m: 0.4608\n",
            "Epoch 7/25\n",
            "87393/87393 [==============================] - 14s 163us/step - loss: 0.9748 - acc: 0.6149 - f1_m: 0.5733 - precision_m: 0.6777 - recall_m: 0.4982 - val_loss: 1.0147 - val_acc: 0.5968 - val_f1_m: 0.5561 - val_precision_m: 0.6685 - val_recall_m: 0.4773\n",
            "Epoch 8/25\n",
            "87393/87393 [==============================] - 14s 164us/step - loss: 0.9699 - acc: 0.6157 - f1_m: 0.5750 - precision_m: 0.6781 - recall_m: 0.5005 - val_loss: 1.0158 - val_acc: 0.6030 - val_f1_m: 0.5532 - val_precision_m: 0.6699 - val_recall_m: 0.4723\n",
            "Epoch 9/25\n",
            "87393/87393 [==============================] - 15s 167us/step - loss: 0.9651 - acc: 0.6174 - f1_m: 0.5810 - precision_m: 0.6811 - recall_m: 0.5078 - val_loss: 1.0152 - val_acc: 0.5977 - val_f1_m: 0.5686 - val_precision_m: 0.6577 - val_recall_m: 0.5018\n",
            "Epoch 10/25\n",
            "87393/87393 [==============================] - 14s 163us/step - loss: 0.9621 - acc: 0.6188 - f1_m: 0.5814 - precision_m: 0.6805 - recall_m: 0.5088 - val_loss: 1.0113 - val_acc: 0.6011 - val_f1_m: 0.5573 - val_precision_m: 0.6717 - val_recall_m: 0.4774\n",
            "Epoch 11/25\n",
            "87393/87393 [==============================] - 14s 162us/step - loss: 0.9600 - acc: 0.6195 - f1_m: 0.5818 - precision_m: 0.6809 - recall_m: 0.5091 - val_loss: 1.0083 - val_acc: 0.6056 - val_f1_m: 0.5664 - val_precision_m: 0.6676 - val_recall_m: 0.4929\n",
            "Epoch 12/25\n",
            "87393/87393 [==============================] - 14s 162us/step - loss: 0.9574 - acc: 0.6204 - f1_m: 0.5850 - precision_m: 0.6839 - recall_m: 0.5124 - val_loss: 1.0077 - val_acc: 0.6043 - val_f1_m: 0.5597 - val_precision_m: 0.6694 - val_recall_m: 0.4821\n",
            "Epoch 13/25\n",
            "87393/87393 [==============================] - 14s 162us/step - loss: 0.9548 - acc: 0.6218 - f1_m: 0.5850 - precision_m: 0.6819 - recall_m: 0.5134 - val_loss: 1.0098 - val_acc: 0.6057 - val_f1_m: 0.5677 - val_precision_m: 0.6688 - val_recall_m: 0.4943\n",
            "Epoch 14/25\n",
            "87393/87393 [==============================] - 14s 162us/step - loss: 0.9522 - acc: 0.6231 - f1_m: 0.5871 - precision_m: 0.6842 - recall_m: 0.5153 - val_loss: 1.0103 - val_acc: 0.6015 - val_f1_m: 0.5710 - val_precision_m: 0.6617 - val_recall_m: 0.5032\n",
            "Epoch 15/25\n",
            "87393/87393 [==============================] - 14s 161us/step - loss: 0.9511 - acc: 0.6230 - f1_m: 0.5860 - precision_m: 0.6829 - recall_m: 0.5144 - val_loss: 1.0084 - val_acc: 0.6049 - val_f1_m: 0.5651 - val_precision_m: 0.6696 - val_recall_m: 0.4900\n",
            "Epoch 16/25\n",
            "87393/87393 [==============================] - 14s 161us/step - loss: 0.9499 - acc: 0.6242 - f1_m: 0.5887 - precision_m: 0.6833 - recall_m: 0.5184 - val_loss: 1.0063 - val_acc: 0.6055 - val_f1_m: 0.5701 - val_precision_m: 0.6665 - val_recall_m: 0.4992\n",
            "Epoch 17/25\n",
            "87393/87393 [==============================] - 14s 159us/step - loss: 0.9473 - acc: 0.6238 - f1_m: 0.5883 - precision_m: 0.6831 - recall_m: 0.5180 - val_loss: 1.0087 - val_acc: 0.6042 - val_f1_m: 0.5714 - val_precision_m: 0.6651 - val_recall_m: 0.5019\n",
            "Epoch 18/25\n",
            "87393/87393 [==============================] - 14s 160us/step - loss: 0.9455 - acc: 0.6243 - f1_m: 0.5903 - precision_m: 0.6844 - recall_m: 0.5202 - val_loss: 1.0083 - val_acc: 0.6046 - val_f1_m: 0.5609 - val_precision_m: 0.6698 - val_recall_m: 0.4836\n",
            "Epoch 19/25\n",
            "87393/87393 [==============================] - 14s 159us/step - loss: 0.9445 - acc: 0.6253 - f1_m: 0.5902 - precision_m: 0.6856 - recall_m: 0.5195 - val_loss: 1.0077 - val_acc: 0.6075 - val_f1_m: 0.5694 - val_precision_m: 0.6664 - val_recall_m: 0.4980\n",
            "Epoch 20/25\n",
            "87393/87393 [==============================] - 14s 160us/step - loss: 0.9422 - acc: 0.6274 - f1_m: 0.5924 - precision_m: 0.6860 - recall_m: 0.5224 - val_loss: 1.0078 - val_acc: 0.6043 - val_f1_m: 0.5672 - val_precision_m: 0.6663 - val_recall_m: 0.4949\n",
            "Epoch 21/25\n",
            "87393/87393 [==============================] - 14s 161us/step - loss: 0.9404 - acc: 0.6275 - f1_m: 0.5940 - precision_m: 0.6869 - recall_m: 0.5244 - val_loss: 1.0072 - val_acc: 0.6039 - val_f1_m: 0.5702 - val_precision_m: 0.6677 - val_recall_m: 0.4987\n",
            "Epoch 22/25\n",
            "87393/87393 [==============================] - 14s 158us/step - loss: 0.9398 - acc: 0.6278 - f1_m: 0.5937 - precision_m: 0.6873 - recall_m: 0.5238 - val_loss: 1.0093 - val_acc: 0.6062 - val_f1_m: 0.5690 - val_precision_m: 0.6643 - val_recall_m: 0.4987\n",
            "Epoch 23/25\n",
            "87393/87393 [==============================] - 14s 158us/step - loss: 0.9372 - acc: 0.6290 - f1_m: 0.5962 - precision_m: 0.6880 - recall_m: 0.5272 - val_loss: 1.0046 - val_acc: 0.6081 - val_f1_m: 0.5713 - val_precision_m: 0.6678 - val_recall_m: 0.5002\n",
            "Epoch 24/25\n",
            "87393/87393 [==============================] - 14s 158us/step - loss: 0.9351 - acc: 0.6295 - f1_m: 0.5966 - precision_m: 0.6876 - recall_m: 0.5280 - val_loss: 1.0068 - val_acc: 0.6073 - val_f1_m: 0.5700 - val_precision_m: 0.6651 - val_recall_m: 0.4997\n",
            "Epoch 25/25\n",
            "87393/87393 [==============================] - 14s 158us/step - loss: 0.9352 - acc: 0.6301 - f1_m: 0.5960 - precision_m: 0.6861 - recall_m: 0.5281 - val_loss: 1.0059 - val_acc: 0.6099 - val_f1_m: 0.5777 - val_precision_m: 0.6639 - val_recall_m: 0.5123\n"
          ],
          "name": "stdout"
        }
      ]
    },
    {
      "cell_type": "code",
      "metadata": {
        "id": "Z2YG7UZIDUU4",
        "colab_type": "code",
        "colab": {
          "base_uri": "https://localhost:8080/",
          "height": 573
        },
        "outputId": "25731522-07c2-4ad3-cd9d-9680a2aa6fde"
      },
      "source": [
        "import matplotlib.pyplot as plt\n",
        "\n",
        "# Plot training & validation accuracy values\n",
        "plt.plot(modelhistory.history['acc'])\n",
        "plt.plot(modelhistory.history['val_acc'])\n",
        "plt.title('Model accuracy')\n",
        "plt.ylabel('Accuracy')\n",
        "plt.xlabel('Epoch')\n",
        "plt.legend(['Train', 'Validation'], loc='upper left')\n",
        "#plt.savefig('/content/drive/My Drive/NLP_Assignment_2/Accuracy.png', format='png', dpi=1200)\n",
        "plt.show()\n",
        "\n",
        "\n",
        "# Plot training & validation loss values\n",
        "plt.plot(modelhistory.history['loss'])\n",
        "plt.plot(modelhistory.history['val_loss'])\n",
        "plt.title('Model loss')\n",
        "plt.ylabel('Loss')\n",
        "plt.xlabel('Epoch')\n",
        "plt.legend(['Train', 'Validation'], loc='upper left')\n",
        "#plt.savefig('/content/drive/My Drive/NLP_Assignment_2/Loss.png', format='png', dpi=1200)\n",
        "plt.show()\n"
      ],
      "execution_count": 74,
      "outputs": [
        {
          "output_type": "display_data",
          "data": {
            "image/png": "[encoded data removed]",
            "text/plain": [
              "<Figure size 432x288 with 1 Axes>"
            ]
          },
          "metadata": {
            "tags": []
          }
        },
        {
          "output_type": "display_data",
          "data": {
            "image/png": "[encoded data removed]",
            "text/plain": [
              "<Figure size 432x288 with 1 Axes>"
            ]
          },
          "metadata": {
            "tags": []
          }
        }
      ]
    },
    {
      "cell_type": "code",
      "metadata": {
        "id": "HbcrsODuvFja",
        "colab_type": "code",
        "colab": {
          "base_uri": "https://localhost:8080/",
          "height": 111
        },
        "outputId": "68db113c-4e43-4dcc-b395-61fe634304cd"
      },
      "source": [
        "#Save Model\n",
        "#!apt-get install libhdf5-serial-dev\n",
        "#import h5py\n",
        "#cnnmodel.save('/content/drive/My Drive/NLP_Assignment_2/0892691_1dconv_reg.h5')"
      ],
      "execution_count": 75,
      "outputs": [
        {
          "output_type": "stream",
          "text": [
            "Reading package lists... Done\n",
            "Building dependency tree       \n",
            "Reading state information... Done\n",
            "libhdf5-serial-dev is already the newest version (1.10.0-patch1+docs-4).\n",
            "0 upgraded, 0 newly installed, 0 to remove and 25 not upgraded.\n"
          ],
          "name": "stdout"
        }
      ]
    },
    {
      "cell_type": "code",
      "metadata": {
        "id": "XrTrXAWDBevz",
        "colab_type": "code",
        "colab": {
          "base_uri": "https://localhost:8080/",
          "height": 363
        },
        "outputId": "52cffcd3-0a8c-44df-8fb9-543bab9d7dda"
      },
      "source": [
        "#Creat dataframe for testdata\n",
        "temp_test=pd.concat([X_test,Y_test],axis=1)\n",
        "temp_test.head(10)"
      ],
      "execution_count": 76,
      "outputs": [
        {
          "output_type": "execute_result",
          "data": {
            "text/html": [
              "<div>\n",
              "<style scoped>\n",
              "    .dataframe tbody tr th:only-of-type {\n",
              "        vertical-align: middle;\n",
              "    }\n",
              "\n",
              "    .dataframe tbody tr th {\n",
              "        vertical-align: top;\n",
              "    }\n",
              "\n",
              "    .dataframe thead th {\n",
              "        text-align: right;\n",
              "    }\n",
              "</style>\n",
              "<table border=\"1\" class=\"dataframe\">\n",
              "  <thead>\n",
              "    <tr style=\"text-align: right;\">\n",
              "      <th></th>\n",
              "      <th>Phrase</th>\n",
              "      <th>Sentiment</th>\n",
              "    </tr>\n",
              "  </thead>\n",
              "  <tbody>\n",
              "    <tr>\n",
              "      <th>13510</th>\n",
              "      <td>veteran</td>\n",
              "      <td>3</td>\n",
              "    </tr>\n",
              "    <tr>\n",
              "      <th>61932</th>\n",
              "      <td>many definitions</td>\n",
              "      <td>2</td>\n",
              "    </tr>\n",
              "    <tr>\n",
              "      <th>82549</th>\n",
              "      <td>a worthwhile glimpse</td>\n",
              "      <td>3</td>\n",
              "    </tr>\n",
              "    <tr>\n",
              "      <th>137718</th>\n",
              "      <td>past Seagal films</td>\n",
              "      <td>2</td>\n",
              "    </tr>\n",
              "    <tr>\n",
              "      <th>121990</th>\n",
              "      <td>banal script</td>\n",
              "      <td>1</td>\n",
              "    </tr>\n",
              "    <tr>\n",
              "      <th>3045</th>\n",
              "      <td>a surge through swirling rapids or a leap from...</td>\n",
              "      <td>2</td>\n",
              "    </tr>\n",
              "    <tr>\n",
              "      <th>64342</th>\n",
              "      <td>does n't really deliver for country music fans...</td>\n",
              "      <td>1</td>\n",
              "    </tr>\n",
              "    <tr>\n",
              "      <th>125461</th>\n",
              "      <td>backed off</td>\n",
              "      <td>1</td>\n",
              "    </tr>\n",
              "    <tr>\n",
              "      <th>49978</th>\n",
              "      <td>required reading</td>\n",
              "      <td>2</td>\n",
              "    </tr>\n",
              "    <tr>\n",
              "      <th>138979</th>\n",
              "      <td>the protagonists ' bohemian boorishness</td>\n",
              "      <td>1</td>\n",
              "    </tr>\n",
              "  </tbody>\n",
              "</table>\n",
              "</div>"
            ],
            "text/plain": [
              "                                                   Phrase  Sentiment\n",
              "13510                                             veteran          3\n",
              "61932                                    many definitions          2\n",
              "82549                                a worthwhile glimpse          3\n",
              "137718                                  past Seagal films          2\n",
              "121990                                       banal script          1\n",
              "3045    a surge through swirling rapids or a leap from...          2\n",
              "64342   does n't really deliver for country music fans...          1\n",
              "125461                                         backed off          1\n",
              "49978                                    required reading          2\n",
              "138979            the protagonists ' bohemian boorishness          1"
            ]
          },
          "metadata": {
            "tags": []
          },
          "execution_count": 76
        }
      ]
    },
    {
      "cell_type": "code",
      "metadata": {
        "id": "x5lXgODxB4p3",
        "colab_type": "code",
        "colab": {}
      },
      "source": [
        "#Test data cleaning\n",
        "clean_x_test=datacleaning(True,False,True,True,X_test)"
      ],
      "execution_count": 0,
      "outputs": []
    },
    {
      "cell_type": "code",
      "metadata": {
        "id": "UqxSy1zCB6E_",
        "colab_type": "code",
        "colab": {}
      },
      "source": [
        "#Concat clean data\n",
        "temp_test['CleanedTest']=clean_x_test"
      ],
      "execution_count": 0,
      "outputs": []
    },
    {
      "cell_type": "code",
      "metadata": {
        "id": "8KFWOZ25COkr",
        "colab_type": "code",
        "colab": {
          "base_uri": "https://localhost:8080/",
          "height": 36
        },
        "outputId": "25d17bcb-ac71-468d-b859-66b2983de13c"
      },
      "source": [
        "temp_test.shape"
      ],
      "execution_count": 79,
      "outputs": [
        {
          "output_type": "execute_result",
          "data": {
            "text/plain": [
              "(46818, 3)"
            ]
          },
          "metadata": {
            "tags": []
          },
          "execution_count": 79
        }
      ]
    },
    {
      "cell_type": "code",
      "metadata": {
        "id": "8rznCI4nCAQ4",
        "colab_type": "code",
        "colab": {
          "base_uri": "https://localhost:8080/",
          "height": 363
        },
        "outputId": "d55b49c2-90aa-4395-880a-79c5254c35cc"
      },
      "source": [
        "temp_test.head(10)"
      ],
      "execution_count": 80,
      "outputs": [
        {
          "output_type": "execute_result",
          "data": {
            "text/html": [
              "<div>\n",
              "<style scoped>\n",
              "    .dataframe tbody tr th:only-of-type {\n",
              "        vertical-align: middle;\n",
              "    }\n",
              "\n",
              "    .dataframe tbody tr th {\n",
              "        vertical-align: top;\n",
              "    }\n",
              "\n",
              "    .dataframe thead th {\n",
              "        text-align: right;\n",
              "    }\n",
              "</style>\n",
              "<table border=\"1\" class=\"dataframe\">\n",
              "  <thead>\n",
              "    <tr style=\"text-align: right;\">\n",
              "      <th></th>\n",
              "      <th>Phrase</th>\n",
              "      <th>Sentiment</th>\n",
              "      <th>CleanedTest</th>\n",
              "    </tr>\n",
              "  </thead>\n",
              "  <tbody>\n",
              "    <tr>\n",
              "      <th>13510</th>\n",
              "      <td>veteran</td>\n",
              "      <td>3</td>\n",
              "      <td>veteran</td>\n",
              "    </tr>\n",
              "    <tr>\n",
              "      <th>61932</th>\n",
              "      <td>many definitions</td>\n",
              "      <td>2</td>\n",
              "      <td>many definition</td>\n",
              "    </tr>\n",
              "    <tr>\n",
              "      <th>82549</th>\n",
              "      <td>a worthwhile glimpse</td>\n",
              "      <td>3</td>\n",
              "      <td>worthwhile glimpse</td>\n",
              "    </tr>\n",
              "    <tr>\n",
              "      <th>137718</th>\n",
              "      <td>past Seagal films</td>\n",
              "      <td>2</td>\n",
              "      <td>past seagal film</td>\n",
              "    </tr>\n",
              "    <tr>\n",
              "      <th>121990</th>\n",
              "      <td>banal script</td>\n",
              "      <td>1</td>\n",
              "      <td>banal script</td>\n",
              "    </tr>\n",
              "    <tr>\n",
              "      <th>3045</th>\n",
              "      <td>a surge through swirling rapids or a leap from...</td>\n",
              "      <td>2</td>\n",
              "      <td>surge swirling rapid leap pinnacle pinnacle</td>\n",
              "    </tr>\n",
              "    <tr>\n",
              "      <th>64342</th>\n",
              "      <td>does n't really deliver for country music fans...</td>\n",
              "      <td>1</td>\n",
              "      <td>n't really deliver country music fan family au...</td>\n",
              "    </tr>\n",
              "    <tr>\n",
              "      <th>125461</th>\n",
              "      <td>backed off</td>\n",
              "      <td>1</td>\n",
              "      <td>backed</td>\n",
              "    </tr>\n",
              "    <tr>\n",
              "      <th>49978</th>\n",
              "      <td>required reading</td>\n",
              "      <td>2</td>\n",
              "      <td>required reading</td>\n",
              "    </tr>\n",
              "    <tr>\n",
              "      <th>138979</th>\n",
              "      <td>the protagonists ' bohemian boorishness</td>\n",
              "      <td>1</td>\n",
              "      <td>protagonist bohemian boorishness</td>\n",
              "    </tr>\n",
              "  </tbody>\n",
              "</table>\n",
              "</div>"
            ],
            "text/plain": [
              "                                                   Phrase  ...                                        CleanedTest\n",
              "13510                                             veteran  ...                                            veteran\n",
              "61932                                    many definitions  ...                                    many definition\n",
              "82549                                a worthwhile glimpse  ...                                 worthwhile glimpse\n",
              "137718                                  past Seagal films  ...                                   past seagal film\n",
              "121990                                       banal script  ...                                       banal script\n",
              "3045    a surge through swirling rapids or a leap from...  ...        surge swirling rapid leap pinnacle pinnacle\n",
              "64342   does n't really deliver for country music fans...  ...  n't really deliver country music fan family au...\n",
              "125461                                         backed off  ...                                             backed\n",
              "49978                                    required reading  ...                                   required reading\n",
              "138979            the protagonists ' bohemian boorishness  ...                   protagonist bohemian boorishness\n",
              "\n",
              "[10 rows x 3 columns]"
            ]
          },
          "metadata": {
            "tags": []
          },
          "execution_count": 80
        }
      ]
    },
    {
      "cell_type": "code",
      "metadata": {
        "id": "G5XdsFjYCNp7",
        "colab_type": "code",
        "colab": {}
      },
      "source": [
        "#vectorise test data\n",
        "x_test = vectorizer_tfid.transform(temp_test['CleanedTest'])\n",
        "y_test = temp_test['Sentiment']"
      ],
      "execution_count": 0,
      "outputs": []
    },
    {
      "cell_type": "code",
      "metadata": {
        "id": "shgdDJI6CflM",
        "colab_type": "code",
        "colab": {}
      },
      "source": [
        "# Convert the testing data\n",
        "x_test_np = x_test.toarray()\n",
        "y_test_np = np.array(y_test)"
      ],
      "execution_count": 0,
      "outputs": []
    },
    {
      "cell_type": "code",
      "metadata": {
        "id": "7uUVK7NKB0Gj",
        "colab_type": "code",
        "colab": {
          "base_uri": "https://localhost:8080/",
          "height": 54
        },
        "outputId": "0f60f87c-9a3f-465b-fcdd-b0213923e06a"
      },
      "source": [
        "#reshape the test data and conver sentiment to categorical\n",
        "x_test_np=x_test_np.reshape(x_test_np.shape[0],x_test_np.shape[1],1)\n",
        "print(x_test_np.shape)\n",
        "y_test_np = to_categorical(y_test_np)\n",
        "print(y_test_np.shape)"
      ],
      "execution_count": 83,
      "outputs": [
        {
          "output_type": "stream",
          "text": [
            "(46818, 3000, 1)\n",
            "(46818, 5)\n"
          ],
          "name": "stdout"
        }
      ]
    },
    {
      "cell_type": "code",
      "metadata": {
        "id": "zIh74ZoMC23e",
        "colab_type": "code",
        "colab": {
          "base_uri": "https://localhost:8080/",
          "height": 148
        },
        "outputId": "606fb784-0434-4465-86cf-54fe104976bc"
      },
      "source": [
        "#testing results\n",
        "print(cnnmodel.metrics_names)\n",
        "cnnmodel.evaluate(x_test_np, y_test_np)"
      ],
      "execution_count": 84,
      "outputs": [
        {
          "output_type": "stream",
          "text": [
            "['loss', 'acc', 'f1_m', 'precision_m', 'recall_m']\n",
            "46818/46818 [==============================] - 4s 92us/step\n"
          ],
          "name": "stdout"
        },
        {
          "output_type": "execute_result",
          "data": {
            "text/plain": [
              "[1.0043735486123098,\n",
              " 0.6102140202486224,\n",
              " 0.5803372312719571,\n",
              " 0.6663310128247459,\n",
              " 0.5161262762185485]"
            ]
          },
          "metadata": {
            "tags": []
          },
          "execution_count": 84
        }
      ]
    }
  ]
}